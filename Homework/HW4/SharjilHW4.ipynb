{
 "cells": [
  {
   "cell_type": "markdown",
   "metadata": {},
   "source": [
    "## IMPORT LIBRARIES"
   ]
  },
  {
   "cell_type": "code",
   "execution_count": 59,
   "metadata": {},
   "outputs": [],
   "source": [
    "import pandas as pd\n",
    "import numpy as np\n",
    "import pandas_profiling\n",
    "\n",
    "from sklearn.ensemble import RandomForestClassifier\n",
    "from sklearn.model_selection import cross_val_score\n",
    "from sklearn.metrics import accuracy_score\n",
    "from sklearn.model_selection import GridSearchCV\n",
    "from sklearn.metrics import f1_score\n",
    "from sklearn.model_selection import train_test_split\n",
    "\n",
    "import seaborn as sns\n",
    "import matplotlib.pyplot as plt\n",
    "from matplotlib.colors import ListedColormap\n",
    "%matplotlib inline\n",
    "\n",
    "from numpy import loadtxt\n",
    "import xgboost as xgb\n",
    "from sklearn.metrics import mean_squared_error\n",
    "from sklearn.model_selection import GridSearchCV\n",
    "from sklearn.preprocessing import label_binarize\n",
    "from sklearn.metrics import roc_curve, auc\n",
    "from sklearn import metrics\n",
    "\n",
    "from sklearn.discriminant_analysis import LinearDiscriminantAnalysis\n",
    "from sklearn.linear_model import LogisticRegression\n",
    "from sklearn.discriminant_analysis import QuadraticDiscriminantAnalysis\n",
    "from sklearn.neighbors import KNeighborsClassifier\n",
    "\n",
    "import re\n",
    "# Going to use these 5 base models for the stacking\n",
    "from sklearn.ensemble import (RandomForestClassifier, AdaBoostClassifier, \n",
    "                              GradientBoostingClassifier, ExtraTreesClassifier)\n",
    "from sklearn.model_selection import KFold\n",
    "\n",
    "# \"Support Vector Classifier\" \n",
    "from sklearn.svm import SVC \n",
    "import sklearn.linear_model\n",
    "import sklearn.svm\n",
    "\n",
    "from sklearn.decomposition import PCA\n",
    "from sklearn.linear_model import LogisticRegression\n",
    "from sklearn.pipeline import Pipeline\n",
    "\n",
    "from sklearn.naive_bayes import GaussianNB\n",
    "\n",
    "dark2_colors = [(0.10588235294117647, 0.6196078431372549, 0.4666666666666667),\n",
    "                (0.9058823529411765, 0.1607843137254902, 0.5411764705882353),\n",
    "                (0.8509803921568627, 0.37254901960784315, 0.00784313725490196),\n",
    "                (0.4588235294117647, 0.4392156862745098, 0.7019607843137254),            \n",
    "                (0.4, 0.6509803921568628, 0.11764705882352941),\n",
    "                (0.9019607843137255, 0.6705882352941176, 0.00784313725490196),\n",
    "                (0.6509803921568628, 0.4627450980392157, 0.11372549019607843)]\n",
    "\n",
    "dark2_cmap=ListedColormap(dark2_colors)\n",
    "from sklearn.metrics import roc_curve, auc, precision_recall_curve, average_precision_score, roc_auc_score\n",
    "from sklearn.metrics import confusion_matrix, precision_recall_fscore_support, accuracy_score\n",
    "\n",
    "import warnings\n",
    "from sklearn.preprocessing import StandardScaler\n",
    "\n",
    "from imblearn.over_sampling import SMOTE"
   ]
  },
  {
   "cell_type": "markdown",
   "metadata": {},
   "source": [
    "## SOME HELPER FUNCTIONS"
   ]
  },
  {
   "cell_type": "code",
   "execution_count": 8,
   "metadata": {},
   "outputs": [],
   "source": [
    "targets = ['zeros', 'ones']\n",
    "def show_confusion_matrix(cm, target_names):\n",
    "    plt.figure(figsize=(5, 5))\n",
    "    plt.imshow(cm, interpolation='nearest', cmap=plt.cm.binary)\n",
    "    plt.title('Confusion matrix')\n",
    "    plt.set_cmap('Blues')\n",
    "    plt.colorbar()\n",
    "    tick_marks = np.arange(len(target_names))\n",
    "    plt.xticks(tick_marks, target_names, rotation=60)\n",
    "    plt.yticks(tick_marks, target_names)\n",
    "    plt.ylabel('True label')\n",
    "    plt.xlabel('Predicted label')\n",
    "    plt.show()\n",
    "\n",
    "def print_stats(clf, x_train, x_test, y_train, y_test):\n",
    "    clf.fit(x_train, y_train)\n",
    "    y_pred = clf.predict(x_train)\n",
    "\n",
    "    print(\"Number of mislabeled points out of a total %d training points : %d\"\n",
    "          % (x_train.shape[0],(y_train != y_pred).sum()))\n",
    "    # Output the hit-rate and the confusion matrix for the training set\n",
    "    print((\"The hit rate on the training set: \", clf.score(x_train, y_train)))\n",
    "    \n",
    "    #scores1 = cross_val_score(clf, X_train, y_train, cv=10, scoring = 'accuracy' , n_jobs = 1)\n",
    "    #scores2 = cross_val_score(clf, X_train, y_train, cv=10, scoring = 'f1' , n_jobs = 1)\n",
    "    report = precision_recall_fscore_support(y_train, y_pred, average='binary')\n",
    "    acc_score = accuracy_score(y_train, y_pred)\n",
    "    cm = confusion_matrix(y_pred, y_train)\n",
    "    specificity = cm[0][0]/ (cm[0][0] + cm[1][0])\n",
    "\n",
    "    print(\"\\nprecision = %0.3f, recall = %0.3f, specificity= %0.3f F1 = %0.3f, accuracy = %0.3f\" % \n",
    "          (report[0], report[1], specificity, report[2], acc_score))\n",
    "    #print(\"\\n10-fold CV mean accuracy = %0.3f, mean F1 = %0.3f\" % \n",
    "    #      (scores1.mean(), scores2.mean()))\n",
    "    print(pd.DataFrame(cm.astype(np.float64) / cm.sum(axis=1)),\"\\n\")\n",
    "    print(\"The confusion matrix on the training set: \\n\",pd.DataFrame(cm) )\n",
    "    show_confusion_matrix(cm, targets)\n",
    "\n",
    "    pred = clf.predict(x_test)\n",
    "    y_score = clf.predict_proba(x_test)[:,1]\n",
    "\n",
    "    print(\"Number of mislabeled points out of a total %d testing points : %d\"\n",
    "          % (x_test.shape[0],(y_test != pred).sum()))\n",
    "    # Output the hit-rate and the confusion matrix for the training set\n",
    "    print((\"The hit rate on the testing set: \", clf.score(x_test, y_test)))\n",
    "    report = precision_recall_fscore_support(y_test, pred, average='binary')\n",
    "    acc_score = accuracy_score(y_test, pred)\n",
    "    cm = confusion_matrix(pred, y_test)\n",
    "    specificity = cm[0][0]/ (cm[0][0] + cm[1][0])\n",
    "    \n",
    "    print(\"\\nprecision = %0.3f, recall = %0.3f, specificity= %0.3f F1 = %0.3f, accuracy = %0.3f\\n\" % \n",
    "          (report[0], report[1], specificity, report[2], acc_score))\n",
    "    print(\"*********** AUC for ROC = %0.3f *********************\\n\" % metrics.roc_auc_score(y_test, y_score))\n",
    "    print(pd.DataFrame(cm.astype(np.float64) / cm.sum(axis=1)),\"\\n\")\n",
    "    print(\"The confusion matrix on the testing set: \\n\",pd.DataFrame(cm) )\n",
    "    show_confusion_matrix(cm, targets)\n",
    "    \n",
    "    \n",
    "def generate_file (model, test_1, file_name):\n",
    "      preds = model.predict_proba(test_1) #submit these predictions\n",
    "      # TO CREATE THE FILE FROM PREDICTIONS, preds is returned by pred_proba\n",
    "      submithis = pd.DataFrame([test_1.index,preds[:,1]]).T\n",
    "      submithis.columns = ['id','output']\n",
    "      submithis.id = submithis.id.astype(int)\n",
    "      submithis.to_csv(file_name,index=False)  #~0.68756\n",
    "      return submithis\n",
    "    \n",
    "    \n"
   ]
  },
  {
   "cell_type": "markdown",
   "metadata": {},
   "source": [
    "## LOAD THE DATA AND SOME INITIAL DATA EXPLORATION"
   ]
  },
  {
   "cell_type": "code",
   "execution_count": 105,
   "metadata": {},
   "outputs": [],
   "source": [
    "# LOAD THE DATA\n",
    "train = pd.read_csv('data/train_data.csv')\n",
    "test = pd.read_csv('data/test_data.csv')"
   ]
  },
  {
   "cell_type": "code",
   "execution_count": 10,
   "metadata": {},
   "outputs": [
    {
     "name": "stdout",
     "output_type": "stream",
     "text": [
      "(4584, 670)\n",
      "(1732, 669)\n"
     ]
    }
   ],
   "source": [
    "print(train.shape)\n",
    "print(test.shape)"
   ]
  },
  {
   "cell_type": "code",
   "execution_count": 5,
   "metadata": {},
   "outputs": [],
   "source": [
    "#pandas_profiling.ProfileReport(train)"
   ]
  },
  {
   "cell_type": "code",
   "execution_count": 11,
   "metadata": {},
   "outputs": [
    {
     "data": {
      "text/html": [
       "<div>\n",
       "<style scoped>\n",
       "    .dataframe tbody tr th:only-of-type {\n",
       "        vertical-align: middle;\n",
       "    }\n",
       "\n",
       "    .dataframe tbody tr th {\n",
       "        vertical-align: top;\n",
       "    }\n",
       "\n",
       "    .dataframe thead th {\n",
       "        text-align: right;\n",
       "    }\n",
       "</style>\n",
       "<table border=\"1\" class=\"dataframe\">\n",
       "  <thead>\n",
       "    <tr style=\"text-align: right;\">\n",
       "      <th></th>\n",
       "      <th>x1</th>\n",
       "      <th>x2</th>\n",
       "      <th>x3</th>\n",
       "      <th>x4</th>\n",
       "      <th>x5</th>\n",
       "      <th>x6</th>\n",
       "      <th>x7</th>\n",
       "      <th>x8</th>\n",
       "      <th>x9</th>\n",
       "      <th>x10</th>\n",
       "      <th>...</th>\n",
       "      <th>z217</th>\n",
       "      <th>z218</th>\n",
       "      <th>z219</th>\n",
       "      <th>z220</th>\n",
       "      <th>z221</th>\n",
       "      <th>z222</th>\n",
       "      <th>subject</th>\n",
       "      <th>phase</th>\n",
       "      <th>state</th>\n",
       "      <th>output</th>\n",
       "    </tr>\n",
       "  </thead>\n",
       "  <tbody>\n",
       "    <tr>\n",
       "      <th>0</th>\n",
       "      <td>0</td>\n",
       "      <td>0</td>\n",
       "      <td>0</td>\n",
       "      <td>1</td>\n",
       "      <td>-323.106605</td>\n",
       "      <td>2.694366</td>\n",
       "      <td>-1.987520</td>\n",
       "      <td>261.092784</td>\n",
       "      <td>0.013704</td>\n",
       "      <td>0.000100</td>\n",
       "      <td>...</td>\n",
       "      <td>-0.004930</td>\n",
       "      <td>-0.005554</td>\n",
       "      <td>5.246375</td>\n",
       "      <td>-7.534092</td>\n",
       "      <td>3.530736</td>\n",
       "      <td>-0.539045</td>\n",
       "      <td>K</td>\n",
       "      <td>3</td>\n",
       "      <td>C</td>\n",
       "      <td>1</td>\n",
       "    </tr>\n",
       "    <tr>\n",
       "      <th>1</th>\n",
       "      <td>0</td>\n",
       "      <td>0</td>\n",
       "      <td>0</td>\n",
       "      <td>1</td>\n",
       "      <td>-376.084691</td>\n",
       "      <td>0.969696</td>\n",
       "      <td>-6.933765</td>\n",
       "      <td>355.311648</td>\n",
       "      <td>0.030292</td>\n",
       "      <td>-0.000153</td>\n",
       "      <td>...</td>\n",
       "      <td>0.022757</td>\n",
       "      <td>0.052506</td>\n",
       "      <td>-3.727741</td>\n",
       "      <td>-2.854443</td>\n",
       "      <td>-0.699268</td>\n",
       "      <td>-0.054074</td>\n",
       "      <td>A</td>\n",
       "      <td>4</td>\n",
       "      <td>C</td>\n",
       "      <td>1</td>\n",
       "    </tr>\n",
       "    <tr>\n",
       "      <th>2</th>\n",
       "      <td>0</td>\n",
       "      <td>0</td>\n",
       "      <td>0</td>\n",
       "      <td>0</td>\n",
       "      <td>91.955425</td>\n",
       "      <td>2.621643</td>\n",
       "      <td>-2.581162</td>\n",
       "      <td>51.357206</td>\n",
       "      <td>0.036668</td>\n",
       "      <td>-0.000104</td>\n",
       "      <td>...</td>\n",
       "      <td>-0.086813</td>\n",
       "      <td>-0.101497</td>\n",
       "      <td>-7.510594</td>\n",
       "      <td>19.564182</td>\n",
       "      <td>-17.008130</td>\n",
       "      <td>4.945392</td>\n",
       "      <td>D</td>\n",
       "      <td>3</td>\n",
       "      <td>C</td>\n",
       "      <td>1</td>\n",
       "    </tr>\n",
       "    <tr>\n",
       "      <th>3</th>\n",
       "      <td>0</td>\n",
       "      <td>0</td>\n",
       "      <td>0</td>\n",
       "      <td>1</td>\n",
       "      <td>-391.814586</td>\n",
       "      <td>1.866914</td>\n",
       "      <td>-2.510799</td>\n",
       "      <td>382.900317</td>\n",
       "      <td>0.007947</td>\n",
       "      <td>-0.000028</td>\n",
       "      <td>...</td>\n",
       "      <td>0.030856</td>\n",
       "      <td>-0.161398</td>\n",
       "      <td>-6.435819</td>\n",
       "      <td>2.174453</td>\n",
       "      <td>-0.153956</td>\n",
       "      <td>-0.003958</td>\n",
       "      <td>G</td>\n",
       "      <td>2</td>\n",
       "      <td>C</td>\n",
       "      <td>0</td>\n",
       "    </tr>\n",
       "    <tr>\n",
       "      <th>4</th>\n",
       "      <td>0</td>\n",
       "      <td>0</td>\n",
       "      <td>0</td>\n",
       "      <td>0</td>\n",
       "      <td>-363.823732</td>\n",
       "      <td>2.951346</td>\n",
       "      <td>-3.726368</td>\n",
       "      <td>330.527539</td>\n",
       "      <td>0.010074</td>\n",
       "      <td>-0.000004</td>\n",
       "      <td>...</td>\n",
       "      <td>-0.017226</td>\n",
       "      <td>-0.016454</td>\n",
       "      <td>-2.581403</td>\n",
       "      <td>3.011932</td>\n",
       "      <td>-1.281361</td>\n",
       "      <td>0.192647</td>\n",
       "      <td>C</td>\n",
       "      <td>2</td>\n",
       "      <td>C</td>\n",
       "      <td>1</td>\n",
       "    </tr>\n",
       "  </tbody>\n",
       "</table>\n",
       "<p>5 rows × 670 columns</p>\n",
       "</div>"
      ],
      "text/plain": [
       "   x1  x2  x3  x4          x5        x6        x7          x8        x9  \\\n",
       "0   0   0   0   1 -323.106605  2.694366 -1.987520  261.092784  0.013704   \n",
       "1   0   0   0   1 -376.084691  0.969696 -6.933765  355.311648  0.030292   \n",
       "2   0   0   0   0   91.955425  2.621643 -2.581162   51.357206  0.036668   \n",
       "3   0   0   0   1 -391.814586  1.866914 -2.510799  382.900317  0.007947   \n",
       "4   0   0   0   0 -363.823732  2.951346 -3.726368  330.527539  0.010074   \n",
       "\n",
       "        x10   ...        z217      z218      z219       z220       z221  \\\n",
       "0  0.000100   ...   -0.004930 -0.005554  5.246375  -7.534092   3.530736   \n",
       "1 -0.000153   ...    0.022757  0.052506 -3.727741  -2.854443  -0.699268   \n",
       "2 -0.000104   ...   -0.086813 -0.101497 -7.510594  19.564182 -17.008130   \n",
       "3 -0.000028   ...    0.030856 -0.161398 -6.435819   2.174453  -0.153956   \n",
       "4 -0.000004   ...   -0.017226 -0.016454 -2.581403   3.011932  -1.281361   \n",
       "\n",
       "       z222  subject  phase  state  output  \n",
       "0 -0.539045        K      3      C       1  \n",
       "1 -0.054074        A      4      C       1  \n",
       "2  4.945392        D      3      C       1  \n",
       "3 -0.003958        G      2      C       0  \n",
       "4  0.192647        C      2      C       1  \n",
       "\n",
       "[5 rows x 670 columns]"
      ]
     },
     "execution_count": 11,
     "metadata": {},
     "output_type": "execute_result"
    }
   ],
   "source": [
    "train.head()"
   ]
  },
  {
   "cell_type": "code",
   "execution_count": 12,
   "metadata": {},
   "outputs": [
    {
     "data": {
      "text/html": [
       "<div>\n",
       "<style scoped>\n",
       "    .dataframe tbody tr th:only-of-type {\n",
       "        vertical-align: middle;\n",
       "    }\n",
       "\n",
       "    .dataframe tbody tr th {\n",
       "        vertical-align: top;\n",
       "    }\n",
       "\n",
       "    .dataframe thead th {\n",
       "        text-align: right;\n",
       "    }\n",
       "</style>\n",
       "<table border=\"1\" class=\"dataframe\">\n",
       "  <thead>\n",
       "    <tr style=\"text-align: right;\">\n",
       "      <th></th>\n",
       "      <th>x1</th>\n",
       "      <th>x2</th>\n",
       "      <th>x3</th>\n",
       "      <th>x4</th>\n",
       "      <th>x5</th>\n",
       "      <th>x6</th>\n",
       "      <th>x7</th>\n",
       "      <th>x8</th>\n",
       "      <th>x9</th>\n",
       "      <th>x10</th>\n",
       "      <th>...</th>\n",
       "      <th>z216</th>\n",
       "      <th>z217</th>\n",
       "      <th>z218</th>\n",
       "      <th>z219</th>\n",
       "      <th>z220</th>\n",
       "      <th>z221</th>\n",
       "      <th>z222</th>\n",
       "      <th>subject</th>\n",
       "      <th>phase</th>\n",
       "      <th>state</th>\n",
       "    </tr>\n",
       "  </thead>\n",
       "  <tbody>\n",
       "    <tr>\n",
       "      <th>0</th>\n",
       "      <td>0</td>\n",
       "      <td>0</td>\n",
       "      <td>0</td>\n",
       "      <td>1</td>\n",
       "      <td>4.665949</td>\n",
       "      <td>0.083412</td>\n",
       "      <td>-17.397081</td>\n",
       "      <td>0.067865</td>\n",
       "      <td>0.005895</td>\n",
       "      <td>0.000012</td>\n",
       "      <td>...</td>\n",
       "      <td>-0.017574</td>\n",
       "      <td>-0.004402</td>\n",
       "      <td>0.016508</td>\n",
       "      <td>-540.645279</td>\n",
       "      <td>-1511.001159</td>\n",
       "      <td>-1408.385976</td>\n",
       "      <td>-437.807290</td>\n",
       "      <td>E</td>\n",
       "      <td>4</td>\n",
       "      <td>D</td>\n",
       "    </tr>\n",
       "    <tr>\n",
       "      <th>1</th>\n",
       "      <td>0</td>\n",
       "      <td>0</td>\n",
       "      <td>0</td>\n",
       "      <td>0</td>\n",
       "      <td>-398.299487</td>\n",
       "      <td>0.784032</td>\n",
       "      <td>-10.785768</td>\n",
       "      <td>403.784446</td>\n",
       "      <td>0.070405</td>\n",
       "      <td>0.000180</td>\n",
       "      <td>...</td>\n",
       "      <td>0.029533</td>\n",
       "      <td>0.113692</td>\n",
       "      <td>0.088024</td>\n",
       "      <td>-3.140961</td>\n",
       "      <td>-0.658456</td>\n",
       "      <td>-0.140010</td>\n",
       "      <td>-0.011017</td>\n",
       "      <td>H</td>\n",
       "      <td>4</td>\n",
       "      <td>D</td>\n",
       "    </tr>\n",
       "    <tr>\n",
       "      <th>2</th>\n",
       "      <td>0</td>\n",
       "      <td>0</td>\n",
       "      <td>0</td>\n",
       "      <td>1</td>\n",
       "      <td>-380.902140</td>\n",
       "      <td>0.671324</td>\n",
       "      <td>-9.265829</td>\n",
       "      <td>361.841929</td>\n",
       "      <td>0.006937</td>\n",
       "      <td>0.000025</td>\n",
       "      <td>...</td>\n",
       "      <td>-0.006361</td>\n",
       "      <td>0.005852</td>\n",
       "      <td>-0.003745</td>\n",
       "      <td>-14.340790</td>\n",
       "      <td>4.182214</td>\n",
       "      <td>-0.549953</td>\n",
       "      <td>0.019553</td>\n",
       "      <td>C</td>\n",
       "      <td>4</td>\n",
       "      <td>B</td>\n",
       "    </tr>\n",
       "    <tr>\n",
       "      <th>3</th>\n",
       "      <td>0</td>\n",
       "      <td>0</td>\n",
       "      <td>0</td>\n",
       "      <td>1</td>\n",
       "      <td>-342.784123</td>\n",
       "      <td>0.469414</td>\n",
       "      <td>-8.044287</td>\n",
       "      <td>293.043601</td>\n",
       "      <td>0.007217</td>\n",
       "      <td>-0.000021</td>\n",
       "      <td>...</td>\n",
       "      <td>0.001950</td>\n",
       "      <td>-0.003426</td>\n",
       "      <td>-0.011191</td>\n",
       "      <td>251.659680</td>\n",
       "      <td>-441.129598</td>\n",
       "      <td>256.986592</td>\n",
       "      <td>-49.745359</td>\n",
       "      <td>H</td>\n",
       "      <td>1</td>\n",
       "      <td>C</td>\n",
       "    </tr>\n",
       "    <tr>\n",
       "      <th>4</th>\n",
       "      <td>0</td>\n",
       "      <td>0</td>\n",
       "      <td>0</td>\n",
       "      <td>1</td>\n",
       "      <td>6.248502</td>\n",
       "      <td>0.252336</td>\n",
       "      <td>-5.398056</td>\n",
       "      <td>0.110097</td>\n",
       "      <td>0.005573</td>\n",
       "      <td>0.000010</td>\n",
       "      <td>...</td>\n",
       "      <td>-0.001916</td>\n",
       "      <td>-0.015666</td>\n",
       "      <td>-0.015960</td>\n",
       "      <td>-137.847658</td>\n",
       "      <td>-377.758402</td>\n",
       "      <td>-345.673251</td>\n",
       "      <td>-105.633150</td>\n",
       "      <td>E</td>\n",
       "      <td>4</td>\n",
       "      <td>B</td>\n",
       "    </tr>\n",
       "  </tbody>\n",
       "</table>\n",
       "<p>5 rows × 669 columns</p>\n",
       "</div>"
      ],
      "text/plain": [
       "   x1  x2  x3  x4          x5        x6         x7          x8        x9  \\\n",
       "0   0   0   0   1    4.665949  0.083412 -17.397081    0.067865  0.005895   \n",
       "1   0   0   0   0 -398.299487  0.784032 -10.785768  403.784446  0.070405   \n",
       "2   0   0   0   1 -380.902140  0.671324  -9.265829  361.841929  0.006937   \n",
       "3   0   0   0   1 -342.784123  0.469414  -8.044287  293.043601  0.007217   \n",
       "4   0   0   0   1    6.248502  0.252336  -5.398056    0.110097  0.005573   \n",
       "\n",
       "        x10  ...        z216      z217      z218        z219         z220  \\\n",
       "0  0.000012  ...   -0.017574 -0.004402  0.016508 -540.645279 -1511.001159   \n",
       "1  0.000180  ...    0.029533  0.113692  0.088024   -3.140961    -0.658456   \n",
       "2  0.000025  ...   -0.006361  0.005852 -0.003745  -14.340790     4.182214   \n",
       "3 -0.000021  ...    0.001950 -0.003426 -0.011191  251.659680  -441.129598   \n",
       "4  0.000010  ...   -0.001916 -0.015666 -0.015960 -137.847658  -377.758402   \n",
       "\n",
       "          z221        z222  subject  phase  state  \n",
       "0 -1408.385976 -437.807290        E      4      D  \n",
       "1    -0.140010   -0.011017        H      4      D  \n",
       "2    -0.549953    0.019553        C      4      B  \n",
       "3   256.986592  -49.745359        H      1      C  \n",
       "4  -345.673251 -105.633150        E      4      B  \n",
       "\n",
       "[5 rows x 669 columns]"
      ]
     },
     "execution_count": 12,
     "metadata": {},
     "output_type": "execute_result"
    }
   ],
   "source": [
    "test.head()"
   ]
  },
  {
   "cell_type": "code",
   "execution_count": 13,
   "metadata": {},
   "outputs": [
    {
     "data": {
      "image/png": "[encoded data removed]",
      "text/plain": [
       "<Figure size 720x432 with 1 Axes>"
      ]
     },
     "metadata": {},
     "output_type": "display_data"
    }
   ],
   "source": [
    "f, ax = plt.subplots(figsize=(10, 6))\n",
    "sns.countplot(x=\"subject\", hue=\"output\", data=train);"
   ]
  },
  {
   "cell_type": "code",
   "execution_count": 9,
   "metadata": {},
   "outputs": [
    {
     "data": {
      "text/html": [
       "<div>\n",
       "<style scoped>\n",
       "    .dataframe tbody tr th:only-of-type {\n",
       "        vertical-align: middle;\n",
       "    }\n",
       "\n",
       "    .dataframe tbody tr th {\n",
       "        vertical-align: top;\n",
       "    }\n",
       "\n",
       "    .dataframe thead th {\n",
       "        text-align: right;\n",
       "    }\n",
       "</style>\n",
       "<table border=\"1\" class=\"dataframe\">\n",
       "  <thead>\n",
       "    <tr style=\"text-align: right;\">\n",
       "      <th></th>\n",
       "      <th>x1</th>\n",
       "      <th>x2</th>\n",
       "      <th>x3</th>\n",
       "      <th>x4</th>\n",
       "      <th>x5</th>\n",
       "      <th>x6</th>\n",
       "      <th>x7</th>\n",
       "      <th>x8</th>\n",
       "      <th>x9</th>\n",
       "      <th>x10</th>\n",
       "      <th>...</th>\n",
       "      <th>z215</th>\n",
       "      <th>z216</th>\n",
       "      <th>z217</th>\n",
       "      <th>z218</th>\n",
       "      <th>z219</th>\n",
       "      <th>z220</th>\n",
       "      <th>z221</th>\n",
       "      <th>z222</th>\n",
       "      <th>phase</th>\n",
       "      <th>output</th>\n",
       "    </tr>\n",
       "  </thead>\n",
       "  <tbody>\n",
       "    <tr>\n",
       "      <th>count</th>\n",
       "      <td>4584.0</td>\n",
       "      <td>4584.000000</td>\n",
       "      <td>4584.000000</td>\n",
       "      <td>4584.000000</td>\n",
       "      <td>4584.000000</td>\n",
       "      <td>4584.000000</td>\n",
       "      <td>4584.000000</td>\n",
       "      <td>4584.000000</td>\n",
       "      <td>4584.000000</td>\n",
       "      <td>4584.000000</td>\n",
       "      <td>...</td>\n",
       "      <td>4584.000000</td>\n",
       "      <td>4584.000000</td>\n",
       "      <td>4584.000000</td>\n",
       "      <td>4584.000000</td>\n",
       "      <td>4584.000000</td>\n",
       "      <td>4584.000000</td>\n",
       "      <td>4584.000000</td>\n",
       "      <td>4584.000000</td>\n",
       "      <td>4584.000000</td>\n",
       "      <td>4584.000000</td>\n",
       "    </tr>\n",
       "    <tr>\n",
       "      <th>mean</th>\n",
       "      <td>0.0</td>\n",
       "      <td>0.000218</td>\n",
       "      <td>0.000218</td>\n",
       "      <td>0.625436</td>\n",
       "      <td>-270.199043</td>\n",
       "      <td>1.801323</td>\n",
       "      <td>-4.654634</td>\n",
       "      <td>253.735831</td>\n",
       "      <td>0.021039</td>\n",
       "      <td>-0.000004</td>\n",
       "      <td>...</td>\n",
       "      <td>-0.001628</td>\n",
       "      <td>0.001754</td>\n",
       "      <td>0.001374</td>\n",
       "      <td>0.001404</td>\n",
       "      <td>-57.916190</td>\n",
       "      <td>96.554052</td>\n",
       "      <td>-52.630948</td>\n",
       "      <td>28.735112</td>\n",
       "      <td>2.519634</td>\n",
       "      <td>0.844895</td>\n",
       "    </tr>\n",
       "    <tr>\n",
       "      <th>std</th>\n",
       "      <td>0.0</td>\n",
       "      <td>0.014770</td>\n",
       "      <td>0.014770</td>\n",
       "      <td>0.484063</td>\n",
       "      <td>163.971643</td>\n",
       "      <td>1.143173</td>\n",
       "      <td>3.714967</td>\n",
       "      <td>147.405918</td>\n",
       "      <td>0.026384</td>\n",
       "      <td>0.000472</td>\n",
       "      <td>...</td>\n",
       "      <td>0.099405</td>\n",
       "      <td>0.070156</td>\n",
       "      <td>0.078443</td>\n",
       "      <td>0.091211</td>\n",
       "      <td>243.742549</td>\n",
       "      <td>597.912778</td>\n",
       "      <td>599.208382</td>\n",
       "      <td>217.842477</td>\n",
       "      <td>1.158998</td>\n",
       "      <td>0.362044</td>\n",
       "    </tr>\n",
       "    <tr>\n",
       "      <th>min</th>\n",
       "      <td>0.0</td>\n",
       "      <td>0.000000</td>\n",
       "      <td>0.000000</td>\n",
       "      <td>0.000000</td>\n",
       "      <td>-474.588020</td>\n",
       "      <td>-0.237454</td>\n",
       "      <td>-19.295360</td>\n",
       "      <td>0.026692</td>\n",
       "      <td>0.005007</td>\n",
       "      <td>-0.004008</td>\n",
       "      <td>...</td>\n",
       "      <td>-3.805788</td>\n",
       "      <td>-0.999448</td>\n",
       "      <td>-1.886137</td>\n",
       "      <td>-1.264762</td>\n",
       "      <td>-2182.646032</td>\n",
       "      <td>-6674.270678</td>\n",
       "      <td>-8311.046315</td>\n",
       "      <td>-3671.954955</td>\n",
       "      <td>1.000000</td>\n",
       "      <td>0.000000</td>\n",
       "    </tr>\n",
       "    <tr>\n",
       "      <th>25%</th>\n",
       "      <td>0.0</td>\n",
       "      <td>0.000000</td>\n",
       "      <td>0.000000</td>\n",
       "      <td>0.000000</td>\n",
       "      <td>-383.328439</td>\n",
       "      <td>0.815996</td>\n",
       "      <td>-6.708809</td>\n",
       "      <td>108.809493</td>\n",
       "      <td>0.007504</td>\n",
       "      <td>-0.000081</td>\n",
       "      <td>...</td>\n",
       "      <td>-0.022183</td>\n",
       "      <td>-0.018118</td>\n",
       "      <td>-0.017379</td>\n",
       "      <td>-0.021389</td>\n",
       "      <td>-31.817506</td>\n",
       "      <td>-1.715924</td>\n",
       "      <td>-11.180312</td>\n",
       "      <td>-0.050475</td>\n",
       "      <td>1.000000</td>\n",
       "      <td>1.000000</td>\n",
       "    </tr>\n",
       "    <tr>\n",
       "      <th>50%</th>\n",
       "      <td>0.0</td>\n",
       "      <td>0.000000</td>\n",
       "      <td>0.000000</td>\n",
       "      <td>1.000000</td>\n",
       "      <td>-351.317222</td>\n",
       "      <td>1.578367</td>\n",
       "      <td>-3.324030</td>\n",
       "      <td>313.157669</td>\n",
       "      <td>0.011282</td>\n",
       "      <td>0.000003</td>\n",
       "      <td>...</td>\n",
       "      <td>-0.000383</td>\n",
       "      <td>0.000673</td>\n",
       "      <td>0.000374</td>\n",
       "      <td>0.000507</td>\n",
       "      <td>-2.919292</td>\n",
       "      <td>0.098110</td>\n",
       "      <td>-0.492411</td>\n",
       "      <td>0.001721</td>\n",
       "      <td>3.000000</td>\n",
       "      <td>1.000000</td>\n",
       "    </tr>\n",
       "    <tr>\n",
       "      <th>75%</th>\n",
       "      <td>0.0</td>\n",
       "      <td>0.000000</td>\n",
       "      <td>0.000000</td>\n",
       "      <td>1.000000</td>\n",
       "      <td>-177.051209</td>\n",
       "      <td>2.741501</td>\n",
       "      <td>-2.027700</td>\n",
       "      <td>370.832095</td>\n",
       "      <td>0.021861</td>\n",
       "      <td>0.000083</td>\n",
       "      <td>...</td>\n",
       "      <td>0.020556</td>\n",
       "      <td>0.020727</td>\n",
       "      <td>0.019355</td>\n",
       "      <td>0.022440</td>\n",
       "      <td>-0.277689</td>\n",
       "      <td>13.684733</td>\n",
       "      <td>-0.032526</td>\n",
       "      <td>0.483496</td>\n",
       "      <td>4.000000</td>\n",
       "      <td>1.000000</td>\n",
       "    </tr>\n",
       "    <tr>\n",
       "      <th>max</th>\n",
       "      <td>0.0</td>\n",
       "      <td>1.000000</td>\n",
       "      <td>1.000000</td>\n",
       "      <td>1.000000</td>\n",
       "      <td>418.085156</td>\n",
       "      <td>4.368496</td>\n",
       "      <td>6.250661</td>\n",
       "      <td>588.309282</td>\n",
       "      <td>0.423408</td>\n",
       "      <td>0.003588</td>\n",
       "      <td>...</td>\n",
       "      <td>0.916725</td>\n",
       "      <td>0.708321</td>\n",
       "      <td>1.548114</td>\n",
       "      <td>2.949784</td>\n",
       "      <td>2408.234281</td>\n",
       "      <td>6111.797852</td>\n",
       "      <td>6412.126601</td>\n",
       "      <td>2816.376179</td>\n",
       "      <td>4.000000</td>\n",
       "      <td>1.000000</td>\n",
       "    </tr>\n",
       "  </tbody>\n",
       "</table>\n",
       "<p>8 rows × 668 columns</p>\n",
       "</div>"
      ],
      "text/plain": [
       "           x1           x2           x3           x4           x5  \\\n",
       "count  4584.0  4584.000000  4584.000000  4584.000000  4584.000000   \n",
       "mean      0.0     0.000218     0.000218     0.625436  -270.199043   \n",
       "std       0.0     0.014770     0.014770     0.484063   163.971643   \n",
       "min       0.0     0.000000     0.000000     0.000000  -474.588020   \n",
       "25%       0.0     0.000000     0.000000     0.000000  -383.328439   \n",
       "50%       0.0     0.000000     0.000000     1.000000  -351.317222   \n",
       "75%       0.0     0.000000     0.000000     1.000000  -177.051209   \n",
       "max       0.0     1.000000     1.000000     1.000000   418.085156   \n",
       "\n",
       "                x6           x7           x8           x9          x10  \\\n",
       "count  4584.000000  4584.000000  4584.000000  4584.000000  4584.000000   \n",
       "mean      1.801323    -4.654634   253.735831     0.021039    -0.000004   \n",
       "std       1.143173     3.714967   147.405918     0.026384     0.000472   \n",
       "min      -0.237454   -19.295360     0.026692     0.005007    -0.004008   \n",
       "25%       0.815996    -6.708809   108.809493     0.007504    -0.000081   \n",
       "50%       1.578367    -3.324030   313.157669     0.011282     0.000003   \n",
       "75%       2.741501    -2.027700   370.832095     0.021861     0.000083   \n",
       "max       4.368496     6.250661   588.309282     0.423408     0.003588   \n",
       "\n",
       "          ...              z215         z216         z217         z218  \\\n",
       "count     ...       4584.000000  4584.000000  4584.000000  4584.000000   \n",
       "mean      ...         -0.001628     0.001754     0.001374     0.001404   \n",
       "std       ...          0.099405     0.070156     0.078443     0.091211   \n",
       "min       ...         -3.805788    -0.999448    -1.886137    -1.264762   \n",
       "25%       ...         -0.022183    -0.018118    -0.017379    -0.021389   \n",
       "50%       ...         -0.000383     0.000673     0.000374     0.000507   \n",
       "75%       ...          0.020556     0.020727     0.019355     0.022440   \n",
       "max       ...          0.916725     0.708321     1.548114     2.949784   \n",
       "\n",
       "              z219         z220         z221         z222        phase  \\\n",
       "count  4584.000000  4584.000000  4584.000000  4584.000000  4584.000000   \n",
       "mean    -57.916190    96.554052   -52.630948    28.735112     2.519634   \n",
       "std     243.742549   597.912778   599.208382   217.842477     1.158998   \n",
       "min   -2182.646032 -6674.270678 -8311.046315 -3671.954955     1.000000   \n",
       "25%     -31.817506    -1.715924   -11.180312    -0.050475     1.000000   \n",
       "50%      -2.919292     0.098110    -0.492411     0.001721     3.000000   \n",
       "75%      -0.277689    13.684733    -0.032526     0.483496     4.000000   \n",
       "max    2408.234281  6111.797852  6412.126601  2816.376179     4.000000   \n",
       "\n",
       "            output  \n",
       "count  4584.000000  \n",
       "mean      0.844895  \n",
       "std       0.362044  \n",
       "min       0.000000  \n",
       "25%       1.000000  \n",
       "50%       1.000000  \n",
       "75%       1.000000  \n",
       "max       1.000000  \n",
       "\n",
       "[8 rows x 668 columns]"
      ]
     },
     "execution_count": 9,
     "metadata": {},
     "output_type": "execute_result"
    }
   ],
   "source": [
    "train.describe()"
   ]
  },
  {
   "cell_type": "code",
   "execution_count": 10,
   "metadata": {},
   "outputs": [
    {
     "data": {
      "text/html": [
       "<div>\n",
       "<style scoped>\n",
       "    .dataframe tbody tr th:only-of-type {\n",
       "        vertical-align: middle;\n",
       "    }\n",
       "\n",
       "    .dataframe tbody tr th {\n",
       "        vertical-align: top;\n",
       "    }\n",
       "\n",
       "    .dataframe thead th {\n",
       "        text-align: right;\n",
       "    }\n",
       "</style>\n",
       "<table border=\"1\" class=\"dataframe\">\n",
       "  <thead>\n",
       "    <tr style=\"text-align: right;\">\n",
       "      <th></th>\n",
       "      <th>x1</th>\n",
       "      <th>x2</th>\n",
       "      <th>x3</th>\n",
       "      <th>x4</th>\n",
       "      <th>x5</th>\n",
       "      <th>x6</th>\n",
       "      <th>x7</th>\n",
       "      <th>x8</th>\n",
       "      <th>x9</th>\n",
       "      <th>x10</th>\n",
       "      <th>...</th>\n",
       "      <th>z214</th>\n",
       "      <th>z215</th>\n",
       "      <th>z216</th>\n",
       "      <th>z217</th>\n",
       "      <th>z218</th>\n",
       "      <th>z219</th>\n",
       "      <th>z220</th>\n",
       "      <th>z221</th>\n",
       "      <th>z222</th>\n",
       "      <th>phase</th>\n",
       "    </tr>\n",
       "  </thead>\n",
       "  <tbody>\n",
       "    <tr>\n",
       "      <th>count</th>\n",
       "      <td>1732.0</td>\n",
       "      <td>1732.0</td>\n",
       "      <td>1732.0</td>\n",
       "      <td>1732.000000</td>\n",
       "      <td>1732.000000</td>\n",
       "      <td>1732.000000</td>\n",
       "      <td>1732.000000</td>\n",
       "      <td>1732.000000</td>\n",
       "      <td>1732.000000</td>\n",
       "      <td>1732.000000</td>\n",
       "      <td>...</td>\n",
       "      <td>1732.000000</td>\n",
       "      <td>1732.000000</td>\n",
       "      <td>1732.000000</td>\n",
       "      <td>1732.000000</td>\n",
       "      <td>1732.000000</td>\n",
       "      <td>1732.000000</td>\n",
       "      <td>1732.000000</td>\n",
       "      <td>1732.000000</td>\n",
       "      <td>1732.000000</td>\n",
       "      <td>1732.000000</td>\n",
       "    </tr>\n",
       "    <tr>\n",
       "      <th>mean</th>\n",
       "      <td>0.0</td>\n",
       "      <td>0.0</td>\n",
       "      <td>0.0</td>\n",
       "      <td>0.571016</td>\n",
       "      <td>-277.885554</td>\n",
       "      <td>1.604938</td>\n",
       "      <td>-5.414832</td>\n",
       "      <td>255.823559</td>\n",
       "      <td>0.021758</td>\n",
       "      <td>0.000008</td>\n",
       "      <td>...</td>\n",
       "      <td>-0.003202</td>\n",
       "      <td>-0.001151</td>\n",
       "      <td>-0.002507</td>\n",
       "      <td>-0.000998</td>\n",
       "      <td>-0.000054</td>\n",
       "      <td>-110.276709</td>\n",
       "      <td>-121.265455</td>\n",
       "      <td>-222.574598</td>\n",
       "      <td>-38.935670</td>\n",
       "      <td>2.570439</td>\n",
       "    </tr>\n",
       "    <tr>\n",
       "      <th>std</th>\n",
       "      <td>0.0</td>\n",
       "      <td>0.0</td>\n",
       "      <td>0.0</td>\n",
       "      <td>0.495074</td>\n",
       "      <td>154.845148</td>\n",
       "      <td>1.147339</td>\n",
       "      <td>4.257535</td>\n",
       "      <td>144.203953</td>\n",
       "      <td>0.026765</td>\n",
       "      <td>0.000373</td>\n",
       "      <td>...</td>\n",
       "      <td>0.136569</td>\n",
       "      <td>0.093555</td>\n",
       "      <td>0.081933</td>\n",
       "      <td>0.089583</td>\n",
       "      <td>0.104841</td>\n",
       "      <td>391.650246</td>\n",
       "      <td>1081.345964</td>\n",
       "      <td>990.468100</td>\n",
       "      <td>319.750306</td>\n",
       "      <td>1.206186</td>\n",
       "    </tr>\n",
       "    <tr>\n",
       "      <th>min</th>\n",
       "      <td>0.0</td>\n",
       "      <td>0.0</td>\n",
       "      <td>0.0</td>\n",
       "      <td>0.000000</td>\n",
       "      <td>-467.276129</td>\n",
       "      <td>-0.107885</td>\n",
       "      <td>-20.611523</td>\n",
       "      <td>0.061916</td>\n",
       "      <td>0.004730</td>\n",
       "      <td>-0.002895</td>\n",
       "      <td>...</td>\n",
       "      <td>-1.691499</td>\n",
       "      <td>-1.269537</td>\n",
       "      <td>-1.696589</td>\n",
       "      <td>-0.859393</td>\n",
       "      <td>-1.891506</td>\n",
       "      <td>-3423.935457</td>\n",
       "      <td>-9559.626928</td>\n",
       "      <td>-8897.400348</td>\n",
       "      <td>-2760.528477</td>\n",
       "      <td>1.000000</td>\n",
       "    </tr>\n",
       "    <tr>\n",
       "      <th>25%</th>\n",
       "      <td>0.0</td>\n",
       "      <td>0.0</td>\n",
       "      <td>0.0</td>\n",
       "      <td>0.000000</td>\n",
       "      <td>-382.645885</td>\n",
       "      <td>0.604385</td>\n",
       "      <td>-7.819653</td>\n",
       "      <td>137.782812</td>\n",
       "      <td>0.007411</td>\n",
       "      <td>-0.000072</td>\n",
       "      <td>...</td>\n",
       "      <td>-0.026140</td>\n",
       "      <td>-0.022620</td>\n",
       "      <td>-0.021943</td>\n",
       "      <td>-0.018853</td>\n",
       "      <td>-0.022743</td>\n",
       "      <td>-32.187216</td>\n",
       "      <td>-1.156637</td>\n",
       "      <td>-12.301322</td>\n",
       "      <td>-0.030173</td>\n",
       "      <td>1.000000</td>\n",
       "    </tr>\n",
       "    <tr>\n",
       "      <th>50%</th>\n",
       "      <td>0.0</td>\n",
       "      <td>0.0</td>\n",
       "      <td>0.0</td>\n",
       "      <td>1.000000</td>\n",
       "      <td>-358.278216</td>\n",
       "      <td>1.351021</td>\n",
       "      <td>-3.725531</td>\n",
       "      <td>324.514646</td>\n",
       "      <td>0.012295</td>\n",
       "      <td>0.000002</td>\n",
       "      <td>...</td>\n",
       "      <td>-0.001551</td>\n",
       "      <td>-0.001223</td>\n",
       "      <td>0.000767</td>\n",
       "      <td>-0.000838</td>\n",
       "      <td>-0.000034</td>\n",
       "      <td>-2.742422</td>\n",
       "      <td>0.185153</td>\n",
       "      <td>-0.486775</td>\n",
       "      <td>0.005631</td>\n",
       "      <td>3.000000</td>\n",
       "    </tr>\n",
       "    <tr>\n",
       "      <th>75%</th>\n",
       "      <td>0.0</td>\n",
       "      <td>0.0</td>\n",
       "      <td>0.0</td>\n",
       "      <td>1.000000</td>\n",
       "      <td>-214.315606</td>\n",
       "      <td>2.503754</td>\n",
       "      <td>-2.284565</td>\n",
       "      <td>367.989031</td>\n",
       "      <td>0.024584</td>\n",
       "      <td>0.000082</td>\n",
       "      <td>...</td>\n",
       "      <td>0.023600</td>\n",
       "      <td>0.021058</td>\n",
       "      <td>0.020423</td>\n",
       "      <td>0.017940</td>\n",
       "      <td>0.021003</td>\n",
       "      <td>-0.247839</td>\n",
       "      <td>8.489298</td>\n",
       "      <td>-0.017909</td>\n",
       "      <td>0.352890</td>\n",
       "      <td>4.000000</td>\n",
       "    </tr>\n",
       "    <tr>\n",
       "      <th>max</th>\n",
       "      <td>0.0</td>\n",
       "      <td>0.0</td>\n",
       "      <td>0.0</td>\n",
       "      <td>1.000000</td>\n",
       "      <td>411.846894</td>\n",
       "      <td>4.315517</td>\n",
       "      <td>2.279343</td>\n",
       "      <td>554.445563</td>\n",
       "      <td>0.378385</td>\n",
       "      <td>0.002761</td>\n",
       "      <td>...</td>\n",
       "      <td>2.641951</td>\n",
       "      <td>0.810623</td>\n",
       "      <td>0.608914</td>\n",
       "      <td>2.039491</td>\n",
       "      <td>1.835451</td>\n",
       "      <td>1674.130664</td>\n",
       "      <td>5958.441159</td>\n",
       "      <td>5039.275789</td>\n",
       "      <td>2215.886665</td>\n",
       "      <td>4.000000</td>\n",
       "    </tr>\n",
       "  </tbody>\n",
       "</table>\n",
       "<p>8 rows × 667 columns</p>\n",
       "</div>"
      ],
      "text/plain": [
       "           x1      x2      x3           x4           x5           x6  \\\n",
       "count  1732.0  1732.0  1732.0  1732.000000  1732.000000  1732.000000   \n",
       "mean      0.0     0.0     0.0     0.571016  -277.885554     1.604938   \n",
       "std       0.0     0.0     0.0     0.495074   154.845148     1.147339   \n",
       "min       0.0     0.0     0.0     0.000000  -467.276129    -0.107885   \n",
       "25%       0.0     0.0     0.0     0.000000  -382.645885     0.604385   \n",
       "50%       0.0     0.0     0.0     1.000000  -358.278216     1.351021   \n",
       "75%       0.0     0.0     0.0     1.000000  -214.315606     2.503754   \n",
       "max       0.0     0.0     0.0     1.000000   411.846894     4.315517   \n",
       "\n",
       "                x7           x8           x9          x10     ...       \\\n",
       "count  1732.000000  1732.000000  1732.000000  1732.000000     ...        \n",
       "mean     -5.414832   255.823559     0.021758     0.000008     ...        \n",
       "std       4.257535   144.203953     0.026765     0.000373     ...        \n",
       "min     -20.611523     0.061916     0.004730    -0.002895     ...        \n",
       "25%      -7.819653   137.782812     0.007411    -0.000072     ...        \n",
       "50%      -3.725531   324.514646     0.012295     0.000002     ...        \n",
       "75%      -2.284565   367.989031     0.024584     0.000082     ...        \n",
       "max       2.279343   554.445563     0.378385     0.002761     ...        \n",
       "\n",
       "              z214         z215         z216         z217         z218  \\\n",
       "count  1732.000000  1732.000000  1732.000000  1732.000000  1732.000000   \n",
       "mean     -0.003202    -0.001151    -0.002507    -0.000998    -0.000054   \n",
       "std       0.136569     0.093555     0.081933     0.089583     0.104841   \n",
       "min      -1.691499    -1.269537    -1.696589    -0.859393    -1.891506   \n",
       "25%      -0.026140    -0.022620    -0.021943    -0.018853    -0.022743   \n",
       "50%      -0.001551    -0.001223     0.000767    -0.000838    -0.000034   \n",
       "75%       0.023600     0.021058     0.020423     0.017940     0.021003   \n",
       "max       2.641951     0.810623     0.608914     2.039491     1.835451   \n",
       "\n",
       "              z219         z220         z221         z222        phase  \n",
       "count  1732.000000  1732.000000  1732.000000  1732.000000  1732.000000  \n",
       "mean   -110.276709  -121.265455  -222.574598   -38.935670     2.570439  \n",
       "std     391.650246  1081.345964   990.468100   319.750306     1.206186  \n",
       "min   -3423.935457 -9559.626928 -8897.400348 -2760.528477     1.000000  \n",
       "25%     -32.187216    -1.156637   -12.301322    -0.030173     1.000000  \n",
       "50%      -2.742422     0.185153    -0.486775     0.005631     3.000000  \n",
       "75%      -0.247839     8.489298    -0.017909     0.352890     4.000000  \n",
       "max    1674.130664  5958.441159  5039.275789  2215.886665     4.000000  \n",
       "\n",
       "[8 rows x 667 columns]"
      ]
     },
     "execution_count": 10,
     "metadata": {},
     "output_type": "execute_result"
    }
   ],
   "source": [
    "test.describe()"
   ]
  },
  {
   "cell_type": "code",
   "execution_count": 14,
   "metadata": {},
   "outputs": [],
   "source": [
    "train_features = train.columns\n",
    "test_features = test.columns"
   ]
  },
  {
   "cell_type": "code",
   "execution_count": 15,
   "metadata": {},
   "outputs": [
    {
     "name": "stdout",
     "output_type": "stream",
     "text": [
      "{'output'}\n"
     ]
    }
   ],
   "source": [
    "print(set(train_features)-set(test_features))"
   ]
  },
  {
   "cell_type": "code",
   "execution_count": 16,
   "metadata": {},
   "outputs": [
    {
     "data": {
      "text/plain": [
       "1    3873\n",
       "0     711\n",
       "Name: output, dtype: int64"
      ]
     },
     "execution_count": 16,
     "metadata": {},
     "output_type": "execute_result"
    }
   ],
   "source": [
    "train.output.value_counts()"
   ]
  },
  {
   "cell_type": "markdown",
   "metadata": {},
   "source": [
    "## FEATURE ENGINEERING:   \n",
    "## ACCOUNT FOR SUBJECT, PHASE & STATE AND REMOVE THE COLUMNS"
   ]
  },
  {
   "cell_type": "code",
   "execution_count": 106,
   "metadata": {},
   "outputs": [],
   "source": [
    "train['indicator']='train'\n",
    "test['indicator']='test'\n",
    "\n",
    "Y = train.output\n",
    "train.drop('output',inplace=True, axis=1)"
   ]
  },
  {
   "cell_type": "code",
   "execution_count": 107,
   "metadata": {},
   "outputs": [
    {
     "data": {
      "text/plain": [
       "(6316, 670)"
      ]
     },
     "execution_count": 107,
     "metadata": {},
     "output_type": "execute_result"
    }
   ],
   "source": [
    "train_test = pd.concat([train,test])\n",
    "train_test.reset_index(inplace=True, drop=True) #drop index\n",
    "train_test.shape"
   ]
  },
  {
   "cell_type": "code",
   "execution_count": 108,
   "metadata": {},
   "outputs": [],
   "source": [
    "#Creating Features\n",
    "train_test['SubjectK'] = 0 \n",
    "train_test.loc[train_test[train_test.subject=='K'].index,'SubjectK']=1  "
   ]
  },
  {
   "cell_type": "code",
   "execution_count": 109,
   "metadata": {},
   "outputs": [],
   "source": [
    "#Step by step\n",
    "i1 = train_test[((train_test.phase==1) & (train_test.subject=='A'))].index\n",
    "arr = np.zeros(train_test.shape[0],dtype=int)\n",
    "arr[i1]=1\n",
    "train_test['SubA_Phase1']=arr\n",
    "\n",
    "#concise\n",
    "train_test['SubI_Phase1'] = 0\n",
    "train_test.loc[train_test[((train_test.phase==1) & (train_test.subject=='I'))].index,'SubI_Phase1'] = 1\n",
    "\n",
    "train_test['SubM_Phase1'] = 0\n",
    "train_test.loc[train_test[((train_test.phase==1) & (train_test.subject=='M'))].index,'SubM_Phase1'] = 1\n",
    "\n",
    "train_test['SubA_Phase2'] = 0\n",
    "train_test.loc[train_test[((train_test.phase==2) & (train_test.subject=='A'))].index,'SubA_Phase2'] = 1\n",
    "\n",
    "train_test['SubF_Phase2'] = 0\n",
    "train_test.loc[train_test[((train_test.phase==2) & (train_test.subject=='F'))].index,'SubF_Phase2'] = 1\n",
    "\n",
    "train_test['SubI_Phase3'] = 0\n",
    "train_test.loc[train_test[((train_test.phase==3) & (train_test.subject=='I'))].index,'SubI_Phase3'] = 1\n",
    "\n",
    "train_test['SubL_Phase3'] = 0\n",
    "train_test.loc[train_test[((train_test.phase==3) & (train_test.subject=='L'))].index,'SubL_Phase3'] = 1\n",
    "\n",
    "train_test['SubL_Phase4'] = 0\n",
    "train_test.loc[train_test[((train_test.phase==4) & (train_test.subject=='L'))].index,'SubL_Phase4'] = 1\n",
    "#possibly add I, phase4 = 1 too."
   ]
  },
  {
   "cell_type": "code",
   "execution_count": 110,
   "metadata": {},
   "outputs": [],
   "source": [
    "train_data = train_test[train_test.indicator=='train']\n",
    "test_output = train_test[train_test.indicator=='test']\n",
    "train_data.reset_index(inplace=True,drop=True)\n",
    "test_output.reset_index(inplace=True,drop=True)\n",
    "\n",
    "train_data = train_data.drop(['state','subject','phase','indicator'], axis=1)\n",
    "test_output = test_output.drop(['state','subject','phase','indicator'], axis=1)"
   ]
  },
  {
   "cell_type": "markdown",
   "metadata": {},
   "source": [
    "## SPLIT THE TRAINING DATA INTO TRAIN AND TEST DATA & CREATE A BALANCED DATA SET AS WELL"
   ]
  },
  {
   "cell_type": "code",
   "execution_count": 234,
   "metadata": {},
   "outputs": [],
   "source": [
    "test_size = 0.20\n",
    "# SPLIT THE TRAIN DATA INTO TRAIN AND TEST \n",
    "X_train_unbalanced, X_test_unbalanced, y_train_unbalanced, y_test_unbalanced = train_test_split(train_data, Y, test_size=test_size, random_state=101)\n",
    "\n",
    "# GET A BALANCED VERSION OF THE TRAIN DATA\n",
    "sm = SMOTE(random_state = 12, ratio = 1.0)\n",
    "X_train_balanced, y_train_balanced = sm.fit_sample(X_train_unbalanced, y_train_unbalanced)\n",
    "X_train_balanced = pd.DataFrame(X_train_balanced, columns=X_train_unbalanced.columns)\n",
    "y_train_balanced = pd.DataFrame(y_train_balanced)[0]"
   ]
  },
  {
   "cell_type": "markdown",
   "metadata": {},
   "source": [
    "## CHOOSE BETWEEN BALANCED (equal 0s and 1s in output) OR UNBALANCED DATA GOING FORWARD"
   ]
  },
  {
   "cell_type": "code",
   "execution_count": 235,
   "metadata": {},
   "outputs": [],
   "source": [
    "##################################################\n",
    "## CHOOSE WHICH DATA SET TO USE GOING FORWARD ####\n",
    "##################################################\n",
    "BALANCED = True\n",
    "\n",
    "if BALANCED : \n",
    "    X_train = X_train_balanced \n",
    "    y_train = y_train_balanced\n",
    "else : \n",
    "    X_train = X_train_unbalanced\n",
    "    y_train = y_train_unbalanced   \n",
    "\n",
    "    \n",
    "X_test = X_test_unbalanced\n",
    "y_test = y_test_unbalanced"
   ]
  },
  {
   "cell_type": "markdown",
   "metadata": {},
   "source": [
    "## RECHECK THE SIZES OF THE TRAINING AND TEST SET"
   ]
  },
  {
   "cell_type": "code",
   "execution_count": 236,
   "metadata": {},
   "outputs": [
    {
     "name": "stdout",
     "output_type": "stream",
     "text": [
      "TRAINING:\n",
      "(6214, 675)\n",
      "(6214,)\n",
      "0s and 1s split:\n",
      "1    3107\n",
      "0    3107\n",
      "Name: 0, dtype: int64\n",
      "\n",
      "TEST:\n",
      "(917, 675)\n",
      "(917,)\n",
      "0s and 1s split:\n",
      "1    766\n",
      "0    151\n",
      "Name: output, dtype: int64\n",
      "\n",
      "Output Test Dataset size:\n",
      "(1732, 675)\n"
     ]
    }
   ],
   "source": [
    "print(\"TRAINING:\")\n",
    "print(X_train.shape)\n",
    "print(y_train.shape)\n",
    "print(\"0s and 1s split:\")\n",
    "print (y_train.value_counts())\n",
    "\n",
    "print(\"\\nTEST:\")\n",
    "print(X_test.shape)\n",
    "print(y_test.shape)\n",
    "print(\"0s and 1s split:\")\n",
    "print (y_test.value_counts())\n",
    "\n",
    "print(\"\\nOutput Test Dataset size:\")\n",
    "print(test_output.shape)"
   ]
  },
  {
   "cell_type": "markdown",
   "metadata": {},
   "source": [
    "## STANDARDIZE THE DATA"
   ]
  },
  {
   "cell_type": "code",
   "execution_count": 239,
   "metadata": {},
   "outputs": [
    {
     "name": "stderr",
     "output_type": "stream",
     "text": [
      "C:\\ProgramData\\Anaconda3\\lib\\site-packages\\ipykernel_launcher.py:14: DataConversionWarning: Data with input dtype int32, int64, float64 were all converted to float64 by StandardScaler.\n",
      "  \n",
      "C:\\ProgramData\\Anaconda3\\lib\\site-packages\\ipykernel_launcher.py:21: DataConversionWarning: Data with input dtype int32, int64, float64 were all converted to float64 by StandardScaler.\n"
     ]
    }
   ],
   "source": [
    "bin_features = ['SubjectK', 'SubA_Phase1', 'SubI_Phase1', 'SubM_Phase1','SubA_Phase2','SubF_Phase2','SubI_Phase3','SubL_Phase3','SubL_Phase4']\n",
    "\n",
    "\n",
    "\n",
    "# SAVE THE BINARY COLUMNS\n",
    "X_train_binary = X_train[bin_features].reset_index(drop=True)\n",
    "X_test_binary = X_test[bin_features].reset_index(drop=True)\n",
    "test_output_binary = test_output[bin_features].reset_index(drop=True)\n",
    "\n",
    "\n",
    "# APPLY TRANSFORMS\n",
    "std_scale = StandardScaler().fit(X_train)\n",
    "X_train_std = std_scale.transform(X_train)\n",
    "X_test_std = std_scale.transform(X_test)\n",
    "X_train_std = pd.DataFrame(X_train_std, columns=X_train.columns)\n",
    "X_test_std = pd.DataFrame(X_test_std, columns=X_test.columns)\n",
    "\n",
    "\n",
    "\n",
    "#Also Standardize the OUTPUT TEST SET FOR LATER USE\n",
    "test_output_std = std_scale.transform(test_output)\n",
    "test_output_std = pd.DataFrame(test_output_std, columns=test_output.columns)\n",
    "\n",
    "# Restore the Binary column values\n",
    "X_train_std[bin_features] = X_train_binary\n",
    "X_test_std[bin_features] = X_test_binary\n",
    "test_output_std[bin_features] = test_output_binary\n",
    "\n",
    "\n"
   ]
  },
  {
   "cell_type": "code",
   "execution_count": 240,
   "metadata": {},
   "outputs": [
    {
     "data": {
      "text/html": [
       "<div>\n",
       "<style scoped>\n",
       "    .dataframe tbody tr th:only-of-type {\n",
       "        vertical-align: middle;\n",
       "    }\n",
       "\n",
       "    .dataframe tbody tr th {\n",
       "        vertical-align: top;\n",
       "    }\n",
       "\n",
       "    .dataframe thead th {\n",
       "        text-align: right;\n",
       "    }\n",
       "</style>\n",
       "<table border=\"1\" class=\"dataframe\">\n",
       "  <thead>\n",
       "    <tr style=\"text-align: right;\">\n",
       "      <th></th>\n",
       "      <th>x1</th>\n",
       "      <th>x2</th>\n",
       "      <th>x3</th>\n",
       "      <th>x4</th>\n",
       "      <th>x5</th>\n",
       "      <th>x6</th>\n",
       "      <th>x7</th>\n",
       "      <th>x8</th>\n",
       "      <th>x9</th>\n",
       "      <th>x10</th>\n",
       "      <th>...</th>\n",
       "      <th>z222</th>\n",
       "      <th>SubjectK</th>\n",
       "      <th>SubA_Phase1</th>\n",
       "      <th>SubI_Phase1</th>\n",
       "      <th>SubM_Phase1</th>\n",
       "      <th>SubA_Phase2</th>\n",
       "      <th>SubF_Phase2</th>\n",
       "      <th>SubI_Phase3</th>\n",
       "      <th>SubL_Phase3</th>\n",
       "      <th>SubL_Phase4</th>\n",
       "    </tr>\n",
       "  </thead>\n",
       "  <tbody>\n",
       "    <tr>\n",
       "      <th>count</th>\n",
       "      <td>917.0</td>\n",
       "      <td>917.000000</td>\n",
       "      <td>9.170000e+02</td>\n",
       "      <td>917.000000</td>\n",
       "      <td>917.000000</td>\n",
       "      <td>917.000000</td>\n",
       "      <td>917.000000</td>\n",
       "      <td>917.000000</td>\n",
       "      <td>917.000000</td>\n",
       "      <td>917.000000</td>\n",
       "      <td>...</td>\n",
       "      <td>917.000000</td>\n",
       "      <td>917.000000</td>\n",
       "      <td>917.000000</td>\n",
       "      <td>917.000000</td>\n",
       "      <td>917.000000</td>\n",
       "      <td>917.000000</td>\n",
       "      <td>917.000000</td>\n",
       "      <td>917.000000</td>\n",
       "      <td>917.000000</td>\n",
       "      <td>917.000000</td>\n",
       "    </tr>\n",
       "    <tr>\n",
       "      <th>mean</th>\n",
       "      <td>0.0</td>\n",
       "      <td>0.001091</td>\n",
       "      <td>-1.268672e-02</td>\n",
       "      <td>0.035372</td>\n",
       "      <td>0.135406</td>\n",
       "      <td>0.071372</td>\n",
       "      <td>0.001926</td>\n",
       "      <td>-0.124991</td>\n",
       "      <td>0.037022</td>\n",
       "      <td>-0.041249</td>\n",
       "      <td>...</td>\n",
       "      <td>-0.000613</td>\n",
       "      <td>0.110142</td>\n",
       "      <td>0.020720</td>\n",
       "      <td>0.019629</td>\n",
       "      <td>0.018539</td>\n",
       "      <td>0.018539</td>\n",
       "      <td>0.010905</td>\n",
       "      <td>0.035987</td>\n",
       "      <td>0.018539</td>\n",
       "      <td>0.030534</td>\n",
       "    </tr>\n",
       "    <tr>\n",
       "      <th>std</th>\n",
       "      <td>0.0</td>\n",
       "      <td>0.033023</td>\n",
       "      <td>1.371179e-16</td>\n",
       "      <td>1.039822</td>\n",
       "      <td>1.090232</td>\n",
       "      <td>1.042983</td>\n",
       "      <td>1.065193</td>\n",
       "      <td>1.031110</td>\n",
       "      <td>1.294541</td>\n",
       "      <td>1.181042</td>\n",
       "      <td>...</td>\n",
       "      <td>1.074990</td>\n",
       "      <td>0.313237</td>\n",
       "      <td>0.142522</td>\n",
       "      <td>0.138798</td>\n",
       "      <td>0.134963</td>\n",
       "      <td>0.134963</td>\n",
       "      <td>0.103913</td>\n",
       "      <td>0.186359</td>\n",
       "      <td>0.134963</td>\n",
       "      <td>0.172146</td>\n",
       "    </tr>\n",
       "    <tr>\n",
       "      <th>min</th>\n",
       "      <td>0.0</td>\n",
       "      <td>0.000000</td>\n",
       "      <td>-1.268672e-02</td>\n",
       "      <td>-1.353982</td>\n",
       "      <td>-1.198499</td>\n",
       "      <td>-1.492815</td>\n",
       "      <td>-3.979920</td>\n",
       "      <td>-1.856909</td>\n",
       "      <td>-0.669478</td>\n",
       "      <td>-9.849753</td>\n",
       "      <td>...</td>\n",
       "      <td>-10.330171</td>\n",
       "      <td>0.000000</td>\n",
       "      <td>0.000000</td>\n",
       "      <td>0.000000</td>\n",
       "      <td>0.000000</td>\n",
       "      <td>0.000000</td>\n",
       "      <td>0.000000</td>\n",
       "      <td>0.000000</td>\n",
       "      <td>0.000000</td>\n",
       "      <td>0.000000</td>\n",
       "    </tr>\n",
       "    <tr>\n",
       "      <th>25%</th>\n",
       "      <td>0.0</td>\n",
       "      <td>0.000000</td>\n",
       "      <td>-1.268672e-02</td>\n",
       "      <td>-1.353982</td>\n",
       "      <td>-0.633768</td>\n",
       "      <td>-0.814936</td>\n",
       "      <td>-0.643332</td>\n",
       "      <td>-1.143038</td>\n",
       "      <td>-0.572501</td>\n",
       "      <td>-0.200605</td>\n",
       "      <td>...</td>\n",
       "      <td>-0.142288</td>\n",
       "      <td>0.000000</td>\n",
       "      <td>0.000000</td>\n",
       "      <td>0.000000</td>\n",
       "      <td>0.000000</td>\n",
       "      <td>0.000000</td>\n",
       "      <td>0.000000</td>\n",
       "      <td>0.000000</td>\n",
       "      <td>0.000000</td>\n",
       "      <td>0.000000</td>\n",
       "    </tr>\n",
       "    <tr>\n",
       "      <th>50%</th>\n",
       "      <td>0.0</td>\n",
       "      <td>0.000000</td>\n",
       "      <td>-1.268672e-02</td>\n",
       "      <td>0.812748</td>\n",
       "      <td>-0.415915</td>\n",
       "      <td>-0.150385</td>\n",
       "      <td>0.371718</td>\n",
       "      <td>0.284749</td>\n",
       "      <td>-0.413037</td>\n",
       "      <td>-0.008938</td>\n",
       "      <td>...</td>\n",
       "      <td>-0.141801</td>\n",
       "      <td>0.000000</td>\n",
       "      <td>0.000000</td>\n",
       "      <td>0.000000</td>\n",
       "      <td>0.000000</td>\n",
       "      <td>0.000000</td>\n",
       "      <td>0.000000</td>\n",
       "      <td>0.000000</td>\n",
       "      <td>0.000000</td>\n",
       "      <td>0.000000</td>\n",
       "    </tr>\n",
       "    <tr>\n",
       "      <th>75%</th>\n",
       "      <td>0.0</td>\n",
       "      <td>0.000000</td>\n",
       "      <td>-1.268672e-02</td>\n",
       "      <td>0.812748</td>\n",
       "      <td>0.787530</td>\n",
       "      <td>0.932089</td>\n",
       "      <td>0.782916</td>\n",
       "      <td>0.709719</td>\n",
       "      <td>0.000638</td>\n",
       "      <td>0.176536</td>\n",
       "      <td>...</td>\n",
       "      <td>-0.138276</td>\n",
       "      <td>0.000000</td>\n",
       "      <td>0.000000</td>\n",
       "      <td>0.000000</td>\n",
       "      <td>0.000000</td>\n",
       "      <td>0.000000</td>\n",
       "      <td>0.000000</td>\n",
       "      <td>0.000000</td>\n",
       "      <td>0.000000</td>\n",
       "      <td>0.000000</td>\n",
       "    </tr>\n",
       "    <tr>\n",
       "      <th>max</th>\n",
       "      <td>0.0</td>\n",
       "      <td>1.000000</td>\n",
       "      <td>-1.268672e-02</td>\n",
       "      <td>0.812748</td>\n",
       "      <td>4.638969</td>\n",
       "      <td>2.435083</td>\n",
       "      <td>3.014326</td>\n",
       "      <td>1.993420</td>\n",
       "      <td>17.074376</td>\n",
       "      <td>6.727370</td>\n",
       "      <td>...</td>\n",
       "      <td>14.977966</td>\n",
       "      <td>1.000000</td>\n",
       "      <td>1.000000</td>\n",
       "      <td>1.000000</td>\n",
       "      <td>1.000000</td>\n",
       "      <td>1.000000</td>\n",
       "      <td>1.000000</td>\n",
       "      <td>1.000000</td>\n",
       "      <td>1.000000</td>\n",
       "      <td>1.000000</td>\n",
       "    </tr>\n",
       "  </tbody>\n",
       "</table>\n",
       "<p>8 rows × 675 columns</p>\n",
       "</div>"
      ],
      "text/plain": [
       "          x1          x2            x3          x4          x5          x6  \\\n",
       "count  917.0  917.000000  9.170000e+02  917.000000  917.000000  917.000000   \n",
       "mean     0.0    0.001091 -1.268672e-02    0.035372    0.135406    0.071372   \n",
       "std      0.0    0.033023  1.371179e-16    1.039822    1.090232    1.042983   \n",
       "min      0.0    0.000000 -1.268672e-02   -1.353982   -1.198499   -1.492815   \n",
       "25%      0.0    0.000000 -1.268672e-02   -1.353982   -0.633768   -0.814936   \n",
       "50%      0.0    0.000000 -1.268672e-02    0.812748   -0.415915   -0.150385   \n",
       "75%      0.0    0.000000 -1.268672e-02    0.812748    0.787530    0.932089   \n",
       "max      0.0    1.000000 -1.268672e-02    0.812748    4.638969    2.435083   \n",
       "\n",
       "               x7          x8          x9         x10     ...       \\\n",
       "count  917.000000  917.000000  917.000000  917.000000     ...        \n",
       "mean     0.001926   -0.124991    0.037022   -0.041249     ...        \n",
       "std      1.065193    1.031110    1.294541    1.181042     ...        \n",
       "min     -3.979920   -1.856909   -0.669478   -9.849753     ...        \n",
       "25%     -0.643332   -1.143038   -0.572501   -0.200605     ...        \n",
       "50%      0.371718    0.284749   -0.413037   -0.008938     ...        \n",
       "75%      0.782916    0.709719    0.000638    0.176536     ...        \n",
       "max      3.014326    1.993420   17.074376    6.727370     ...        \n",
       "\n",
       "             z222    SubjectK  SubA_Phase1  SubI_Phase1  SubM_Phase1  \\\n",
       "count  917.000000  917.000000   917.000000   917.000000   917.000000   \n",
       "mean    -0.000613    0.110142     0.020720     0.019629     0.018539   \n",
       "std      1.074990    0.313237     0.142522     0.138798     0.134963   \n",
       "min    -10.330171    0.000000     0.000000     0.000000     0.000000   \n",
       "25%     -0.142288    0.000000     0.000000     0.000000     0.000000   \n",
       "50%     -0.141801    0.000000     0.000000     0.000000     0.000000   \n",
       "75%     -0.138276    0.000000     0.000000     0.000000     0.000000   \n",
       "max     14.977966    1.000000     1.000000     1.000000     1.000000   \n",
       "\n",
       "       SubA_Phase2  SubF_Phase2  SubI_Phase3  SubL_Phase3  SubL_Phase4  \n",
       "count   917.000000   917.000000   917.000000   917.000000   917.000000  \n",
       "mean      0.018539     0.010905     0.035987     0.018539     0.030534  \n",
       "std       0.134963     0.103913     0.186359     0.134963     0.172146  \n",
       "min       0.000000     0.000000     0.000000     0.000000     0.000000  \n",
       "25%       0.000000     0.000000     0.000000     0.000000     0.000000  \n",
       "50%       0.000000     0.000000     0.000000     0.000000     0.000000  \n",
       "75%       0.000000     0.000000     0.000000     0.000000     0.000000  \n",
       "max       1.000000     1.000000     1.000000     1.000000     1.000000  \n",
       "\n",
       "[8 rows x 675 columns]"
      ]
     },
     "execution_count": 240,
     "metadata": {},
     "output_type": "execute_result"
    }
   ],
   "source": [
    "# CHECK TO MAKE SURE THE VARIABLES ARE STANDARDIZED\n",
    "X_test_std.describe()"
   ]
  },
  {
   "cell_type": "markdown",
   "metadata": {},
   "source": [
    "## APPLY PCA TO REDUCE DIMENSION"
   ]
  },
  {
   "cell_type": "code",
   "execution_count": 241,
   "metadata": {},
   "outputs": [
    {
     "name": "stdout",
     "output_type": "stream",
     "text": [
      "0.9527584599808514\n",
      "(917, 130)\n",
      "(6214, 130)\n",
      "(917,)\n",
      "(6214,)\n",
      "(1732, 130)\n"
     ]
    }
   ],
   "source": [
    "PCA_components = 130\n",
    "\n",
    "X_train_std = X_train_std.apply(lambda x: pd.to_numeric(x,errors='ignore'))\n",
    "X_test_std = X_test_std.apply(lambda x: pd.to_numeric(x,errors='ignore'))\n",
    "test_output_std = test_output_std.apply(lambda x: pd.to_numeric(x,errors='ignore'))\n",
    "\n",
    "pca = PCA(n_components=PCA_components)\n",
    "X_train_PCA = pca.fit_transform(X_train_std)\n",
    "print(pca.explained_variance_ratio_.sum())\n",
    "\n",
    "# Transform the test data using the same PCA dimensions\n",
    "X_test_PCA = pca.transform(X_test_std)\n",
    "\n",
    "#Also apply PCA to the OUTPUT TEST SET FOR LATER USE\n",
    "test_output_PCA = pca.transform(test_output_std)\n",
    "\n",
    "print(X_test_PCA.shape)\n",
    "print(X_train_PCA.shape)\n",
    "print(y_test.shape)\n",
    "print(y_train.shape)\n",
    "print(test_output_PCA.shape)"
   ]
  },
  {
   "cell_type": "markdown",
   "metadata": {},
   "source": [
    "# VARIABLES THAT CAN BE USED WHILE BUILDING THE MODEL \n",
    "## UNBALANCED DATA\n",
    "X_train_unbalanced   \n",
    "X_test_unbalanced   \n",
    "y_train_unbalanced   \n",
    "y_test_unbalanced   \n",
    "\n",
    "Data Set on which output file is to be generated on:\n",
    "test_output\n",
    "\n",
    "## BALANCED DATA\n",
    "if BALANCE is set to 'TRUE'  \n",
    "X_train   \n",
    "y_train   \n",
    "\n",
    "OR \n",
    "\n",
    "X_train_balanced   \n",
    "y_train_balanced[0]  \n",
    "\n",
    "Only need to train on balanced data. no need to balance any test data set  \n",
    "Data Set on which output file is to be generated on:  \n",
    "test_output\n",
    "\n",
    "## STANDARDIZED DATA \n",
    "if BALANCE is set to 'TRUE' the standardizatoin will happen on BALANCED DATA  \n",
    "\n",
    "X_train_std   \n",
    "X_test_std \n",
    "\n",
    "Data Set on which output file is to be generated on:  \n",
    "test_output_std  \n",
    "\n",
    "\n",
    "\n",
    "## DIMENSIONS REDUCED USING PCA\n",
    "if BALANCE is set to 'TRUE' the standardizatoin & PCA will be applied on BALANCED DATA  \n",
    "\n",
    "X_train_PCA  \n",
    "X_test_PCA  \n",
    "\n",
    "Data Set on which output file is to be generated on:  \n",
    "test_output_PCA"
   ]
  },
  {
   "cell_type": "markdown",
   "metadata": {},
   "source": [
    "## XGBOOST:    \n",
    "#### DETERMINE NUMBER OF ESTIMATORS USING A LOOP INSTEAD OF GRIDSEARCHCV"
   ]
  },
  {
   "cell_type": "code",
   "execution_count": 43,
   "metadata": {},
   "outputs": [],
   "source": [
    "#Create a model on complete training set \n",
    "#Leaving CV for your HW\n",
    "scores = []\n",
    "for ne in range(900, 1200, 100):\n",
    "    model = xgb.XGBClassifier(seed=82, n_estimators=ne, max_depth=3, colsample_bylevel=0.8,\n",
    "                           colsample_bytree=0.7, learning_rate=0.01, reg_lambda=0.1, \n",
    "                           scale_pos_weight=0.18357862, eval_metric='auc') #missing = -999\n",
    "    score_list = cross_val_score(model, X_train, y_train, cv = 3, n_jobs = -1, scoring= 'roc_auc')\n",
    "    scores.append(score_list)\n",
    "    #model.fit(train_1,Y, eval_metric='auc')\n",
    "    #preds = model.predict_proba(test_1) #submit these predictions\n",
    "#print(preds)\n"
   ]
  },
  {
   "cell_type": "code",
   "execution_count": 44,
   "metadata": {},
   "outputs": [
    {
     "data": {
      "image/png": "[encoded data removed]",
      "text/plain": [
       "<Figure size 864x360 with 1 Axes>"
      ]
     },
     "metadata": {},
     "output_type": "display_data"
    }
   ],
   "source": [
    "plt.figure(figsize=(12,5))\n",
    "plt.xlabel('Number of trees')\n",
    "plt.ylabel('Classification score')\n",
    "plt.title('Classification score as a function of the number of trees')\n",
    "sns.boxplot(x=np.arange(900, 1200, 100),y=scores)\n",
    "plt.show()"
   ]
  },
  {
   "cell_type": "markdown",
   "metadata": {},
   "source": [
    "#### FIT A XGBoost MODEL BASED ON THE PARAMETER DETERMINED ABOVE & PRINT STATS"
   ]
  },
  {
   "cell_type": "code",
   "execution_count": 263,
   "metadata": {
    "scrolled": true
   },
   "outputs": [
    {
     "name": "stdout",
     "output_type": "stream",
     "text": [
      "Number of mislabeled points out of a total 6214 training points : 1263\n",
      "('The hit rate on the training set: ', 0.7967492758287738)\n",
      "\n",
      "precision = 1.000, recall = 0.593, specificity= 1.000 F1 = 0.745, accuracy = 0.797\n",
      "          0         1\n",
      "0  0.710984  0.684924\n",
      "1  0.000000  1.000000 \n",
      "\n",
      "The confusion matrix on the training set: \n",
      "       0     1\n",
      "0  3107  1263\n",
      "1     0  1844\n"
     ]
    },
    {
     "data": {
      "image/png": "[encoded data removed]",
      "text/plain": [
       "<Figure size 360x360 with 2 Axes>"
      ]
     },
     "metadata": {},
     "output_type": "display_data"
    },
    {
     "name": "stdout",
     "output_type": "stream",
     "text": [
      "Number of mislabeled points out of a total 917 testing points : 367\n",
      "('The hit rate on the testing set: ', 0.5997818974918212)\n",
      "\n",
      "precision = 0.944, recall = 0.554, specificity= 0.834 F1 = 0.698, accuracy = 0.600\n",
      "\n",
      "*********** AUC for ROC = 0.746 *********************\n",
      "\n",
      "          0         1\n",
      "0  0.269231  0.761693\n",
      "1  0.053419  0.944321 \n",
      "\n",
      "The confusion matrix on the testing set: \n",
      "      0    1\n",
      "0  126  342\n",
      "1   25  424\n"
     ]
    },
    {
     "data": {
      "image/png": "[encoded data removed]",
      "text/plain": [
       "<Figure size 360x360 with 2 Axes>"
      ]
     },
     "metadata": {},
     "output_type": "display_data"
    },
    {
     "data": {
      "text/plain": [
       "XGBClassifier(base_score=0.5, booster='gbtree', colsample_bylevel=0.8,\n",
       "       colsample_bytree=0.7, eval_metric='auc', gamma=0,\n",
       "       learning_rate=0.01, max_delta_step=0, max_depth=3,\n",
       "       min_child_weight=1, missing=None, n_estimators=1200, n_jobs=1,\n",
       "       nthread=None, objective='binary:logistic', random_state=0,\n",
       "       reg_alpha=0, reg_lambda=0.1, scale_pos_weight=0.18357862, seed=82,\n",
       "       silent=True, subsample=1)"
      ]
     },
     "execution_count": 263,
     "metadata": {},
     "output_type": "execute_result"
    }
   ],
   "source": [
    "# From the Above scores I pick 700 as the optimal number of estimators.\n",
    "xgb_model = xgb.XGBClassifier(seed=82, n_estimators=1200 , max_depth=4, colsample_bylevel=0.8,\n",
    "                        colsample_bytree=0.7,learning_rate=0.01, reg_lambda=0.1 , \n",
    "                        scale_pos_weight = 0.18357862, eval_metric='auc') #missing = -999\n",
    "\n",
    "print_stats(xgb_model, X_train, X_test, y_train, y_test)\n",
    "xgb_model.fit(X_train, y_train, eval_metric='auc')"
   ]
  },
  {
   "cell_type": "code",
   "execution_count": null,
   "metadata": {},
   "outputs": [],
   "source": [
    "_ = generate_file (xgb_model, test_output, \"xgb_model.csv\") "
   ]
  },
  {
   "cell_type": "markdown",
   "metadata": {},
   "source": [
    "#### USE GRIDSEARCHCV TO DETERMINE n_estimators & learning rate for XGBOOST"
   ]
  },
  {
   "cell_type": "code",
   "execution_count": null,
   "metadata": {},
   "outputs": [],
   "source": [
    "# DO A GRIDSEARCH ON XGBOOST MODEL\n",
    "n_estimators = [ 500, 600, 800, 700, 800, 900, 1000, 1100]  \n",
    "learning_rate = [0.1, 0.5, 0.01, 0.05,0.001,0.0001]  \n",
    "\n",
    "param_grid1 = {'learning_rate':learning_rate, 'n_estimators':n_estimators}\n",
    "param_grid1\n"
   ]
  },
  {
   "cell_type": "code",
   "execution_count": null,
   "metadata": {},
   "outputs": [],
   "source": [
    "model = xgb.XGBClassifier()\n",
    "#grid_search = GridSearchCV(model,param_grid=param_grid1, scoring=\"auc\", verbose=1 )\n",
    "#grid_search.fit(X_train, y_train) #Default 3 folds"
   ]
  },
  {
   "cell_type": "code",
   "execution_count": null,
   "metadata": {},
   "outputs": [],
   "source": [
    "#print(grid_search.best_score_)\n",
    "#print(grid_search.best_params_)  "
   ]
  },
  {
   "cell_type": "markdown",
   "metadata": {},
   "source": [
    "## LOGISTIC REGRESSION:"
   ]
  },
  {
   "cell_type": "code",
   "execution_count": 46,
   "metadata": {},
   "outputs": [
    {
     "name": "stdout",
     "output_type": "stream",
     "text": [
      "Fitting 3 folds for each of 5 candidates, totalling 15 fits\n"
     ]
    },
    {
     "name": "stderr",
     "output_type": "stream",
     "text": [
      "[Parallel(n_jobs=1)]: Using backend SequentialBackend with 1 concurrent workers.\n",
      "C:\\ProgramData\\Anaconda3\\lib\\site-packages\\sklearn\\linear_model\\sag.py:334: ConvergenceWarning: The max_iter was reached which means the coef_ did not converge\n",
      "  \"the coef_ did not converge\", ConvergenceWarning)\n",
      "C:\\ProgramData\\Anaconda3\\lib\\site-packages\\sklearn\\linear_model\\sag.py:334: ConvergenceWarning: The max_iter was reached which means the coef_ did not converge\n",
      "  \"the coef_ did not converge\", ConvergenceWarning)\n",
      "C:\\ProgramData\\Anaconda3\\lib\\site-packages\\sklearn\\linear_model\\sag.py:334: ConvergenceWarning: The max_iter was reached which means the coef_ did not converge\n",
      "  \"the coef_ did not converge\", ConvergenceWarning)\n",
      "C:\\ProgramData\\Anaconda3\\lib\\site-packages\\sklearn\\linear_model\\logistic.py:757: ConvergenceWarning: lbfgs failed to converge. Increase the number of iterations.\n",
      "  \"of iterations.\", ConvergenceWarning)\n",
      "C:\\ProgramData\\Anaconda3\\lib\\site-packages\\sklearn\\linear_model\\logistic.py:757: ConvergenceWarning: lbfgs failed to converge. Increase the number of iterations.\n",
      "  \"of iterations.\", ConvergenceWarning)\n",
      "C:\\ProgramData\\Anaconda3\\lib\\site-packages\\sklearn\\linear_model\\logistic.py:757: ConvergenceWarning: lbfgs failed to converge. Increase the number of iterations.\n",
      "  \"of iterations.\", ConvergenceWarning)\n",
      "C:\\ProgramData\\Anaconda3\\lib\\site-packages\\sklearn\\linear_model\\sag.py:334: ConvergenceWarning: The max_iter was reached which means the coef_ did not converge\n",
      "  \"the coef_ did not converge\", ConvergenceWarning)\n",
      "C:\\ProgramData\\Anaconda3\\lib\\site-packages\\sklearn\\linear_model\\sag.py:334: ConvergenceWarning: The max_iter was reached which means the coef_ did not converge\n",
      "  \"the coef_ did not converge\", ConvergenceWarning)\n",
      "C:\\ProgramData\\Anaconda3\\lib\\site-packages\\sklearn\\linear_model\\sag.py:334: ConvergenceWarning: The max_iter was reached which means the coef_ did not converge\n",
      "  \"the coef_ did not converge\", ConvergenceWarning)\n",
      "[Parallel(n_jobs=1)]: Done  15 out of  15 | elapsed:    8.4s finished\n"
     ]
    },
    {
     "name": "stdout",
     "output_type": "stream",
     "text": [
      "0.8169011285799564\n",
      "{'penalty': 'l2', 'solver': 'newton-cg'}\n"
     ]
    }
   ],
   "source": [
    "lr_params = [\n",
    "  {'penalty': ['l1'], 'solver': [ 'liblinear',  'saga']},\n",
    "  {'penalty': ['l2'], 'solver': ['newton-cg', 'lbfgs', 'sag']},\n",
    " ]\n",
    "\n",
    "lr = LogisticRegression()  \n",
    "grid = GridSearchCV(lr, param_grid = lr_params, cv=3, scoring = 'roc_auc', verbose=1)\n",
    "grid.fit(X_train_PCA, y_train)\n",
    "\n",
    "print(grid.best_score_)\n",
    "print(grid.best_params_)  "
   ]
  },
  {
   "cell_type": "code",
   "execution_count": 245,
   "metadata": {},
   "outputs": [
    {
     "name": "stdout",
     "output_type": "stream",
     "text": [
      "Number of mislabeled points out of a total 6214 training points : 1909\n",
      "('The hit rate on the training set: ', 0.6927904731252011)\n",
      "\n",
      "precision = 0.710, recall = 0.651, specificity= 0.735 F1 = 0.679, accuracy = 0.693\n",
      "          0         1\n",
      "0  0.677850  0.381237\n",
      "1  0.244656  0.710471 \n",
      "\n",
      "The confusion matrix on the training set: \n",
      "       0     1\n",
      "0  2283  1085\n",
      "1   824  2022\n"
     ]
    },
    {
     "data": {
      "image/png": "[encoded data removed]",
      "text/plain": [
       "<Figure size 360x360 with 2 Axes>"
      ]
     },
     "metadata": {},
     "output_type": "display_data"
    },
    {
     "name": "stdout",
     "output_type": "stream",
     "text": [
      "Number of mislabeled points out of a total 917 testing points : 326\n",
      "('The hit rate on the testing set: ', 0.6444929116684842)\n",
      "\n",
      "precision = 0.883, recall = 0.662, specificity= 0.556 F1 = 0.757, accuracy = 0.644\n",
      "\n",
      "*********** AUC for ROC = 0.665 *********************\n",
      "\n",
      "          0         1\n",
      "0  0.244898  0.451220\n",
      "1  0.195335  0.883275 \n",
      "\n",
      "The confusion matrix on the testing set: \n",
      "     0    1\n",
      "0  84  259\n",
      "1  67  507\n"
     ]
    },
    {
     "data": {
      "image/png": "[encoded data removed]",
      "text/plain": [
       "<Figure size 360x360 with 2 Axes>"
      ]
     },
     "metadata": {},
     "output_type": "display_data"
    }
   ],
   "source": [
    "# USE THE BEST PARAMS FOUND BY GRID SEARCH\n",
    "lr = LogisticRegression(penalty='l2', solver = 'newton-cg')\n",
    "lr.fit(X_train_PCA, y_train)\n",
    "\n",
    "print_stats(lr, X_train_PCA, X_test_PCA, y_train, y_test)"
   ]
  },
  {
   "cell_type": "code",
   "execution_count": null,
   "metadata": {},
   "outputs": [],
   "source": [
    "_ = generate_file(lr, pd.DataFrame(test_output_PCA), \"logistic_reg.csv\")"
   ]
  },
  {
   "cell_type": "markdown",
   "metadata": {},
   "source": [
    "## NAIVE BAYES"
   ]
  },
  {
   "cell_type": "code",
   "execution_count": 246,
   "metadata": {},
   "outputs": [
    {
     "name": "stdout",
     "output_type": "stream",
     "text": [
      "Number of mislabeled points out of a total 6214 training points : 2534\n",
      "('The hit rate on the training set: ', 0.5922111361441905)\n",
      "\n",
      "precision = 0.693, recall = 0.332, specificity= 0.853 F1 = 0.448, accuracy = 0.592\n",
      "          0         1\n",
      "0  0.560609  1.396772\n",
      "1  0.096679  0.692670 \n",
      "\n",
      "The confusion matrix on the training set: \n",
      "       0     1\n",
      "0  2650  2077\n",
      "1   457  1030\n"
     ]
    },
    {
     "data": {
      "image/png": "[encoded data removed]",
      "text/plain": [
       "<Figure size 360x360 with 2 Axes>"
      ]
     },
     "metadata": {},
     "output_type": "display_data"
    },
    {
     "name": "stdout",
     "output_type": "stream",
     "text": [
      "Number of mislabeled points out of a total 917 testing points : 572\n",
      "('The hit rate on the testing set: ', 0.376226826608506)\n",
      "\n",
      "precision = 0.849, recall = 0.308, specificity= 0.722 F1 = 0.452, accuracy = 0.376\n",
      "\n",
      "*********** AUC for ROC = 0.491 *********************\n",
      "\n",
      "          0         1\n",
      "0  0.170579  1.906475\n",
      "1  0.065728  0.848921 \n",
      "\n",
      "The confusion matrix on the testing set: \n",
      "      0    1\n",
      "0  109  530\n",
      "1   42  236\n"
     ]
    },
    {
     "data": {
      "image/png": "[encoded data removed]",
      "text/plain": [
       "<Figure size 360x360 with 2 Axes>"
      ]
     },
     "metadata": {},
     "output_type": "display_data"
    },
    {
     "data": {
      "text/plain": [
       "GaussianNB(priors=None, var_smoothing=1e-09)"
      ]
     },
     "execution_count": 246,
     "metadata": {},
     "output_type": "execute_result"
    }
   ],
   "source": [
    "gnb = GaussianNB()\n",
    "\n",
    "print_stats(gnb, X_train_PCA, X_test_PCA, y_train, y_test)\n",
    "\n",
    "gnb.fit(X_train, y_train)\n"
   ]
  },
  {
   "cell_type": "markdown",
   "metadata": {},
   "source": [
    "## RANDOM FOREST"
   ]
  },
  {
   "cell_type": "code",
   "execution_count": 211,
   "metadata": {},
   "outputs": [
    {
     "data": {
      "text/plain": [
       "{'n_estimators': [50, 60, 70, 80, 90],\n",
       " 'max_features': [5, 6],\n",
       " 'min_samples_leaf': [10, 50, 200, 500]}"
      ]
     },
     "execution_count": 211,
     "metadata": {},
     "output_type": "execute_result"
    }
   ],
   "source": [
    "# DO A GRIDSEARCH ON XGBOOST MODEL\n",
    "n_estimators = [ 50, 60, 70, 80, 90]  \n",
    "max_features = [5, 6]  \n",
    "min_samples_leaf = [10,50, 200,500]\n",
    "\n",
    "param_RandomForest = {'n_estimators':n_estimators, 'max_features':max_features, 'min_samples_leaf': min_samples_leaf}\n",
    "param_RandomForest\n"
   ]
  },
  {
   "cell_type": "code",
   "execution_count": 212,
   "metadata": {},
   "outputs": [
    {
     "name": "stderr",
     "output_type": "stream",
     "text": [
      "C:\\ProgramData\\Anaconda3\\lib\\site-packages\\sklearn\\model_selection\\_split.py:1943: FutureWarning: You should specify a value for 'cv' instead of relying on the default value. The default value will change from 3 to 5 in version 0.22.\n",
      "  warnings.warn(CV_WARNING, FutureWarning)\n",
      "[Parallel(n_jobs=1)]: Using backend SequentialBackend with 1 concurrent workers.\n"
     ]
    },
    {
     "name": "stdout",
     "output_type": "stream",
     "text": [
      "Fitting 3 folds for each of 40 candidates, totalling 120 fits\n"
     ]
    },
    {
     "name": "stderr",
     "output_type": "stream",
     "text": [
      "[Parallel(n_jobs=1)]: Done 120 out of 120 | elapsed:  1.2min finished\n"
     ]
    },
    {
     "data": {
      "text/plain": [
       "GridSearchCV(cv='warn', error_score='raise-deprecating',\n",
       "       estimator=RandomForestClassifier(bootstrap=True, class_weight=None, criterion='gini',\n",
       "            max_depth=None, max_features='auto', max_leaf_nodes=None,\n",
       "            min_impurity_decrease=0.0, min_impurity_split=None,\n",
       "            min_samples_leaf=1, min_samples_split=2,\n",
       "            min_weight_fraction_leaf=0.0, n_estimators='warn', n_jobs=None,\n",
       "            oob_score=False, random_state=None, verbose=0,\n",
       "            warm_start=False),\n",
       "       fit_params=None, iid='warn', n_jobs=None,\n",
       "       param_grid={'n_estimators': [50, 60, 70, 80, 90], 'max_features': [5, 6], 'min_samples_leaf': [10, 50, 200, 500]},\n",
       "       pre_dispatch='2*n_jobs', refit=True, return_train_score='warn',\n",
       "       scoring='roc_auc', verbose=1)"
      ]
     },
     "execution_count": 212,
     "metadata": {},
     "output_type": "execute_result"
    }
   ],
   "source": [
    "model = RandomForestClassifier()\n",
    "grid_search = GridSearchCV(model, param_grid=param_RandomForest, scoring=\"roc_auc\", verbose=1 )\n",
    "grid_search.fit(X_train, y_train) #Default 3 folds\n",
    "print(grid_search.best_score_)\n",
    "print(grid_search.best_params_)  "
   ]
  },
  {
   "cell_type": "code",
   "execution_count": 247,
   "metadata": {},
   "outputs": [
    {
     "name": "stdout",
     "output_type": "stream",
     "text": [
      "Number of mislabeled points out of a total 6214 training points : 111\n",
      "('The hit rate on the training set: ', 0.9821371097521725)\n",
      "\n",
      "precision = 0.976, recall = 0.988, specificity= 0.976 F1 = 0.982, accuracy = 0.982\n",
      "          0         1\n",
      "0  0.988266  0.011443\n",
      "1  0.024446  0.976160 \n",
      "\n",
      "The confusion matrix on the training set: \n",
      "       0     1\n",
      "0  3032    36\n",
      "1    75  3071\n"
     ]
    },
    {
     "data": {
      "image/png": "[encoded data removed]",
      "text/plain": [
       "<Figure size 360x360 with 2 Axes>"
      ]
     },
     "metadata": {},
     "output_type": "display_data"
    },
    {
     "name": "stdout",
     "output_type": "stream",
     "text": [
      "Number of mislabeled points out of a total 917 testing points : 167\n",
      "('The hit rate on the testing set: ', 0.8178844056706652)\n",
      "\n",
      "precision = 0.867, recall = 0.923, specificity= 0.285 F1 = 0.894, accuracy = 0.818\n",
      "\n",
      "*********** AUC for ROC = 0.701 *********************\n",
      "\n",
      "          0         1\n",
      "0  0.421569  0.072393\n",
      "1  1.058824  0.867485 \n",
      "\n",
      "The confusion matrix on the testing set: \n",
      "      0    1\n",
      "0   43   59\n",
      "1  108  707\n"
     ]
    },
    {
     "data": {
      "image/png": "[encoded data removed]",
      "text/plain": [
       "<Figure size 360x360 with 2 Axes>"
      ]
     },
     "metadata": {},
     "output_type": "display_data"
    }
   ],
   "source": [
    "rf = RandomForestClassifier(max_features = 10, n_estimators = 80, min_samples_leaf =10)\n",
    "print_stats(rf, X_train, X_test, y_train, y_test)\n",
    "rf.fit(X_train,y_train)"
   ]
  },
  {
   "cell_type": "markdown",
   "metadata": {},
   "source": [
    "## LDA"
   ]
  },
  {
   "cell_type": "code",
   "execution_count": 260,
   "metadata": {},
   "outputs": [
    {
     "name": "stdout",
     "output_type": "stream",
     "text": [
      "Number of mislabeled points out of a total 6214 training points : 1091\n",
      "('The hit rate on the training set: ', 0.8244287093659478)\n",
      "\n",
      "precision = 0.903, recall = 0.727, specificity= 0.921 F1 = 0.806, accuracy = 0.824\n",
      "          0         1\n",
      "0  0.771698  0.338259\n",
      "1  0.065768  0.902556 \n",
      "\n",
      "The confusion matrix on the training set: \n",
      "       0     1\n",
      "0  2863   847\n",
      "1   244  2260\n"
     ]
    },
    {
     "name": "stderr",
     "output_type": "stream",
     "text": [
      "C:\\ProgramData\\Anaconda3\\lib\\site-packages\\sklearn\\discriminant_analysis.py:388: UserWarning: Variables are collinear.\n",
      "  warnings.warn(\"Variables are collinear.\")\n"
     ]
    },
    {
     "data": {
      "image/png": "[encoded data removed]",
      "text/plain": [
       "<Figure size 360x360 with 2 Axes>"
      ]
     },
     "metadata": {},
     "output_type": "display_data"
    },
    {
     "name": "stdout",
     "output_type": "stream",
     "text": [
      "Number of mislabeled points out of a total 917 testing points : 272\n",
      "('The hit rate on the testing set: ', 0.7033805888767721)\n",
      "\n",
      "precision = 0.923, recall = 0.704, specificity= 0.702 F1 = 0.799, accuracy = 0.703\n",
      "\n",
      "*********** AUC for ROC = 0.762 *********************\n",
      "\n",
      "          0         1\n",
      "0  0.318318  0.388699\n",
      "1  0.135135  0.922945 \n",
      "\n",
      "The confusion matrix on the testing set: \n",
      "      0    1\n",
      "0  106  227\n",
      "1   45  539\n"
     ]
    },
    {
     "data": {
      "image/png": "[encoded data removed]",
      "text/plain": [
       "<Figure size 360x360 with 2 Axes>"
      ]
     },
     "metadata": {},
     "output_type": "display_data"
    },
    {
     "name": "stderr",
     "output_type": "stream",
     "text": [
      "C:\\ProgramData\\Anaconda3\\lib\\site-packages\\sklearn\\discriminant_analysis.py:388: UserWarning: Variables are collinear.\n",
      "  warnings.warn(\"Variables are collinear.\")\n"
     ]
    },
    {
     "data": {
      "text/plain": [
       "LinearDiscriminantAnalysis(n_components=None, priors=None, shrinkage=None,\n",
       "              solver='svd', store_covariance=False, tol=0.0001)"
      ]
     },
     "execution_count": 260,
     "metadata": {},
     "output_type": "execute_result"
    }
   ],
   "source": [
    "lda = LinearDiscriminantAnalysis()\n",
    "#lda = lda.fit(X_train_std, y_train)\n",
    "\n",
    "print_stats(lda, X_train, X_test, y_train, y_test)\n",
    "lda.fit(X_train, y_train)\n"
   ]
  },
  {
   "cell_type": "markdown",
   "metadata": {},
   "source": [
    "## SUPPORT VECTOR MACHINE"
   ]
  },
  {
   "cell_type": "code",
   "execution_count": 267,
   "metadata": {},
   "outputs": [
    {
     "name": "stderr",
     "output_type": "stream",
     "text": [
      "C:\\ProgramData\\Anaconda3\\lib\\site-packages\\sklearn\\svm\\base.py:196: FutureWarning: The default value of gamma will change from 'auto' to 'scale' in version 0.22 to account better for unscaled features. Set gamma explicitly to 'auto' or 'scale' to avoid this warning.\n",
      "  \"avoid this warning.\", FutureWarning)\n"
     ]
    },
    {
     "name": "stdout",
     "output_type": "stream",
     "text": [
      "Number of mislabeled points out of a total 6214 training points : 643\n",
      "('The hit rate on the training set: ', 0.8965239781139362)\n",
      "\n",
      "precision = 0.938, recall = 0.849, specificity= 0.944 F1 = 0.891, accuracy = 0.897\n",
      "          0         1\n",
      "0  0.862140  0.166785\n",
      "1  0.051146  0.938122 \n",
      "\n",
      "The confusion matrix on the training set: \n",
      "       0     1\n",
      "0  2933   469\n",
      "1   174  2638\n"
     ]
    },
    {
     "data": {
      "image/png": "[encoded data removed]",
      "text/plain": [
       "<Figure size 360x360 with 2 Axes>"
      ]
     },
     "metadata": {},
     "output_type": "display_data"
    },
    {
     "name": "stdout",
     "output_type": "stream",
     "text": [
      "Number of mislabeled points out of a total 917 testing points : 225\n",
      "('The hit rate on the testing set: ', 0.7546346782988005)\n",
      "\n",
      "precision = 0.880, recall = 0.817, specificity= 0.437 F1 = 0.848, accuracy = 0.755\n",
      "\n",
      "*********** AUC for ROC = 0.677 *********************\n",
      "\n",
      "          0         1\n",
      "0  0.320388  0.196906\n",
      "1  0.412621  0.880450 \n",
      "\n",
      "The confusion matrix on the testing set: \n",
      "     0    1\n",
      "0  66  140\n",
      "1  85  626\n"
     ]
    },
    {
     "data": {
      "image/png": "[encoded data removed]",
      "text/plain": [
       "<Figure size 360x360 with 2 Axes>"
      ]
     },
     "metadata": {},
     "output_type": "display_data"
    },
    {
     "name": "stderr",
     "output_type": "stream",
     "text": [
      "C:\\ProgramData\\Anaconda3\\lib\\site-packages\\sklearn\\svm\\base.py:196: FutureWarning: The default value of gamma will change from 'auto' to 'scale' in version 0.22 to account better for unscaled features. Set gamma explicitly to 'auto' or 'scale' to avoid this warning.\n",
      "  \"avoid this warning.\", FutureWarning)\n"
     ]
    },
    {
     "data": {
      "text/plain": [
       "SVC(C=1.0, cache_size=200, class_weight=None, coef0=0.0,\n",
       "  decision_function_shape='ovr', degree=3, gamma='auto_deprecated',\n",
       "  kernel='rbf', max_iter=-1, probability=True, random_state=None,\n",
       "  shrinking=True, tol=0.001, verbose=False)"
      ]
     },
     "execution_count": 267,
     "metadata": {},
     "output_type": "execute_result"
    }
   ],
   "source": [
    "svm = SVC(probability=True)\n",
    "print_stats(svm, X_train_std, X_test_std, y_train, y_test)\n",
    "svm.fit(X_train_std, y_train)\n"
   ]
  },
  {
   "cell_type": "markdown",
   "metadata": {},
   "source": [
    "## STACK THE RESULTS OF DIFFERENT MODELS"
   ]
  },
  {
   "cell_type": "code",
   "execution_count": 276,
   "metadata": {},
   "outputs": [
    {
     "name": "stdout",
     "output_type": "stream",
     "text": [
      "(6214, 4)\n",
      "(6214,)\n",
      "1    3107\n",
      "0    3107\n",
      "Name: 0, dtype: int64\n",
      "(917, 4)\n",
      "(917,)\n",
      "1    766\n",
      "0    151\n",
      "Name: output, dtype: int64\n",
      "(1732, 4)\n"
     ]
    }
   ],
   "source": [
    "def create_base_predictions (list_data):\n",
    "    return_list = []\n",
    "    for X, X_std, X_PCA in list_data:\n",
    "        base_predictions = pd.DataFrame( \n",
    "          {'XGBoost': list(xgb_model.predict_proba(X)[:,1]),\n",
    "           'LogisticR': list(lr.predict_proba(X_PCA)[:,1]),\n",
    "           'NaiveBayes': list(gnb.predict_proba(X)[:,1]),\n",
    "           #'RandomForeset': list(rf.predict_proba(X)[:,1]),\n",
    "           'LDA': list(lda.predict_proba(X)[:,1]),\n",
    "           #'SVM': list(svm.predict_proba(X_std)[:,1])\n",
    "          })\n",
    "        return_list.append(base_predictions)\n",
    "    return return_list[0], return_list[1], return_list[2]\n",
    " \n",
    "# A list of 3 data sets : Training, Test, Test_output(output is the test data on which the submit predictions have to be made)\n",
    "data_list = [(X_train, X_train_std, X_train_PCA), \\\n",
    "             (X_test, X_test_std, X_test_PCA), \\\n",
    "             (test_output, test_output_std, test_output_PCA)]\n",
    "                                                                                    \n",
    "training_preds, test_preds, output_preds = create_base_predictions(data_list)\n",
    "\n",
    "INCLUDE_BIN = False\n",
    "\n",
    "if INCLUDE_BIN: \n",
    "# Add back the binary features to see if results improve\n",
    "    training_preds[bin_features] = X_train_binary\n",
    "    test_preds[bin_features] = X_test_binary\n",
    "    output_preds[bin_features] = test_output_binary\n",
    "\n",
    "print(training_preds.shape)\n",
    "print(y_train.shape)\n",
    "print(y_train.value_counts())\n",
    "print(test_preds.shape)\n",
    "print(y_test.shape)\n",
    "print(y_test.value_counts())\n",
    "print(output_preds.shape)"
   ]
  },
  {
   "cell_type": "code",
   "execution_count": 282,
   "metadata": {},
   "outputs": [
    {
     "name": "stdout",
     "output_type": "stream",
     "text": [
      "Number of mislabeled points out of a total 6214 training points : 504\n",
      "('The hit rate on the training set: ', 0.918892822658513)\n",
      "\n",
      "precision = 0.939, recall = 0.896, specificity= 0.941 F1 = 0.917, accuracy = 0.919\n",
      "          0         1\n",
      "0  0.900832  0.108527\n",
      "1  0.056052  0.938659 \n",
      "\n",
      "The confusion matrix on the training set: \n",
      "       0     1\n",
      "0  2925   322\n",
      "1   182  2785\n"
     ]
    },
    {
     "data": {
      "image/png": "[encoded data removed]",
      "text/plain": [
       "<Figure size 360x360 with 2 Axes>"
      ]
     },
     "metadata": {},
     "output_type": "display_data"
    },
    {
     "name": "stdout",
     "output_type": "stream",
     "text": [
      "Number of mislabeled points out of a total 917 testing points : 191\n",
      "('The hit rate on the testing set: ', 0.7917121046892039)\n",
      "\n",
      "precision = 0.884, recall = 0.864, specificity= 0.424 F1 = 0.874, accuracy = 0.792\n",
      "\n",
      "*********** AUC for ROC = 0.750 *********************\n",
      "\n",
      "          0         1\n",
      "0  0.380952  0.138852\n",
      "1  0.517857  0.883845 \n",
      "\n",
      "The confusion matrix on the testing set: \n",
      "     0    1\n",
      "0  64  104\n",
      "1  87  662\n"
     ]
    },
    {
     "data": {
      "image/png": "[encoded data removed]",
      "text/plain": [
       "<Figure size 360x360 with 2 Axes>"
      ]
     },
     "metadata": {},
     "output_type": "display_data"
    },
    {
     "data": {
      "text/plain": [
       "GaussianNB(priors=None, var_smoothing=1e-09)"
      ]
     },
     "execution_count": 282,
     "metadata": {},
     "output_type": "execute_result"
    }
   ],
   "source": [
    "gbm_stack = xgb.XGBClassifier(\n",
    " learning_rate = 0.01,\n",
    " n_estimators= 700,\n",
    " max_depth= 6,  \n",
    " min_child_weight= 2,\n",
    " gamma=0.9,   #Regularization parameter                     \n",
    " subsample=0.8,\n",
    " colsample_bytree=0.8,\n",
    " objective= 'binary:logistic',\n",
    " nthread= -1,\n",
    " scale_pos_weight=1)\n",
    "\n",
    "\n",
    "rf_stack = RandomForestClassifier(max_features = 1, n_estimators = 50, min_samples_leaf =50)\n",
    "gnb_stack = GaussianNB()\n",
    "lda_stack = LinearDiscriminantAnalysis()\n",
    "\n",
    "\n",
    "# CHANGE THIS TO CHOOSE A DIFFERENT STACKING MODEL\n",
    "STACK_MODEL = gnb_stack\n",
    "\n",
    "# PRINT STATS AND FIT ON THE TRAINING SET\n",
    "print_stats(STACK_MODEL, training_preds, test_preds, y_train, y_test)\n",
    "STACK_MODEL.fit(training_preds,y_train)"
   ]
  },
  {
   "cell_type": "code",
   "execution_count": 251,
   "metadata": {},
   "outputs": [],
   "source": [
    "_ = generate_file (STACK_MODEL, output_preds, \"stack.csv\") "
   ]
  },
  {
   "cell_type": "code",
   "execution_count": null,
   "metadata": {},
   "outputs": [],
   "source": []
  }
 ],
 "metadata": {
  "kernelspec": {
   "display_name": "Python 3",
   "language": "python",
   "name": "python3"
  },
  "language_info": {
   "codemirror_mode": {
    "name": "ipython",
    "version": 3
   },
   "file_extension": ".py",
   "mimetype": "text/x-python",
   "name": "python",
   "nbconvert_exporter": "python",
   "pygments_lexer": "ipython3",
   "version": "3.6.5"
  }
 },
 "nbformat": 4,
 "nbformat_minor": 2
}
