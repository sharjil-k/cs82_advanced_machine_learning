{
 "cells": [
  {
   "cell_type": "markdown",
   "metadata": {},
   "source": [
    "## Homework 4 - Classification\n",
    "### Mazin Elnour & Sharjil Khan\n",
    "\n",
    "- [Initial Data Prep](#load)\n",
    "    - [Load the data and explore](#load)\n",
    "    - [Feature Engineering: Look for redundant features and remove them](#remove)\n",
    "    - [Feature Engineering: Account for Subject, Phase & State and remove them ](#add_feature)\n",
    "    - [Split into training and test and balance the training set](#split)\n",
    "    - [Standardise](#std)\n",
    "    - [Apply PCA](#pca)\n",
    "    - [List of Variables to be used by models](#variables)\n",
    "\n",
    "\n",
    "- [XGBoost](#xgboost)\n",
    "- [Logistic Regression](#logistic)\n",
    "- [Naive Bayes](#nb)\n",
    "- [Random Forest](#rf)\n",
    "- [LDA](#lda)\n",
    "- [Support Vector Machine](#svm)\n",
    "- [Stacked Models](#stack)\n",
    "\n",
    "-------"
   ]
  },
  {
   "cell_type": "markdown",
   "metadata": {},
   "source": [
    "## IMPORT LIBRARIES"
   ]
  },
  {
   "cell_type": "code",
   "execution_count": 2,
   "metadata": {},
   "outputs": [],
   "source": [
    "import pandas as pd\n",
    "import numpy as np\n",
    "import pandas_profiling\n",
    "\n",
    "from sklearn.ensemble import RandomForestClassifier\n",
    "from sklearn.model_selection import cross_val_score\n",
    "from sklearn.metrics import accuracy_score\n",
    "from sklearn.model_selection import GridSearchCV\n",
    "from sklearn.metrics import f1_score\n",
    "from sklearn.model_selection import train_test_split\n",
    "\n",
    "import seaborn as sns\n",
    "import matplotlib.pyplot as plt\n",
    "from matplotlib.colors import ListedColormap\n",
    "%matplotlib inline\n",
    "\n",
    "from numpy import loadtxt\n",
    "import xgboost as xgb\n",
    "from sklearn.metrics import mean_squared_error\n",
    "from sklearn.model_selection import GridSearchCV\n",
    "from sklearn.preprocessing import label_binarize\n",
    "from sklearn.metrics import roc_curve, auc\n",
    "from sklearn import metrics\n",
    "\n",
    "from sklearn.discriminant_analysis import LinearDiscriminantAnalysis\n",
    "from sklearn.linear_model import LogisticRegression\n",
    "from sklearn.discriminant_analysis import QuadraticDiscriminantAnalysis\n",
    "from sklearn.neighbors import KNeighborsClassifier\n",
    "\n",
    "import re\n",
    "# Going to use these 5 base models for the stacking\n",
    "from sklearn.ensemble import (RandomForestClassifier, AdaBoostClassifier, \n",
    "                              GradientBoostingClassifier, ExtraTreesClassifier)\n",
    "from sklearn.model_selection import KFold\n",
    "\n",
    "# \"Support Vector Classifier\" \n",
    "from sklearn.svm import SVC \n",
    "import sklearn.linear_model\n",
    "import sklearn.svm\n",
    "\n",
    "from sklearn.decomposition import PCA\n",
    "from sklearn.linear_model import LogisticRegression\n",
    "from sklearn.pipeline import Pipeline\n",
    "\n",
    "from sklearn.naive_bayes import GaussianNB\n",
    "\n",
    "dark2_colors = [(0.10588235294117647, 0.6196078431372549, 0.4666666666666667),\n",
    "                (0.9058823529411765, 0.1607843137254902, 0.5411764705882353),\n",
    "                (0.8509803921568627, 0.37254901960784315, 0.00784313725490196),\n",
    "                (0.4588235294117647, 0.4392156862745098, 0.7019607843137254),            \n",
    "                (0.4, 0.6509803921568628, 0.11764705882352941),\n",
    "                (0.9019607843137255, 0.6705882352941176, 0.00784313725490196),\n",
    "                (0.6509803921568628, 0.4627450980392157, 0.11372549019607843)]\n",
    "\n",
    "dark2_cmap=ListedColormap(dark2_colors)\n",
    "from sklearn.metrics import roc_curve, auc, precision_recall_curve, average_precision_score, roc_auc_score\n",
    "from sklearn.metrics import confusion_matrix, precision_recall_fscore_support, accuracy_score\n",
    "\n",
    "import warnings\n",
    "from sklearn.preprocessing import StandardScaler\n",
    "\n",
    "from imblearn.over_sampling import SMOTE"
   ]
  },
  {
   "cell_type": "markdown",
   "metadata": {},
   "source": [
    "## SOME HELPER FUNCTIONS"
   ]
  },
  {
   "cell_type": "code",
   "execution_count": 3,
   "metadata": {},
   "outputs": [],
   "source": [
    "targets = ['zeros', 'ones']\n",
    "def show_confusion_matrix(cm, target_names):\n",
    "    plt.figure(figsize=(5, 5))\n",
    "    plt.imshow(cm, interpolation='nearest', cmap=plt.cm.binary)\n",
    "    plt.title('Confusion matrix')\n",
    "    plt.set_cmap('Blues')\n",
    "    plt.colorbar()\n",
    "    tick_marks = np.arange(len(target_names))\n",
    "    plt.xticks(tick_marks, target_names, rotation=60)\n",
    "    plt.yticks(tick_marks, target_names)\n",
    "    plt.ylabel('True label')\n",
    "    plt.xlabel('Predicted label')\n",
    "    plt.show()\n",
    "\n",
    "def print_stats(clf, x_train, x_test, y_train, y_test):\n",
    "    clf.fit(x_train, y_train)\n",
    "\n",
    "    pred = clf.predict(x_test)\n",
    "    y_score = clf.predict_proba(x_test)[:,1]\n",
    "\n",
    "    print(\"Number of mislabeled points out of a total %d testing points : %d\"\n",
    "          % (x_test.shape[0],(y_test != pred).sum()))\n",
    "    # Output the hit-rate and the confusion matrix for the training set\n",
    "    print((\"The hit rate on the testing set: \", clf.score(x_test, y_test)))\n",
    "    report = precision_recall_fscore_support(y_test, pred, average='binary')\n",
    "    acc_score = accuracy_score(y_test, pred)\n",
    "    cm = confusion_matrix(pred, y_test)\n",
    "    specificity = cm[0][0]/ (cm[0][0] + cm[1][0])\n",
    "    \n",
    "    print(\"\\nprecision = %0.3f, recall = %0.3f, specificity= %0.3f F1 = %0.3f, accuracy = %0.3f\\n\" % \n",
    "          (report[0], report[1], specificity, report[2], acc_score))\n",
    "    print(\"*********** AUC for ROC = %0.3f *********************\\n\" % metrics.roc_auc_score(y_test, y_score))\n",
    "    print(pd.DataFrame(cm.astype(np.float64) / cm.sum(axis=1)),\"\\n\")\n",
    "    print(\"The confusion matrix on the testing set: \\n\",pd.DataFrame(cm) )\n",
    "    show_confusion_matrix(cm, targets)\n",
    "    \n",
    "    \n",
    "def generate_file (model, test_1, file_name):\n",
    "      preds = model.predict_proba(test_1) #submit these predictions\n",
    "      # TO CREATE THE FILE FROM PREDICTIONS, preds is returned by pred_proba\n",
    "      submithis = pd.DataFrame([test_1.index,preds[:,1]]).T\n",
    "      submithis.columns = ['id','output']\n",
    "      submithis.id = submithis.id.astype(int)\n",
    "      submithis.to_csv(file_name,index=False)  #~0.68756\n",
    "      return submithis\n",
    "    \n",
    "def feature_importance(importances, column_names, top_n):\n",
    "    features = column_names\n",
    "    indices = np.argsort(importances)[::-1][:top_n] \n",
    "    plt.title('Feature Importances')\n",
    "    plt.barh(range(len(indices)), importances[indices], color='b', align='center')\n",
    "    plt.xlabel('Relative Importance')\n",
    "    plt.yticks(range(len(indices)), [features[i] for i in indices])\n",
    "    plt.show()\n",
    "\n"
   ]
  },
  {
   "cell_type": "markdown",
   "metadata": {},
   "source": [
    "<a id='load'></a>\n",
    "## LOAD THE DATA AND SOME INITIAL DATA EXPLORATION\n",
    "Load the data and explore how many features, the types of features and look for any obvious issues with the data."
   ]
  },
  {
   "cell_type": "code",
   "execution_count": 4,
   "metadata": {},
   "outputs": [],
   "source": [
    "# LOAD THE DATA\n",
    "train = pd.read_csv('data/train_data.csv')\n",
    "test = pd.read_csv('data/test_data.csv')"
   ]
  },
  {
   "cell_type": "code",
   "execution_count": 5,
   "metadata": {},
   "outputs": [
    {
     "name": "stdout",
     "output_type": "stream",
     "text": [
      "(4584, 670)\n",
      "(1732, 669)\n"
     ]
    }
   ],
   "source": [
    "print(train.shape)\n",
    "print(test.shape)"
   ]
  },
  {
   "cell_type": "code",
   "execution_count": 6,
   "metadata": {},
   "outputs": [],
   "source": [
    "#pandas_profiling.ProfileReport(train) #Commented out because it is too time consuming to run"
   ]
  },
  {
   "cell_type": "code",
   "execution_count": 7,
   "metadata": {},
   "outputs": [
    {
     "data": {
      "text/html": [
       "<div>\n",
       "<style scoped>\n",
       "    .dataframe tbody tr th:only-of-type {\n",
       "        vertical-align: middle;\n",
       "    }\n",
       "\n",
       "    .dataframe tbody tr th {\n",
       "        vertical-align: top;\n",
       "    }\n",
       "\n",
       "    .dataframe thead th {\n",
       "        text-align: right;\n",
       "    }\n",
       "</style>\n",
       "<table border=\"1\" class=\"dataframe\">\n",
       "  <thead>\n",
       "    <tr style=\"text-align: right;\">\n",
       "      <th></th>\n",
       "      <th>x1</th>\n",
       "      <th>x2</th>\n",
       "      <th>x3</th>\n",
       "      <th>x4</th>\n",
       "      <th>x5</th>\n",
       "      <th>x6</th>\n",
       "      <th>x7</th>\n",
       "      <th>x8</th>\n",
       "      <th>x9</th>\n",
       "      <th>x10</th>\n",
       "      <th>...</th>\n",
       "      <th>z217</th>\n",
       "      <th>z218</th>\n",
       "      <th>z219</th>\n",
       "      <th>z220</th>\n",
       "      <th>z221</th>\n",
       "      <th>z222</th>\n",
       "      <th>subject</th>\n",
       "      <th>phase</th>\n",
       "      <th>state</th>\n",
       "      <th>output</th>\n",
       "    </tr>\n",
       "  </thead>\n",
       "  <tbody>\n",
       "    <tr>\n",
       "      <th>0</th>\n",
       "      <td>0</td>\n",
       "      <td>0</td>\n",
       "      <td>0</td>\n",
       "      <td>1</td>\n",
       "      <td>-323.106605</td>\n",
       "      <td>2.694366</td>\n",
       "      <td>-1.987520</td>\n",
       "      <td>261.092784</td>\n",
       "      <td>0.013704</td>\n",
       "      <td>0.000100</td>\n",
       "      <td>...</td>\n",
       "      <td>-0.004930</td>\n",
       "      <td>-0.005554</td>\n",
       "      <td>5.246375</td>\n",
       "      <td>-7.534092</td>\n",
       "      <td>3.530736</td>\n",
       "      <td>-0.539045</td>\n",
       "      <td>K</td>\n",
       "      <td>3</td>\n",
       "      <td>C</td>\n",
       "      <td>1</td>\n",
       "    </tr>\n",
       "    <tr>\n",
       "      <th>1</th>\n",
       "      <td>0</td>\n",
       "      <td>0</td>\n",
       "      <td>0</td>\n",
       "      <td>1</td>\n",
       "      <td>-376.084691</td>\n",
       "      <td>0.969696</td>\n",
       "      <td>-6.933765</td>\n",
       "      <td>355.311648</td>\n",
       "      <td>0.030292</td>\n",
       "      <td>-0.000153</td>\n",
       "      <td>...</td>\n",
       "      <td>0.022757</td>\n",
       "      <td>0.052506</td>\n",
       "      <td>-3.727741</td>\n",
       "      <td>-2.854443</td>\n",
       "      <td>-0.699268</td>\n",
       "      <td>-0.054074</td>\n",
       "      <td>A</td>\n",
       "      <td>4</td>\n",
       "      <td>C</td>\n",
       "      <td>1</td>\n",
       "    </tr>\n",
       "    <tr>\n",
       "      <th>2</th>\n",
       "      <td>0</td>\n",
       "      <td>0</td>\n",
       "      <td>0</td>\n",
       "      <td>0</td>\n",
       "      <td>91.955425</td>\n",
       "      <td>2.621643</td>\n",
       "      <td>-2.581162</td>\n",
       "      <td>51.357206</td>\n",
       "      <td>0.036668</td>\n",
       "      <td>-0.000104</td>\n",
       "      <td>...</td>\n",
       "      <td>-0.086813</td>\n",
       "      <td>-0.101497</td>\n",
       "      <td>-7.510594</td>\n",
       "      <td>19.564182</td>\n",
       "      <td>-17.008130</td>\n",
       "      <td>4.945392</td>\n",
       "      <td>D</td>\n",
       "      <td>3</td>\n",
       "      <td>C</td>\n",
       "      <td>1</td>\n",
       "    </tr>\n",
       "    <tr>\n",
       "      <th>3</th>\n",
       "      <td>0</td>\n",
       "      <td>0</td>\n",
       "      <td>0</td>\n",
       "      <td>1</td>\n",
       "      <td>-391.814586</td>\n",
       "      <td>1.866914</td>\n",
       "      <td>-2.510799</td>\n",
       "      <td>382.900317</td>\n",
       "      <td>0.007947</td>\n",
       "      <td>-0.000028</td>\n",
       "      <td>...</td>\n",
       "      <td>0.030856</td>\n",
       "      <td>-0.161398</td>\n",
       "      <td>-6.435819</td>\n",
       "      <td>2.174453</td>\n",
       "      <td>-0.153956</td>\n",
       "      <td>-0.003958</td>\n",
       "      <td>G</td>\n",
       "      <td>2</td>\n",
       "      <td>C</td>\n",
       "      <td>0</td>\n",
       "    </tr>\n",
       "    <tr>\n",
       "      <th>4</th>\n",
       "      <td>0</td>\n",
       "      <td>0</td>\n",
       "      <td>0</td>\n",
       "      <td>0</td>\n",
       "      <td>-363.823732</td>\n",
       "      <td>2.951346</td>\n",
       "      <td>-3.726368</td>\n",
       "      <td>330.527539</td>\n",
       "      <td>0.010074</td>\n",
       "      <td>-0.000004</td>\n",
       "      <td>...</td>\n",
       "      <td>-0.017226</td>\n",
       "      <td>-0.016454</td>\n",
       "      <td>-2.581403</td>\n",
       "      <td>3.011932</td>\n",
       "      <td>-1.281361</td>\n",
       "      <td>0.192647</td>\n",
       "      <td>C</td>\n",
       "      <td>2</td>\n",
       "      <td>C</td>\n",
       "      <td>1</td>\n",
       "    </tr>\n",
       "  </tbody>\n",
       "</table>\n",
       "<p>5 rows × 670 columns</p>\n",
       "</div>"
      ],
      "text/plain": [
       "   x1  x2  x3  x4          x5        x6        x7          x8        x9  \\\n",
       "0   0   0   0   1 -323.106605  2.694366 -1.987520  261.092784  0.013704   \n",
       "1   0   0   0   1 -376.084691  0.969696 -6.933765  355.311648  0.030292   \n",
       "2   0   0   0   0   91.955425  2.621643 -2.581162   51.357206  0.036668   \n",
       "3   0   0   0   1 -391.814586  1.866914 -2.510799  382.900317  0.007947   \n",
       "4   0   0   0   0 -363.823732  2.951346 -3.726368  330.527539  0.010074   \n",
       "\n",
       "        x10   ...        z217      z218      z219       z220       z221  \\\n",
       "0  0.000100   ...   -0.004930 -0.005554  5.246375  -7.534092   3.530736   \n",
       "1 -0.000153   ...    0.022757  0.052506 -3.727741  -2.854443  -0.699268   \n",
       "2 -0.000104   ...   -0.086813 -0.101497 -7.510594  19.564182 -17.008130   \n",
       "3 -0.000028   ...    0.030856 -0.161398 -6.435819   2.174453  -0.153956   \n",
       "4 -0.000004   ...   -0.017226 -0.016454 -2.581403   3.011932  -1.281361   \n",
       "\n",
       "       z222  subject  phase  state  output  \n",
       "0 -0.539045        K      3      C       1  \n",
       "1 -0.054074        A      4      C       1  \n",
       "2  4.945392        D      3      C       1  \n",
       "3 -0.003958        G      2      C       0  \n",
       "4  0.192647        C      2      C       1  \n",
       "\n",
       "[5 rows x 670 columns]"
      ]
     },
     "execution_count": 7,
     "metadata": {},
     "output_type": "execute_result"
    }
   ],
   "source": [
    "train.head()"
   ]
  },
  {
   "cell_type": "code",
   "execution_count": 8,
   "metadata": {},
   "outputs": [
    {
     "data": {
      "text/html": [
       "<div>\n",
       "<style scoped>\n",
       "    .dataframe tbody tr th:only-of-type {\n",
       "        vertical-align: middle;\n",
       "    }\n",
       "\n",
       "    .dataframe tbody tr th {\n",
       "        vertical-align: top;\n",
       "    }\n",
       "\n",
       "    .dataframe thead th {\n",
       "        text-align: right;\n",
       "    }\n",
       "</style>\n",
       "<table border=\"1\" class=\"dataframe\">\n",
       "  <thead>\n",
       "    <tr style=\"text-align: right;\">\n",
       "      <th></th>\n",
       "      <th>x1</th>\n",
       "      <th>x2</th>\n",
       "      <th>x3</th>\n",
       "      <th>x4</th>\n",
       "      <th>x5</th>\n",
       "      <th>x6</th>\n",
       "      <th>x7</th>\n",
       "      <th>x8</th>\n",
       "      <th>x9</th>\n",
       "      <th>x10</th>\n",
       "      <th>...</th>\n",
       "      <th>z216</th>\n",
       "      <th>z217</th>\n",
       "      <th>z218</th>\n",
       "      <th>z219</th>\n",
       "      <th>z220</th>\n",
       "      <th>z221</th>\n",
       "      <th>z222</th>\n",
       "      <th>subject</th>\n",
       "      <th>phase</th>\n",
       "      <th>state</th>\n",
       "    </tr>\n",
       "  </thead>\n",
       "  <tbody>\n",
       "    <tr>\n",
       "      <th>0</th>\n",
       "      <td>0</td>\n",
       "      <td>0</td>\n",
       "      <td>0</td>\n",
       "      <td>1</td>\n",
       "      <td>4.665949</td>\n",
       "      <td>0.083412</td>\n",
       "      <td>-17.397081</td>\n",
       "      <td>0.067865</td>\n",
       "      <td>0.005895</td>\n",
       "      <td>0.000012</td>\n",
       "      <td>...</td>\n",
       "      <td>-0.017574</td>\n",
       "      <td>-0.004402</td>\n",
       "      <td>0.016508</td>\n",
       "      <td>-540.645279</td>\n",
       "      <td>-1511.001159</td>\n",
       "      <td>-1408.385976</td>\n",
       "      <td>-437.807290</td>\n",
       "      <td>E</td>\n",
       "      <td>4</td>\n",
       "      <td>D</td>\n",
       "    </tr>\n",
       "    <tr>\n",
       "      <th>1</th>\n",
       "      <td>0</td>\n",
       "      <td>0</td>\n",
       "      <td>0</td>\n",
       "      <td>0</td>\n",
       "      <td>-398.299487</td>\n",
       "      <td>0.784032</td>\n",
       "      <td>-10.785768</td>\n",
       "      <td>403.784446</td>\n",
       "      <td>0.070405</td>\n",
       "      <td>0.000180</td>\n",
       "      <td>...</td>\n",
       "      <td>0.029533</td>\n",
       "      <td>0.113692</td>\n",
       "      <td>0.088024</td>\n",
       "      <td>-3.140961</td>\n",
       "      <td>-0.658456</td>\n",
       "      <td>-0.140010</td>\n",
       "      <td>-0.011017</td>\n",
       "      <td>H</td>\n",
       "      <td>4</td>\n",
       "      <td>D</td>\n",
       "    </tr>\n",
       "    <tr>\n",
       "      <th>2</th>\n",
       "      <td>0</td>\n",
       "      <td>0</td>\n",
       "      <td>0</td>\n",
       "      <td>1</td>\n",
       "      <td>-380.902140</td>\n",
       "      <td>0.671324</td>\n",
       "      <td>-9.265829</td>\n",
       "      <td>361.841929</td>\n",
       "      <td>0.006937</td>\n",
       "      <td>0.000025</td>\n",
       "      <td>...</td>\n",
       "      <td>-0.006361</td>\n",
       "      <td>0.005852</td>\n",
       "      <td>-0.003745</td>\n",
       "      <td>-14.340790</td>\n",
       "      <td>4.182214</td>\n",
       "      <td>-0.549953</td>\n",
       "      <td>0.019553</td>\n",
       "      <td>C</td>\n",
       "      <td>4</td>\n",
       "      <td>B</td>\n",
       "    </tr>\n",
       "    <tr>\n",
       "      <th>3</th>\n",
       "      <td>0</td>\n",
       "      <td>0</td>\n",
       "      <td>0</td>\n",
       "      <td>1</td>\n",
       "      <td>-342.784123</td>\n",
       "      <td>0.469414</td>\n",
       "      <td>-8.044287</td>\n",
       "      <td>293.043601</td>\n",
       "      <td>0.007217</td>\n",
       "      <td>-0.000021</td>\n",
       "      <td>...</td>\n",
       "      <td>0.001950</td>\n",
       "      <td>-0.003426</td>\n",
       "      <td>-0.011191</td>\n",
       "      <td>251.659680</td>\n",
       "      <td>-441.129598</td>\n",
       "      <td>256.986592</td>\n",
       "      <td>-49.745359</td>\n",
       "      <td>H</td>\n",
       "      <td>1</td>\n",
       "      <td>C</td>\n",
       "    </tr>\n",
       "    <tr>\n",
       "      <th>4</th>\n",
       "      <td>0</td>\n",
       "      <td>0</td>\n",
       "      <td>0</td>\n",
       "      <td>1</td>\n",
       "      <td>6.248502</td>\n",
       "      <td>0.252336</td>\n",
       "      <td>-5.398056</td>\n",
       "      <td>0.110097</td>\n",
       "      <td>0.005573</td>\n",
       "      <td>0.000010</td>\n",
       "      <td>...</td>\n",
       "      <td>-0.001916</td>\n",
       "      <td>-0.015666</td>\n",
       "      <td>-0.015960</td>\n",
       "      <td>-137.847658</td>\n",
       "      <td>-377.758402</td>\n",
       "      <td>-345.673251</td>\n",
       "      <td>-105.633150</td>\n",
       "      <td>E</td>\n",
       "      <td>4</td>\n",
       "      <td>B</td>\n",
       "    </tr>\n",
       "  </tbody>\n",
       "</table>\n",
       "<p>5 rows × 669 columns</p>\n",
       "</div>"
      ],
      "text/plain": [
       "   x1  x2  x3  x4          x5        x6         x7          x8        x9  \\\n",
       "0   0   0   0   1    4.665949  0.083412 -17.397081    0.067865  0.005895   \n",
       "1   0   0   0   0 -398.299487  0.784032 -10.785768  403.784446  0.070405   \n",
       "2   0   0   0   1 -380.902140  0.671324  -9.265829  361.841929  0.006937   \n",
       "3   0   0   0   1 -342.784123  0.469414  -8.044287  293.043601  0.007217   \n",
       "4   0   0   0   1    6.248502  0.252336  -5.398056    0.110097  0.005573   \n",
       "\n",
       "        x10  ...        z216      z217      z218        z219         z220  \\\n",
       "0  0.000012  ...   -0.017574 -0.004402  0.016508 -540.645279 -1511.001159   \n",
       "1  0.000180  ...    0.029533  0.113692  0.088024   -3.140961    -0.658456   \n",
       "2  0.000025  ...   -0.006361  0.005852 -0.003745  -14.340790     4.182214   \n",
       "3 -0.000021  ...    0.001950 -0.003426 -0.011191  251.659680  -441.129598   \n",
       "4  0.000010  ...   -0.001916 -0.015666 -0.015960 -137.847658  -377.758402   \n",
       "\n",
       "          z221        z222  subject  phase  state  \n",
       "0 -1408.385976 -437.807290        E      4      D  \n",
       "1    -0.140010   -0.011017        H      4      D  \n",
       "2    -0.549953    0.019553        C      4      B  \n",
       "3   256.986592  -49.745359        H      1      C  \n",
       "4  -345.673251 -105.633150        E      4      B  \n",
       "\n",
       "[5 rows x 669 columns]"
      ]
     },
     "execution_count": 8,
     "metadata": {},
     "output_type": "execute_result"
    }
   ],
   "source": [
    "test.head()"
   ]
  },
  {
   "cell_type": "code",
   "execution_count": 9,
   "metadata": {},
   "outputs": [
    {
     "data": {
      "text/html": [
       "<div>\n",
       "<style scoped>\n",
       "    .dataframe tbody tr th:only-of-type {\n",
       "        vertical-align: middle;\n",
       "    }\n",
       "\n",
       "    .dataframe tbody tr th {\n",
       "        vertical-align: top;\n",
       "    }\n",
       "\n",
       "    .dataframe thead th {\n",
       "        text-align: right;\n",
       "    }\n",
       "</style>\n",
       "<table border=\"1\" class=\"dataframe\">\n",
       "  <thead>\n",
       "    <tr style=\"text-align: right;\">\n",
       "      <th></th>\n",
       "      <th>x1</th>\n",
       "      <th>x2</th>\n",
       "      <th>x3</th>\n",
       "      <th>x4</th>\n",
       "      <th>x5</th>\n",
       "      <th>x6</th>\n",
       "      <th>x7</th>\n",
       "      <th>x8</th>\n",
       "      <th>x9</th>\n",
       "      <th>x10</th>\n",
       "      <th>...</th>\n",
       "      <th>z215</th>\n",
       "      <th>z216</th>\n",
       "      <th>z217</th>\n",
       "      <th>z218</th>\n",
       "      <th>z219</th>\n",
       "      <th>z220</th>\n",
       "      <th>z221</th>\n",
       "      <th>z222</th>\n",
       "      <th>phase</th>\n",
       "      <th>output</th>\n",
       "    </tr>\n",
       "  </thead>\n",
       "  <tbody>\n",
       "    <tr>\n",
       "      <th>count</th>\n",
       "      <td>4584.0</td>\n",
       "      <td>4584.000000</td>\n",
       "      <td>4584.000000</td>\n",
       "      <td>4584.000000</td>\n",
       "      <td>4584.000000</td>\n",
       "      <td>4584.000000</td>\n",
       "      <td>4584.000000</td>\n",
       "      <td>4584.000000</td>\n",
       "      <td>4584.000000</td>\n",
       "      <td>4584.000000</td>\n",
       "      <td>...</td>\n",
       "      <td>4584.000000</td>\n",
       "      <td>4584.000000</td>\n",
       "      <td>4584.000000</td>\n",
       "      <td>4584.000000</td>\n",
       "      <td>4584.000000</td>\n",
       "      <td>4584.000000</td>\n",
       "      <td>4584.000000</td>\n",
       "      <td>4584.000000</td>\n",
       "      <td>4584.000000</td>\n",
       "      <td>4584.000000</td>\n",
       "    </tr>\n",
       "    <tr>\n",
       "      <th>mean</th>\n",
       "      <td>0.0</td>\n",
       "      <td>0.000218</td>\n",
       "      <td>0.000218</td>\n",
       "      <td>0.625436</td>\n",
       "      <td>-270.199043</td>\n",
       "      <td>1.801323</td>\n",
       "      <td>-4.654634</td>\n",
       "      <td>253.735831</td>\n",
       "      <td>0.021039</td>\n",
       "      <td>-0.000004</td>\n",
       "      <td>...</td>\n",
       "      <td>-0.001628</td>\n",
       "      <td>0.001754</td>\n",
       "      <td>0.001374</td>\n",
       "      <td>0.001404</td>\n",
       "      <td>-57.916190</td>\n",
       "      <td>96.554052</td>\n",
       "      <td>-52.630948</td>\n",
       "      <td>28.735112</td>\n",
       "      <td>2.519634</td>\n",
       "      <td>0.844895</td>\n",
       "    </tr>\n",
       "    <tr>\n",
       "      <th>std</th>\n",
       "      <td>0.0</td>\n",
       "      <td>0.014770</td>\n",
       "      <td>0.014770</td>\n",
       "      <td>0.484063</td>\n",
       "      <td>163.971643</td>\n",
       "      <td>1.143173</td>\n",
       "      <td>3.714967</td>\n",
       "      <td>147.405918</td>\n",
       "      <td>0.026384</td>\n",
       "      <td>0.000472</td>\n",
       "      <td>...</td>\n",
       "      <td>0.099405</td>\n",
       "      <td>0.070156</td>\n",
       "      <td>0.078443</td>\n",
       "      <td>0.091211</td>\n",
       "      <td>243.742549</td>\n",
       "      <td>597.912778</td>\n",
       "      <td>599.208382</td>\n",
       "      <td>217.842477</td>\n",
       "      <td>1.158998</td>\n",
       "      <td>0.362044</td>\n",
       "    </tr>\n",
       "    <tr>\n",
       "      <th>min</th>\n",
       "      <td>0.0</td>\n",
       "      <td>0.000000</td>\n",
       "      <td>0.000000</td>\n",
       "      <td>0.000000</td>\n",
       "      <td>-474.588020</td>\n",
       "      <td>-0.237454</td>\n",
       "      <td>-19.295360</td>\n",
       "      <td>0.026692</td>\n",
       "      <td>0.005007</td>\n",
       "      <td>-0.004008</td>\n",
       "      <td>...</td>\n",
       "      <td>-3.805788</td>\n",
       "      <td>-0.999448</td>\n",
       "      <td>-1.886137</td>\n",
       "      <td>-1.264762</td>\n",
       "      <td>-2182.646032</td>\n",
       "      <td>-6674.270678</td>\n",
       "      <td>-8311.046315</td>\n",
       "      <td>-3671.954955</td>\n",
       "      <td>1.000000</td>\n",
       "      <td>0.000000</td>\n",
       "    </tr>\n",
       "    <tr>\n",
       "      <th>25%</th>\n",
       "      <td>0.0</td>\n",
       "      <td>0.000000</td>\n",
       "      <td>0.000000</td>\n",
       "      <td>0.000000</td>\n",
       "      <td>-383.328439</td>\n",
       "      <td>0.815996</td>\n",
       "      <td>-6.708809</td>\n",
       "      <td>108.809493</td>\n",
       "      <td>0.007504</td>\n",
       "      <td>-0.000081</td>\n",
       "      <td>...</td>\n",
       "      <td>-0.022183</td>\n",
       "      <td>-0.018118</td>\n",
       "      <td>-0.017379</td>\n",
       "      <td>-0.021389</td>\n",
       "      <td>-31.817506</td>\n",
       "      <td>-1.715924</td>\n",
       "      <td>-11.180312</td>\n",
       "      <td>-0.050475</td>\n",
       "      <td>1.000000</td>\n",
       "      <td>1.000000</td>\n",
       "    </tr>\n",
       "    <tr>\n",
       "      <th>50%</th>\n",
       "      <td>0.0</td>\n",
       "      <td>0.000000</td>\n",
       "      <td>0.000000</td>\n",
       "      <td>1.000000</td>\n",
       "      <td>-351.317222</td>\n",
       "      <td>1.578367</td>\n",
       "      <td>-3.324030</td>\n",
       "      <td>313.157669</td>\n",
       "      <td>0.011282</td>\n",
       "      <td>0.000003</td>\n",
       "      <td>...</td>\n",
       "      <td>-0.000383</td>\n",
       "      <td>0.000673</td>\n",
       "      <td>0.000374</td>\n",
       "      <td>0.000507</td>\n",
       "      <td>-2.919292</td>\n",
       "      <td>0.098110</td>\n",
       "      <td>-0.492411</td>\n",
       "      <td>0.001721</td>\n",
       "      <td>3.000000</td>\n",
       "      <td>1.000000</td>\n",
       "    </tr>\n",
       "    <tr>\n",
       "      <th>75%</th>\n",
       "      <td>0.0</td>\n",
       "      <td>0.000000</td>\n",
       "      <td>0.000000</td>\n",
       "      <td>1.000000</td>\n",
       "      <td>-177.051209</td>\n",
       "      <td>2.741501</td>\n",
       "      <td>-2.027700</td>\n",
       "      <td>370.832095</td>\n",
       "      <td>0.021861</td>\n",
       "      <td>0.000083</td>\n",
       "      <td>...</td>\n",
       "      <td>0.020556</td>\n",
       "      <td>0.020727</td>\n",
       "      <td>0.019355</td>\n",
       "      <td>0.022440</td>\n",
       "      <td>-0.277689</td>\n",
       "      <td>13.684733</td>\n",
       "      <td>-0.032526</td>\n",
       "      <td>0.483496</td>\n",
       "      <td>4.000000</td>\n",
       "      <td>1.000000</td>\n",
       "    </tr>\n",
       "    <tr>\n",
       "      <th>max</th>\n",
       "      <td>0.0</td>\n",
       "      <td>1.000000</td>\n",
       "      <td>1.000000</td>\n",
       "      <td>1.000000</td>\n",
       "      <td>418.085156</td>\n",
       "      <td>4.368496</td>\n",
       "      <td>6.250661</td>\n",
       "      <td>588.309282</td>\n",
       "      <td>0.423408</td>\n",
       "      <td>0.003588</td>\n",
       "      <td>...</td>\n",
       "      <td>0.916725</td>\n",
       "      <td>0.708321</td>\n",
       "      <td>1.548114</td>\n",
       "      <td>2.949784</td>\n",
       "      <td>2408.234281</td>\n",
       "      <td>6111.797852</td>\n",
       "      <td>6412.126601</td>\n",
       "      <td>2816.376179</td>\n",
       "      <td>4.000000</td>\n",
       "      <td>1.000000</td>\n",
       "    </tr>\n",
       "  </tbody>\n",
       "</table>\n",
       "<p>8 rows × 668 columns</p>\n",
       "</div>"
      ],
      "text/plain": [
       "           x1           x2           x3           x4           x5  \\\n",
       "count  4584.0  4584.000000  4584.000000  4584.000000  4584.000000   \n",
       "mean      0.0     0.000218     0.000218     0.625436  -270.199043   \n",
       "std       0.0     0.014770     0.014770     0.484063   163.971643   \n",
       "min       0.0     0.000000     0.000000     0.000000  -474.588020   \n",
       "25%       0.0     0.000000     0.000000     0.000000  -383.328439   \n",
       "50%       0.0     0.000000     0.000000     1.000000  -351.317222   \n",
       "75%       0.0     0.000000     0.000000     1.000000  -177.051209   \n",
       "max       0.0     1.000000     1.000000     1.000000   418.085156   \n",
       "\n",
       "                x6           x7           x8           x9          x10  \\\n",
       "count  4584.000000  4584.000000  4584.000000  4584.000000  4584.000000   \n",
       "mean      1.801323    -4.654634   253.735831     0.021039    -0.000004   \n",
       "std       1.143173     3.714967   147.405918     0.026384     0.000472   \n",
       "min      -0.237454   -19.295360     0.026692     0.005007    -0.004008   \n",
       "25%       0.815996    -6.708809   108.809493     0.007504    -0.000081   \n",
       "50%       1.578367    -3.324030   313.157669     0.011282     0.000003   \n",
       "75%       2.741501    -2.027700   370.832095     0.021861     0.000083   \n",
       "max       4.368496     6.250661   588.309282     0.423408     0.003588   \n",
       "\n",
       "          ...              z215         z216         z217         z218  \\\n",
       "count     ...       4584.000000  4584.000000  4584.000000  4584.000000   \n",
       "mean      ...         -0.001628     0.001754     0.001374     0.001404   \n",
       "std       ...          0.099405     0.070156     0.078443     0.091211   \n",
       "min       ...         -3.805788    -0.999448    -1.886137    -1.264762   \n",
       "25%       ...         -0.022183    -0.018118    -0.017379    -0.021389   \n",
       "50%       ...         -0.000383     0.000673     0.000374     0.000507   \n",
       "75%       ...          0.020556     0.020727     0.019355     0.022440   \n",
       "max       ...          0.916725     0.708321     1.548114     2.949784   \n",
       "\n",
       "              z219         z220         z221         z222        phase  \\\n",
       "count  4584.000000  4584.000000  4584.000000  4584.000000  4584.000000   \n",
       "mean    -57.916190    96.554052   -52.630948    28.735112     2.519634   \n",
       "std     243.742549   597.912778   599.208382   217.842477     1.158998   \n",
       "min   -2182.646032 -6674.270678 -8311.046315 -3671.954955     1.000000   \n",
       "25%     -31.817506    -1.715924   -11.180312    -0.050475     1.000000   \n",
       "50%      -2.919292     0.098110    -0.492411     0.001721     3.000000   \n",
       "75%      -0.277689    13.684733    -0.032526     0.483496     4.000000   \n",
       "max    2408.234281  6111.797852  6412.126601  2816.376179     4.000000   \n",
       "\n",
       "            output  \n",
       "count  4584.000000  \n",
       "mean      0.844895  \n",
       "std       0.362044  \n",
       "min       0.000000  \n",
       "25%       1.000000  \n",
       "50%       1.000000  \n",
       "75%       1.000000  \n",
       "max       1.000000  \n",
       "\n",
       "[8 rows x 668 columns]"
      ]
     },
     "execution_count": 9,
     "metadata": {},
     "output_type": "execute_result"
    }
   ],
   "source": [
    "train.describe()"
   ]
  },
  {
   "cell_type": "code",
   "execution_count": 10,
   "metadata": {},
   "outputs": [
    {
     "data": {
      "text/html": [
       "<div>\n",
       "<style scoped>\n",
       "    .dataframe tbody tr th:only-of-type {\n",
       "        vertical-align: middle;\n",
       "    }\n",
       "\n",
       "    .dataframe tbody tr th {\n",
       "        vertical-align: top;\n",
       "    }\n",
       "\n",
       "    .dataframe thead th {\n",
       "        text-align: right;\n",
       "    }\n",
       "</style>\n",
       "<table border=\"1\" class=\"dataframe\">\n",
       "  <thead>\n",
       "    <tr style=\"text-align: right;\">\n",
       "      <th></th>\n",
       "      <th>x1</th>\n",
       "      <th>x2</th>\n",
       "      <th>x3</th>\n",
       "      <th>x4</th>\n",
       "      <th>x5</th>\n",
       "      <th>x6</th>\n",
       "      <th>x7</th>\n",
       "      <th>x8</th>\n",
       "      <th>x9</th>\n",
       "      <th>x10</th>\n",
       "      <th>...</th>\n",
       "      <th>z214</th>\n",
       "      <th>z215</th>\n",
       "      <th>z216</th>\n",
       "      <th>z217</th>\n",
       "      <th>z218</th>\n",
       "      <th>z219</th>\n",
       "      <th>z220</th>\n",
       "      <th>z221</th>\n",
       "      <th>z222</th>\n",
       "      <th>phase</th>\n",
       "    </tr>\n",
       "  </thead>\n",
       "  <tbody>\n",
       "    <tr>\n",
       "      <th>count</th>\n",
       "      <td>1732.0</td>\n",
       "      <td>1732.0</td>\n",
       "      <td>1732.0</td>\n",
       "      <td>1732.000000</td>\n",
       "      <td>1732.000000</td>\n",
       "      <td>1732.000000</td>\n",
       "      <td>1732.000000</td>\n",
       "      <td>1732.000000</td>\n",
       "      <td>1732.000000</td>\n",
       "      <td>1732.000000</td>\n",
       "      <td>...</td>\n",
       "      <td>1732.000000</td>\n",
       "      <td>1732.000000</td>\n",
       "      <td>1732.000000</td>\n",
       "      <td>1732.000000</td>\n",
       "      <td>1732.000000</td>\n",
       "      <td>1732.000000</td>\n",
       "      <td>1732.000000</td>\n",
       "      <td>1732.000000</td>\n",
       "      <td>1732.000000</td>\n",
       "      <td>1732.000000</td>\n",
       "    </tr>\n",
       "    <tr>\n",
       "      <th>mean</th>\n",
       "      <td>0.0</td>\n",
       "      <td>0.0</td>\n",
       "      <td>0.0</td>\n",
       "      <td>0.571016</td>\n",
       "      <td>-277.885554</td>\n",
       "      <td>1.604938</td>\n",
       "      <td>-5.414832</td>\n",
       "      <td>255.823559</td>\n",
       "      <td>0.021758</td>\n",
       "      <td>0.000008</td>\n",
       "      <td>...</td>\n",
       "      <td>-0.003202</td>\n",
       "      <td>-0.001151</td>\n",
       "      <td>-0.002507</td>\n",
       "      <td>-0.000998</td>\n",
       "      <td>-0.000054</td>\n",
       "      <td>-110.276709</td>\n",
       "      <td>-121.265455</td>\n",
       "      <td>-222.574598</td>\n",
       "      <td>-38.935670</td>\n",
       "      <td>2.570439</td>\n",
       "    </tr>\n",
       "    <tr>\n",
       "      <th>std</th>\n",
       "      <td>0.0</td>\n",
       "      <td>0.0</td>\n",
       "      <td>0.0</td>\n",
       "      <td>0.495074</td>\n",
       "      <td>154.845148</td>\n",
       "      <td>1.147339</td>\n",
       "      <td>4.257535</td>\n",
       "      <td>144.203953</td>\n",
       "      <td>0.026765</td>\n",
       "      <td>0.000373</td>\n",
       "      <td>...</td>\n",
       "      <td>0.136569</td>\n",
       "      <td>0.093555</td>\n",
       "      <td>0.081933</td>\n",
       "      <td>0.089583</td>\n",
       "      <td>0.104841</td>\n",
       "      <td>391.650246</td>\n",
       "      <td>1081.345964</td>\n",
       "      <td>990.468100</td>\n",
       "      <td>319.750306</td>\n",
       "      <td>1.206186</td>\n",
       "    </tr>\n",
       "    <tr>\n",
       "      <th>min</th>\n",
       "      <td>0.0</td>\n",
       "      <td>0.0</td>\n",
       "      <td>0.0</td>\n",
       "      <td>0.000000</td>\n",
       "      <td>-467.276129</td>\n",
       "      <td>-0.107885</td>\n",
       "      <td>-20.611523</td>\n",
       "      <td>0.061916</td>\n",
       "      <td>0.004730</td>\n",
       "      <td>-0.002895</td>\n",
       "      <td>...</td>\n",
       "      <td>-1.691499</td>\n",
       "      <td>-1.269537</td>\n",
       "      <td>-1.696589</td>\n",
       "      <td>-0.859393</td>\n",
       "      <td>-1.891506</td>\n",
       "      <td>-3423.935457</td>\n",
       "      <td>-9559.626928</td>\n",
       "      <td>-8897.400348</td>\n",
       "      <td>-2760.528477</td>\n",
       "      <td>1.000000</td>\n",
       "    </tr>\n",
       "    <tr>\n",
       "      <th>25%</th>\n",
       "      <td>0.0</td>\n",
       "      <td>0.0</td>\n",
       "      <td>0.0</td>\n",
       "      <td>0.000000</td>\n",
       "      <td>-382.645885</td>\n",
       "      <td>0.604385</td>\n",
       "      <td>-7.819653</td>\n",
       "      <td>137.782812</td>\n",
       "      <td>0.007411</td>\n",
       "      <td>-0.000072</td>\n",
       "      <td>...</td>\n",
       "      <td>-0.026140</td>\n",
       "      <td>-0.022620</td>\n",
       "      <td>-0.021943</td>\n",
       "      <td>-0.018853</td>\n",
       "      <td>-0.022743</td>\n",
       "      <td>-32.187216</td>\n",
       "      <td>-1.156637</td>\n",
       "      <td>-12.301322</td>\n",
       "      <td>-0.030173</td>\n",
       "      <td>1.000000</td>\n",
       "    </tr>\n",
       "    <tr>\n",
       "      <th>50%</th>\n",
       "      <td>0.0</td>\n",
       "      <td>0.0</td>\n",
       "      <td>0.0</td>\n",
       "      <td>1.000000</td>\n",
       "      <td>-358.278216</td>\n",
       "      <td>1.351021</td>\n",
       "      <td>-3.725531</td>\n",
       "      <td>324.514646</td>\n",
       "      <td>0.012295</td>\n",
       "      <td>0.000002</td>\n",
       "      <td>...</td>\n",
       "      <td>-0.001551</td>\n",
       "      <td>-0.001223</td>\n",
       "      <td>0.000767</td>\n",
       "      <td>-0.000838</td>\n",
       "      <td>-0.000034</td>\n",
       "      <td>-2.742422</td>\n",
       "      <td>0.185153</td>\n",
       "      <td>-0.486775</td>\n",
       "      <td>0.005631</td>\n",
       "      <td>3.000000</td>\n",
       "    </tr>\n",
       "    <tr>\n",
       "      <th>75%</th>\n",
       "      <td>0.0</td>\n",
       "      <td>0.0</td>\n",
       "      <td>0.0</td>\n",
       "      <td>1.000000</td>\n",
       "      <td>-214.315606</td>\n",
       "      <td>2.503754</td>\n",
       "      <td>-2.284565</td>\n",
       "      <td>367.989031</td>\n",
       "      <td>0.024584</td>\n",
       "      <td>0.000082</td>\n",
       "      <td>...</td>\n",
       "      <td>0.023600</td>\n",
       "      <td>0.021058</td>\n",
       "      <td>0.020423</td>\n",
       "      <td>0.017940</td>\n",
       "      <td>0.021003</td>\n",
       "      <td>-0.247839</td>\n",
       "      <td>8.489298</td>\n",
       "      <td>-0.017909</td>\n",
       "      <td>0.352890</td>\n",
       "      <td>4.000000</td>\n",
       "    </tr>\n",
       "    <tr>\n",
       "      <th>max</th>\n",
       "      <td>0.0</td>\n",
       "      <td>0.0</td>\n",
       "      <td>0.0</td>\n",
       "      <td>1.000000</td>\n",
       "      <td>411.846894</td>\n",
       "      <td>4.315517</td>\n",
       "      <td>2.279343</td>\n",
       "      <td>554.445563</td>\n",
       "      <td>0.378385</td>\n",
       "      <td>0.002761</td>\n",
       "      <td>...</td>\n",
       "      <td>2.641951</td>\n",
       "      <td>0.810623</td>\n",
       "      <td>0.608914</td>\n",
       "      <td>2.039491</td>\n",
       "      <td>1.835451</td>\n",
       "      <td>1674.130664</td>\n",
       "      <td>5958.441159</td>\n",
       "      <td>5039.275789</td>\n",
       "      <td>2215.886665</td>\n",
       "      <td>4.000000</td>\n",
       "    </tr>\n",
       "  </tbody>\n",
       "</table>\n",
       "<p>8 rows × 667 columns</p>\n",
       "</div>"
      ],
      "text/plain": [
       "           x1      x2      x3           x4           x5           x6  \\\n",
       "count  1732.0  1732.0  1732.0  1732.000000  1732.000000  1732.000000   \n",
       "mean      0.0     0.0     0.0     0.571016  -277.885554     1.604938   \n",
       "std       0.0     0.0     0.0     0.495074   154.845148     1.147339   \n",
       "min       0.0     0.0     0.0     0.000000  -467.276129    -0.107885   \n",
       "25%       0.0     0.0     0.0     0.000000  -382.645885     0.604385   \n",
       "50%       0.0     0.0     0.0     1.000000  -358.278216     1.351021   \n",
       "75%       0.0     0.0     0.0     1.000000  -214.315606     2.503754   \n",
       "max       0.0     0.0     0.0     1.000000   411.846894     4.315517   \n",
       "\n",
       "                x7           x8           x9          x10     ...       \\\n",
       "count  1732.000000  1732.000000  1732.000000  1732.000000     ...        \n",
       "mean     -5.414832   255.823559     0.021758     0.000008     ...        \n",
       "std       4.257535   144.203953     0.026765     0.000373     ...        \n",
       "min     -20.611523     0.061916     0.004730    -0.002895     ...        \n",
       "25%      -7.819653   137.782812     0.007411    -0.000072     ...        \n",
       "50%      -3.725531   324.514646     0.012295     0.000002     ...        \n",
       "75%      -2.284565   367.989031     0.024584     0.000082     ...        \n",
       "max       2.279343   554.445563     0.378385     0.002761     ...        \n",
       "\n",
       "              z214         z215         z216         z217         z218  \\\n",
       "count  1732.000000  1732.000000  1732.000000  1732.000000  1732.000000   \n",
       "mean     -0.003202    -0.001151    -0.002507    -0.000998    -0.000054   \n",
       "std       0.136569     0.093555     0.081933     0.089583     0.104841   \n",
       "min      -1.691499    -1.269537    -1.696589    -0.859393    -1.891506   \n",
       "25%      -0.026140    -0.022620    -0.021943    -0.018853    -0.022743   \n",
       "50%      -0.001551    -0.001223     0.000767    -0.000838    -0.000034   \n",
       "75%       0.023600     0.021058     0.020423     0.017940     0.021003   \n",
       "max       2.641951     0.810623     0.608914     2.039491     1.835451   \n",
       "\n",
       "              z219         z220         z221         z222        phase  \n",
       "count  1732.000000  1732.000000  1732.000000  1732.000000  1732.000000  \n",
       "mean   -110.276709  -121.265455  -222.574598   -38.935670     2.570439  \n",
       "std     391.650246  1081.345964   990.468100   319.750306     1.206186  \n",
       "min   -3423.935457 -9559.626928 -8897.400348 -2760.528477     1.000000  \n",
       "25%     -32.187216    -1.156637   -12.301322    -0.030173     1.000000  \n",
       "50%      -2.742422     0.185153    -0.486775     0.005631     3.000000  \n",
       "75%      -0.247839     8.489298    -0.017909     0.352890     4.000000  \n",
       "max    1674.130664  5958.441159  5039.275789  2215.886665     4.000000  \n",
       "\n",
       "[8 rows x 667 columns]"
      ]
     },
     "execution_count": 10,
     "metadata": {},
     "output_type": "execute_result"
    }
   ],
   "source": [
    "test.describe()"
   ]
  },
  {
   "cell_type": "code",
   "execution_count": 11,
   "metadata": {},
   "outputs": [
    {
     "name": "stdout",
     "output_type": "stream",
     "text": [
      "{'output'}\n"
     ]
    }
   ],
   "source": [
    "train_features = train.columns\n",
    "test_features = test.columns\n",
    "print(set(train_features)-set(test_features))"
   ]
  },
  {
   "cell_type": "code",
   "execution_count": 12,
   "metadata": {},
   "outputs": [
    {
     "data": {
      "text/plain": [
       "1    3873\n",
       "0     711\n",
       "Name: output, dtype: int64"
      ]
     },
     "execution_count": 12,
     "metadata": {},
     "output_type": "execute_result"
    }
   ],
   "source": [
    "# Notice that the dataset has unbalanced output classes\n",
    "train.output.value_counts()"
   ]
  },
  {
   "cell_type": "markdown",
   "metadata": {},
   "source": [
    "<a id='remove'></a>\n",
    "\n",
    "## REMOVE CORRELATED FEATURES AND FEATURES WITH CONSTANT VALUES\n",
    "Used pandas profiling library to detect features that are correlated to other features and can be removed.  \n",
    "Also removed all features that have constant values for all dataset"
   ]
  },
  {
   "cell_type": "code",
   "execution_count": 13,
   "metadata": {},
   "outputs": [],
   "source": [
    "try: profile\n",
    "except NameError:\n",
    "    profile = pandas_profiling.ProfileReport(train)\n",
    "    profile.to_file(\"train_profile.html\")\n",
    "    rejected_variables = profile.get_rejected_variables()"
   ]
  },
  {
   "cell_type": "code",
   "execution_count": 14,
   "metadata": {},
   "outputs": [
    {
     "data": {
      "text/plain": [
       "((4584, 392), (1732, 391))"
      ]
     },
     "execution_count": 14,
     "metadata": {},
     "output_type": "execute_result"
    }
   ],
   "source": [
    "train_r = train.drop(columns=rejected_variables)\n",
    "test_r = test.drop(columns=rejected_variables)\n",
    "train_r.shape, test_r.shape"
   ]
  },
  {
   "cell_type": "code",
   "execution_count": 15,
   "metadata": {},
   "outputs": [],
   "source": [
    "for col in train_r.columns:\n",
    "    if len(train_r[col].unique()) == 1:\n",
    "        train_r.drop(col,inplace=True,axis=1)\n",
    "        test_r.drop(col,inplace=True,axis=1)"
   ]
  },
  {
   "cell_type": "code",
   "execution_count": 16,
   "metadata": {},
   "outputs": [
    {
     "data": {
      "text/plain": [
       "((4584, 284), (1732, 283))"
      ]
     },
     "execution_count": 16,
     "metadata": {},
     "output_type": "execute_result"
    }
   ],
   "source": [
    "train_r.shape, test_r.shape"
   ]
  },
  {
   "cell_type": "code",
   "execution_count": 17,
   "metadata": {},
   "outputs": [],
   "source": [
    "REDUCE_FEATURES = True\n",
    "if REDUCE_FEATURES:\n",
    "    train = train_r\n",
    "    test = test_r"
   ]
  },
  {
   "cell_type": "markdown",
   "metadata": {},
   "source": [
    "<a id='add_feature'></a>\n",
    "\n",
    "## ACCOUNT FOR SUBJECT, PHASE & STATE AND REMOVE THE COLUMNS\n",
    "Subject, Phase and State are categorical variables and need to be treated as such. But since some of these catagories are not present in the test set, it is best to store some of the best information from them and remove the original columns from the data set. "
   ]
  },
  {
   "cell_type": "code",
   "execution_count": 18,
   "metadata": {},
   "outputs": [
    {
     "data": {
      "image/png": "[encoded data removed]",
      "text/plain": [
       "<Figure size 1000x600 with 1 Axes>"
      ]
     },
     "metadata": {},
     "output_type": "display_data"
    }
   ],
   "source": [
    "f, ax = plt.subplots(figsize=(10, 6))\n",
    "sns.countplot(x=\"subject\", hue=\"output\", data=train);"
   ]
  },
  {
   "cell_type": "code",
   "execution_count": 19,
   "metadata": {},
   "outputs": [],
   "source": [
    "train['indicator']='train'\n",
    "test['indicator']='test'\n",
    "\n",
    "Y = train.output\n",
    "train.drop('output',inplace=True, axis=1)"
   ]
  },
  {
   "cell_type": "code",
   "execution_count": 20,
   "metadata": {},
   "outputs": [
    {
     "data": {
      "text/plain": [
       "(6316, 284)"
      ]
     },
     "execution_count": 20,
     "metadata": {},
     "output_type": "execute_result"
    }
   ],
   "source": [
    "train_test = pd.concat([train,test])\n",
    "train_test.reset_index(inplace=True, drop=True) #drop index\n",
    "train_test.shape"
   ]
  },
  {
   "cell_type": "code",
   "execution_count": 21,
   "metadata": {},
   "outputs": [],
   "source": [
    "#Creating Features\n",
    "train_test['SubjectK'] = 0 \n",
    "train_test.loc[train_test[train_test.subject=='K'].index,'SubjectK']=1  "
   ]
  },
  {
   "cell_type": "code",
   "execution_count": 22,
   "metadata": {},
   "outputs": [],
   "source": [
    "#Step by step\n",
    "i1 = train_test[((train_test.phase==1) & (train_test.subject=='A'))].index\n",
    "arr = np.zeros(train_test.shape[0],dtype=int)\n",
    "arr[i1]=1\n",
    "train_test['SubA_Phase1']=arr\n",
    "\n",
    "#concise\n",
    "train_test['SubI_Phase1'] = 0\n",
    "train_test.loc[train_test[((train_test.phase==1) & (train_test.subject=='I'))].index,'SubI_Phase1'] = 1\n",
    "\n",
    "train_test['SubM_Phase1'] = 0\n",
    "train_test.loc[train_test[((train_test.phase==1) & (train_test.subject=='M'))].index,'SubM_Phase1'] = 1\n",
    "\n",
    "train_test['SubA_Phase2'] = 0\n",
    "train_test.loc[train_test[((train_test.phase==2) & (train_test.subject=='A'))].index,'SubA_Phase2'] = 1\n",
    "\n",
    "train_test['SubF_Phase2'] = 0\n",
    "train_test.loc[train_test[((train_test.phase==2) & (train_test.subject=='F'))].index,'SubF_Phase2'] = 1\n",
    "\n",
    "train_test['SubI_Phase3'] = 0\n",
    "train_test.loc[train_test[((train_test.phase==3) & (train_test.subject=='I'))].index,'SubI_Phase3'] = 1\n",
    "\n",
    "train_test['SubL_Phase3'] = 0\n",
    "train_test.loc[train_test[((train_test.phase==3) & (train_test.subject=='L'))].index,'SubL_Phase3'] = 1\n",
    "\n",
    "train_test['SubL_Phase4'] = 0\n",
    "train_test.loc[train_test[((train_test.phase==4) & (train_test.subject=='L'))].index,'SubL_Phase4'] = 1\n",
    "#possibly add I, phase4 = 1 too."
   ]
  },
  {
   "cell_type": "code",
   "execution_count": 23,
   "metadata": {},
   "outputs": [],
   "source": [
    "train_data = train_test[train_test.indicator=='train']\n",
    "test_output = train_test[train_test.indicator=='test']\n",
    "train_data.reset_index(inplace=True,drop=True)\n",
    "test_output.reset_index(inplace=True,drop=True)\n",
    "\n",
    "train_data = train_data.drop(['state','subject','phase','indicator'], axis=1)\n",
    "test_output = test_output.drop(['state','subject','phase','indicator'], axis=1)"
   ]
  },
  {
   "cell_type": "markdown",
   "metadata": {},
   "source": [
    "<a id='split'></a>\n",
    "## SPLIT THE TRAINING DATA INTO TRAIN AND TEST DATA (For local testing)  \n",
    "## BALANCE THE TRAINING SET TO REPRESENT THE OUTPUT CLASS EQUALLY\n",
    "\n",
    "We set aside 20% of the training data as a test set to score the different models.  \n",
    "Also used the SMOTE library to balance the remaining training data using bootstrapping with replacement."
   ]
  },
  {
   "cell_type": "code",
   "execution_count": 24,
   "metadata": {},
   "outputs": [],
   "source": [
    "test_size = 0.20\n",
    "# SPLIT THE TRAIN DATA INTO TRAIN AND TEST \n",
    "X_train_unbalanced, X_test_unbalanced, y_train_unbalanced, y_test_unbalanced = train_test_split(train_data, Y, test_size=test_size, random_state=101)\n",
    "\n",
    "# GET A BALANCED VERSION OF THE TRAIN DATA\n",
    "sm = SMOTE(random_state = 12, ratio = 1.0)\n",
    "X_train_balanced, y_train_balanced = sm.fit_sample(X_train_unbalanced, y_train_unbalanced)\n",
    "X_train_balanced = pd.DataFrame(X_train_balanced, columns=X_train_unbalanced.columns)\n",
    "y_train_balanced = pd.DataFrame(y_train_balanced)[0]"
   ]
  },
  {
   "cell_type": "markdown",
   "metadata": {},
   "source": [
    "## CHOOSE BETWEEN BALANCED (equal 0s and 1s in output) OR UNBALANCED DATA GOING FORWARD\n",
    "\n",
    "In case we want to use the unbalanced data in some model in the future, we can flip the BALANCED variable"
   ]
  },
  {
   "cell_type": "code",
   "execution_count": 25,
   "metadata": {},
   "outputs": [],
   "source": [
    "##################################################\n",
    "## CHOOSE WHICH DATA SET TO USE GOING FORWARD ####\n",
    "##################################################\n",
    "BALANCED = True\n",
    "\n",
    "if BALANCED : \n",
    "    X_train = X_train_balanced \n",
    "    y_train = y_train_balanced\n",
    "else : \n",
    "    X_train = X_train_unbalanced\n",
    "    y_train = y_train_unbalanced   \n",
    "\n",
    "    \n",
    "X_test = X_test_unbalanced\n",
    "y_test = y_test_unbalanced"
   ]
  },
  {
   "cell_type": "markdown",
   "metadata": {},
   "source": [
    "## RECHECK THE SIZES OF THE TRAINING AND TEST SET\n",
    "Making sure that the new training data is balanced and the training set and the test set has the expected number of rows and columns"
   ]
  },
  {
   "cell_type": "code",
   "execution_count": 26,
   "metadata": {},
   "outputs": [
    {
     "name": "stdout",
     "output_type": "stream",
     "text": [
      "TRAINING:\n",
      "(6214, 289)\n",
      "(6214,)\n",
      "0s and 1s split:\n",
      "1    3107\n",
      "0    3107\n",
      "Name: 0, dtype: int64\n",
      "\n",
      "TEST:\n",
      "(917, 289)\n",
      "(917,)\n",
      "0s and 1s split:\n",
      "1    766\n",
      "0    151\n",
      "Name: output, dtype: int64\n",
      "\n",
      "Output Test Dataset size:\n",
      "(1732, 289)\n"
     ]
    }
   ],
   "source": [
    "print(\"TRAINING:\")\n",
    "print(X_train.shape)\n",
    "print(y_train.shape)\n",
    "print(\"0s and 1s split:\")\n",
    "print (y_train.value_counts())\n",
    "\n",
    "print(\"\\nTEST:\")\n",
    "print(X_test.shape)\n",
    "print(y_test.shape)\n",
    "print(\"0s and 1s split:\")\n",
    "print (y_test.value_counts())\n",
    "\n",
    "print(\"\\nOutput Test Dataset size:\")\n",
    "print(test_output.shape)"
   ]
  },
  {
   "cell_type": "markdown",
   "metadata": {},
   "source": [
    "<a id='std'></a>\n",
    "## STANDARDISE THE DATA\n",
    "\n",
    "Standardise all the conditional variables and leave the catagorical variables untouched"
   ]
  },
  {
   "cell_type": "code",
   "execution_count": 27,
   "metadata": {},
   "outputs": [
    {
     "name": "stderr",
     "output_type": "stream",
     "text": [
      "C:\\Users\\shkhan2\\AppData\\Local\\Continuum\\anaconda3\\lib\\site-packages\\ipykernel_launcher.py:13: DataConversionWarning: Data with input dtype int32, int64, float64 were all converted to float64 by StandardScaler.\n",
      "  del sys.path[0]\n",
      "C:\\Users\\shkhan2\\AppData\\Local\\Continuum\\anaconda3\\lib\\site-packages\\ipykernel_launcher.py:19: DataConversionWarning: Data with input dtype int32, int64, float64 were all converted to float64 by StandardScaler.\n"
     ]
    },
    {
     "data": {
      "text/html": [
       "<div>\n",
       "<style scoped>\n",
       "    .dataframe tbody tr th:only-of-type {\n",
       "        vertical-align: middle;\n",
       "    }\n",
       "\n",
       "    .dataframe tbody tr th {\n",
       "        vertical-align: top;\n",
       "    }\n",
       "\n",
       "    .dataframe thead th {\n",
       "        text-align: right;\n",
       "    }\n",
       "</style>\n",
       "<table border=\"1\" class=\"dataframe\">\n",
       "  <thead>\n",
       "    <tr style=\"text-align: right;\">\n",
       "      <th></th>\n",
       "      <th>x2</th>\n",
       "      <th>x3</th>\n",
       "      <th>x4</th>\n",
       "      <th>x5</th>\n",
       "      <th>x6</th>\n",
       "      <th>x7</th>\n",
       "      <th>x8</th>\n",
       "      <th>x9</th>\n",
       "      <th>x10</th>\n",
       "      <th>x11</th>\n",
       "      <th>...</th>\n",
       "      <th>z221</th>\n",
       "      <th>SubjectK</th>\n",
       "      <th>SubA_Phase1</th>\n",
       "      <th>SubI_Phase1</th>\n",
       "      <th>SubM_Phase1</th>\n",
       "      <th>SubA_Phase2</th>\n",
       "      <th>SubF_Phase2</th>\n",
       "      <th>SubI_Phase3</th>\n",
       "      <th>SubL_Phase3</th>\n",
       "      <th>SubL_Phase4</th>\n",
       "    </tr>\n",
       "  </thead>\n",
       "  <tbody>\n",
       "    <tr>\n",
       "      <th>count</th>\n",
       "      <td>917.000000</td>\n",
       "      <td>9.170000e+02</td>\n",
       "      <td>917.000000</td>\n",
       "      <td>917.000000</td>\n",
       "      <td>917.000000</td>\n",
       "      <td>917.000000</td>\n",
       "      <td>917.000000</td>\n",
       "      <td>917.000000</td>\n",
       "      <td>917.000000</td>\n",
       "      <td>917.000000</td>\n",
       "      <td>...</td>\n",
       "      <td>917.000000</td>\n",
       "      <td>917.000000</td>\n",
       "      <td>917.000000</td>\n",
       "      <td>917.000000</td>\n",
       "      <td>917.000000</td>\n",
       "      <td>917.000000</td>\n",
       "      <td>917.000000</td>\n",
       "      <td>917.000000</td>\n",
       "      <td>917.000000</td>\n",
       "      <td>917.000000</td>\n",
       "    </tr>\n",
       "    <tr>\n",
       "      <th>mean</th>\n",
       "      <td>0.001091</td>\n",
       "      <td>-1.268672e-02</td>\n",
       "      <td>0.037178</td>\n",
       "      <td>0.138103</td>\n",
       "      <td>0.071927</td>\n",
       "      <td>0.008432</td>\n",
       "      <td>-0.128961</td>\n",
       "      <td>0.034051</td>\n",
       "      <td>-0.041621</td>\n",
       "      <td>0.027680</td>\n",
       "      <td>...</td>\n",
       "      <td>0.077312</td>\n",
       "      <td>0.110142</td>\n",
       "      <td>0.020720</td>\n",
       "      <td>0.019629</td>\n",
       "      <td>0.018539</td>\n",
       "      <td>0.018539</td>\n",
       "      <td>0.010905</td>\n",
       "      <td>0.035987</td>\n",
       "      <td>0.018539</td>\n",
       "      <td>0.030534</td>\n",
       "    </tr>\n",
       "    <tr>\n",
       "      <th>std</th>\n",
       "      <td>0.033023</td>\n",
       "      <td>1.371179e-16</td>\n",
       "      <td>1.038109</td>\n",
       "      <td>1.090912</td>\n",
       "      <td>1.037591</td>\n",
       "      <td>1.065919</td>\n",
       "      <td>1.031309</td>\n",
       "      <td>1.287928</td>\n",
       "      <td>1.180505</td>\n",
       "      <td>0.968126</td>\n",
       "      <td>...</td>\n",
       "      <td>1.080093</td>\n",
       "      <td>0.313237</td>\n",
       "      <td>0.142522</td>\n",
       "      <td>0.138798</td>\n",
       "      <td>0.134963</td>\n",
       "      <td>0.134963</td>\n",
       "      <td>0.103913</td>\n",
       "      <td>0.186359</td>\n",
       "      <td>0.134963</td>\n",
       "      <td>0.172146</td>\n",
       "    </tr>\n",
       "    <tr>\n",
       "      <th>min</th>\n",
       "      <td>0.000000</td>\n",
       "      <td>-1.268672e-02</td>\n",
       "      <td>-1.349887</td>\n",
       "      <td>-1.196635</td>\n",
       "      <td>-1.484173</td>\n",
       "      <td>-3.976127</td>\n",
       "      <td>-1.861212</td>\n",
       "      <td>-0.668840</td>\n",
       "      <td>-9.845665</td>\n",
       "      <td>-6.092336</td>\n",
       "      <td>...</td>\n",
       "      <td>-8.300370</td>\n",
       "      <td>0.000000</td>\n",
       "      <td>0.000000</td>\n",
       "      <td>0.000000</td>\n",
       "      <td>0.000000</td>\n",
       "      <td>0.000000</td>\n",
       "      <td>0.000000</td>\n",
       "      <td>0.000000</td>\n",
       "      <td>0.000000</td>\n",
       "      <td>0.000000</td>\n",
       "    </tr>\n",
       "    <tr>\n",
       "      <th>25%</th>\n",
       "      <td>0.000000</td>\n",
       "      <td>-1.268672e-02</td>\n",
       "      <td>-1.349887</td>\n",
       "      <td>-0.631551</td>\n",
       "      <td>-0.809798</td>\n",
       "      <td>-0.637265</td>\n",
       "      <td>-1.147203</td>\n",
       "      <td>-0.572359</td>\n",
       "      <td>-0.200904</td>\n",
       "      <td>-0.207153</td>\n",
       "      <td>...</td>\n",
       "      <td>0.124962</td>\n",
       "      <td>0.000000</td>\n",
       "      <td>0.000000</td>\n",
       "      <td>0.000000</td>\n",
       "      <td>0.000000</td>\n",
       "      <td>0.000000</td>\n",
       "      <td>0.000000</td>\n",
       "      <td>0.000000</td>\n",
       "      <td>0.000000</td>\n",
       "      <td>0.000000</td>\n",
       "    </tr>\n",
       "    <tr>\n",
       "      <th>50%</th>\n",
       "      <td>0.000000</td>\n",
       "      <td>-1.268672e-02</td>\n",
       "      <td>0.813274</td>\n",
       "      <td>-0.413562</td>\n",
       "      <td>-0.148683</td>\n",
       "      <td>0.378476</td>\n",
       "      <td>0.280858</td>\n",
       "      <td>-0.413709</td>\n",
       "      <td>-0.009325</td>\n",
       "      <td>-0.014983</td>\n",
       "      <td>...</td>\n",
       "      <td>0.146043</td>\n",
       "      <td>0.000000</td>\n",
       "      <td>0.000000</td>\n",
       "      <td>0.000000</td>\n",
       "      <td>0.000000</td>\n",
       "      <td>0.000000</td>\n",
       "      <td>0.000000</td>\n",
       "      <td>0.000000</td>\n",
       "      <td>0.000000</td>\n",
       "      <td>0.000000</td>\n",
       "    </tr>\n",
       "    <tr>\n",
       "      <th>75%</th>\n",
       "      <td>0.000000</td>\n",
       "      <td>-1.268672e-02</td>\n",
       "      <td>0.813274</td>\n",
       "      <td>0.790634</td>\n",
       "      <td>0.928194</td>\n",
       "      <td>0.789955</td>\n",
       "      <td>0.705911</td>\n",
       "      <td>-0.002147</td>\n",
       "      <td>0.176065</td>\n",
       "      <td>0.158810</td>\n",
       "      <td>...</td>\n",
       "      <td>0.147118</td>\n",
       "      <td>0.000000</td>\n",
       "      <td>0.000000</td>\n",
       "      <td>0.000000</td>\n",
       "      <td>0.000000</td>\n",
       "      <td>0.000000</td>\n",
       "      <td>0.000000</td>\n",
       "      <td>0.000000</td>\n",
       "      <td>0.000000</td>\n",
       "      <td>0.000000</td>\n",
       "    </tr>\n",
       "    <tr>\n",
       "      <th>max</th>\n",
       "      <td>1.000000</td>\n",
       "      <td>-1.268672e-02</td>\n",
       "      <td>0.813274</td>\n",
       "      <td>4.644476</td>\n",
       "      <td>2.423418</td>\n",
       "      <td>3.022886</td>\n",
       "      <td>1.989858</td>\n",
       "      <td>16.984373</td>\n",
       "      <td>6.723921</td>\n",
       "      <td>12.706115</td>\n",
       "      <td>...</td>\n",
       "      <td>12.218014</td>\n",
       "      <td>1.000000</td>\n",
       "      <td>1.000000</td>\n",
       "      <td>1.000000</td>\n",
       "      <td>1.000000</td>\n",
       "      <td>1.000000</td>\n",
       "      <td>1.000000</td>\n",
       "      <td>1.000000</td>\n",
       "      <td>1.000000</td>\n",
       "      <td>1.000000</td>\n",
       "    </tr>\n",
       "  </tbody>\n",
       "</table>\n",
       "<p>8 rows × 289 columns</p>\n",
       "</div>"
      ],
      "text/plain": [
       "               x2            x3          x4          x5          x6  \\\n",
       "count  917.000000  9.170000e+02  917.000000  917.000000  917.000000   \n",
       "mean     0.001091 -1.268672e-02    0.037178    0.138103    0.071927   \n",
       "std      0.033023  1.371179e-16    1.038109    1.090912    1.037591   \n",
       "min      0.000000 -1.268672e-02   -1.349887   -1.196635   -1.484173   \n",
       "25%      0.000000 -1.268672e-02   -1.349887   -0.631551   -0.809798   \n",
       "50%      0.000000 -1.268672e-02    0.813274   -0.413562   -0.148683   \n",
       "75%      0.000000 -1.268672e-02    0.813274    0.790634    0.928194   \n",
       "max      1.000000 -1.268672e-02    0.813274    4.644476    2.423418   \n",
       "\n",
       "               x7          x8          x9         x10         x11  \\\n",
       "count  917.000000  917.000000  917.000000  917.000000  917.000000   \n",
       "mean     0.008432   -0.128961    0.034051   -0.041621    0.027680   \n",
       "std      1.065919    1.031309    1.287928    1.180505    0.968126   \n",
       "min     -3.976127   -1.861212   -0.668840   -9.845665   -6.092336   \n",
       "25%     -0.637265   -1.147203   -0.572359   -0.200904   -0.207153   \n",
       "50%      0.378476    0.280858   -0.413709   -0.009325   -0.014983   \n",
       "75%      0.789955    0.705911   -0.002147    0.176065    0.158810   \n",
       "max      3.022886    1.989858   16.984373    6.723921   12.706115   \n",
       "\n",
       "          ...             z221    SubjectK  SubA_Phase1  SubI_Phase1  \\\n",
       "count     ...       917.000000  917.000000   917.000000   917.000000   \n",
       "mean      ...         0.077312    0.110142     0.020720     0.019629   \n",
       "std       ...         1.080093    0.313237     0.142522     0.138798   \n",
       "min       ...        -8.300370    0.000000     0.000000     0.000000   \n",
       "25%       ...         0.124962    0.000000     0.000000     0.000000   \n",
       "50%       ...         0.146043    0.000000     0.000000     0.000000   \n",
       "75%       ...         0.147118    0.000000     0.000000     0.000000   \n",
       "max       ...        12.218014    1.000000     1.000000     1.000000   \n",
       "\n",
       "       SubM_Phase1  SubA_Phase2  SubF_Phase2  SubI_Phase3  SubL_Phase3  \\\n",
       "count   917.000000   917.000000   917.000000   917.000000   917.000000   \n",
       "mean      0.018539     0.018539     0.010905     0.035987     0.018539   \n",
       "std       0.134963     0.134963     0.103913     0.186359     0.134963   \n",
       "min       0.000000     0.000000     0.000000     0.000000     0.000000   \n",
       "25%       0.000000     0.000000     0.000000     0.000000     0.000000   \n",
       "50%       0.000000     0.000000     0.000000     0.000000     0.000000   \n",
       "75%       0.000000     0.000000     0.000000     0.000000     0.000000   \n",
       "max       1.000000     1.000000     1.000000     1.000000     1.000000   \n",
       "\n",
       "       SubL_Phase4  \n",
       "count   917.000000  \n",
       "mean      0.030534  \n",
       "std       0.172146  \n",
       "min       0.000000  \n",
       "25%       0.000000  \n",
       "50%       0.000000  \n",
       "75%       0.000000  \n",
       "max       1.000000  \n",
       "\n",
       "[8 rows x 289 columns]"
      ]
     },
     "execution_count": 27,
     "metadata": {},
     "output_type": "execute_result"
    }
   ],
   "source": [
    "bin_features = ['SubjectK', 'SubA_Phase1', 'SubI_Phase1', 'SubM_Phase1','SubA_Phase2','SubF_Phase2','SubI_Phase3','SubL_Phase3','SubL_Phase4']\n",
    "\n",
    "\n",
    "# SAVE THE BINARY COLUMNS\n",
    "X_train_binary = X_train[bin_features].reset_index(drop=True)\n",
    "X_test_binary = X_test[bin_features].reset_index(drop=True)\n",
    "test_output_binary = test_output[bin_features].reset_index(drop=True)\n",
    "\n",
    "\n",
    "# APPLY TRANSFORMS\n",
    "std_scale = StandardScaler().fit(X_train)\n",
    "X_train_std = std_scale.transform(X_train)\n",
    "X_test_std = std_scale.transform(X_test)\n",
    "X_train_std = pd.DataFrame(X_train_std, columns=X_train.columns)\n",
    "X_test_std = pd.DataFrame(X_test_std, columns=X_test.columns)\n",
    "\n",
    "\n",
    "#Also Standardize the OUTPUT TEST SET FOR LATER USE\n",
    "test_output_std = std_scale.transform(test_output)\n",
    "test_output_std = pd.DataFrame(test_output_std, columns=test_output.columns)\n",
    "\n",
    "# Restore the Binary column values\n",
    "X_train_std[bin_features] = X_train_binary\n",
    "X_test_std[bin_features] = X_test_binary\n",
    "test_output_std[bin_features] = test_output_binary\n",
    "\n",
    "# CHECK TO MAKE SURE THE VARIABLES ARE STANDARDIZED\n",
    "X_test_std.describe()\n"
   ]
  },
  {
   "cell_type": "markdown",
   "metadata": {},
   "source": [
    "<a id='pca'></a>\n",
    "## APPLY PCA TO REDUCE DIMENSION\n",
    "\n",
    "Apply PCA to reduce the number of dimensions.  \n",
    "Looking at the plot below, we can see that we are able to capture about 90% of the variance using 110 PCA components"
   ]
  },
  {
   "cell_type": "code",
   "execution_count": 184,
   "metadata": {},
   "outputs": [
    {
     "name": "stdout",
     "output_type": "stream",
     "text": [
      "(917, 110)\n",
      "(6214, 110)\n",
      "(917,)\n",
      "(6214,)\n",
      "(1732, 110)\n"
     ]
    },
    {
     "data": {
      "image/png": "[encoded data removed]",
      "text/plain": [
       "<Figure size 800x550 with 1 Axes>"
      ]
     },
     "metadata": {},
     "output_type": "display_data"
    }
   ],
   "source": [
    "PCA_components = 110\n",
    "\n",
    "X_train_std = X_train_std.apply(lambda x: pd.to_numeric(x,errors='ignore'))\n",
    "X_test_std = X_test_std.apply(lambda x: pd.to_numeric(x,errors='ignore'))\n",
    "test_output_std = test_output_std.apply(lambda x: pd.to_numeric(x,errors='ignore'))\n",
    "\n",
    "pca = PCA(n_components=PCA_components)\n",
    "X_train_PCA = pca.fit_transform(X_train_std)\n",
    "\n",
    "# Transform the test data using the same PCA dimensions\n",
    "X_test_PCA = pca.transform(X_test_std)\n",
    "\n",
    "#Also apply PCA to the OUTPUT TEST SET FOR LATER USE\n",
    "test_output_PCA = pca.transform(test_output_std)\n",
    "\n",
    "\n",
    "# https://etav.github.io/python/scikit_pca.html\n",
    "var=np.cumsum(np.round(pca.explained_variance_ratio_, decimals=3)*100)\n",
    "plt.ylabel('% Variance Explained')\n",
    "plt.xlabel('# of Features')\n",
    "plt.title('PCA Analysis')\n",
    "plt.ylim(30,100.5)\n",
    "plt.style.context('seaborn-whitegrid')\n",
    "plt.plot(var)\n",
    "\n",
    "print(X_test_PCA.shape)\n",
    "print(X_train_PCA.shape)\n",
    "print(y_test.shape)\n",
    "print(y_train.shape)\n",
    "print(test_output_PCA.shape)\n"
   ]
  },
  {
   "cell_type": "markdown",
   "metadata": {},
   "source": [
    "<a id='variables'></a>\n",
    "# VARIABLES THAT CAN BE USED WHILE BUILDING THE MODEL \n",
    "## UNBALANCED DATA\n",
    "X_train_unbalanced   \n",
    "X_test_unbalanced   \n",
    "y_train_unbalanced   \n",
    "y_test_unbalanced   \n",
    "\n",
    "Data Set on which output file is to be generated on:\n",
    "test_output\n",
    "\n",
    "## BALANCED DATA\n",
    "if BALANCE is set to 'TRUE'  \n",
    "X_train   \n",
    "y_train   \n",
    "\n",
    "OR \n",
    "\n",
    "X_train_balanced   \n",
    "y_train_balanced[0]  \n",
    "\n",
    "Only need to train on balanced data. no need to balance any test data set  \n",
    "Data Set on which output file is to be generated on:  \n",
    "test_output\n",
    "\n",
    "## STANDARDIZED DATA \n",
    "if BALANCE is set to 'TRUE' the standardizatoin will happen on BALANCED DATA  \n",
    "\n",
    "X_train_std   \n",
    "X_test_std \n",
    "\n",
    "Data Set on which output file is to be generated on:  \n",
    "test_output_std  \n",
    "\n",
    "\n",
    "\n",
    "## DIMENSIONS REDUCED USING PCA\n",
    "if BALANCE is set to 'TRUE' the standardizatoin & PCA will be applied on BALANCED DATA  \n",
    "\n",
    "X_train_PCA  \n",
    "X_test_PCA  \n",
    "\n",
    "Data Set on which output file is to be generated on:  \n",
    "test_output_PCA"
   ]
  },
  {
   "cell_type": "markdown",
   "metadata": {},
   "source": [
    "<a id='xgboost'></a>\n",
    "## XGBOOST:    \n",
    "We first used gridsearchcv to find some good values for xgboost parameters based on 3 folds cross validation.\n",
    "Then we fit an xgboost model with the best parameters found by cross validation and get a score on the test set.\n",
    "XGBoost also provides some ranking of important features. We plan on trying to use these important features again in the stacked model to see if they can help improve the scores."
   ]
  },
  {
   "cell_type": "markdown",
   "metadata": {},
   "source": [
    "#### USE GRIDSEARCHCV TO DETERMINE n_estimators & learning rate for XGBOOST"
   ]
  },
  {
   "cell_type": "code",
   "execution_count": 185,
   "metadata": {},
   "outputs": [
    {
     "data": {
      "text/plain": [
       "{'learning_rate': [0.1, 0.5, 0.01, 0.05, 0.001],\n",
       " 'n_estimators': [900, 1000, 1100]}"
      ]
     },
     "execution_count": 185,
     "metadata": {},
     "output_type": "execute_result"
    }
   ],
   "source": [
    "# DO A GRIDSEARCH ON XGBOOST MODEL\n",
    "n_estimators = [ 900, 1000, 1100]  \n",
    "learning_rate = [0.1, 0.5, 0.01, 0.05,0.001]  \n",
    "\n",
    "param_grid1 = {'learning_rate':learning_rate, 'n_estimators':n_estimators}\n",
    "param_grid1"
   ]
  },
  {
   "cell_type": "code",
   "execution_count": null,
   "metadata": {},
   "outputs": [
    {
     "name": "stderr",
     "output_type": "stream",
     "text": [
      "C:\\Users\\shkhan2\\AppData\\Local\\Continuum\\anaconda3\\lib\\site-packages\\sklearn\\model_selection\\_split.py:1943: FutureWarning: You should specify a value for 'cv' instead of relying on the default value. The default value will change from 3 to 5 in version 0.22.\n",
      "  warnings.warn(CV_WARNING, FutureWarning)\n",
      "[Parallel(n_jobs=1)]: Using backend SequentialBackend with 1 concurrent workers.\n"
     ]
    },
    {
     "name": "stdout",
     "output_type": "stream",
     "text": [
      "Fitting 3 folds for each of 15 candidates, totalling 45 fits\n"
     ]
    }
   ],
   "source": [
    "model = xgb.XGBClassifier()\n",
    "grid_search = GridSearchCV(model,param_grid=param_grid1, scoring=\"roc_auc\", verbose=1 )\n",
    "grid_search.fit(X_train, y_train) #Default 3 folds"
   ]
  },
  {
   "cell_type": "code",
   "execution_count": null,
   "metadata": {},
   "outputs": [],
   "source": [
    "print(grid_search.best_score_)\n",
    "print(grid_search.best_params_)  "
   ]
  },
  {
   "cell_type": "code",
   "execution_count": 28,
   "metadata": {
    "scrolled": true
   },
   "outputs": [
    {
     "name": "stdout",
     "output_type": "stream",
     "text": [
      "Number of mislabeled points out of a total 917 testing points : 324\n",
      "('The hit rate on the testing set: ', 0.6466739367502726)\n",
      "\n",
      "precision = 0.905, recall = 0.645, specificity= 0.656 F1 = 0.753, accuracy = 0.647\n",
      "\n",
      "*********** AUC for ROC = 0.742 *********************\n",
      "\n",
      "          0         1\n",
      "0  0.266846  0.498168\n",
      "1  0.140162  0.904762 \n",
      "\n",
      "The confusion matrix on the testing set: \n",
      "     0    1\n",
      "0  99  272\n",
      "1  52  494\n"
     ]
    },
    {
     "data": {
      "image/png": "[encoded data removed]",
      "text/plain": [
       "<Figure size 500x500 with 2 Axes>"
      ]
     },
     "metadata": {},
     "output_type": "display_data"
    }
   ],
   "source": [
    "# From the Above scores I pick 700 as the optimal number of estimators.\n",
    "xgb_model = xgb.XGBClassifier(seed=82, n_estimators=1200 , max_depth=4, colsample_bylevel=0.8,\n",
    "                        colsample_bytree=0.7,learning_rate=0.01, reg_lambda=0.1 , \n",
    "                        scale_pos_weight = 0.18357862, eval_metric='auc') #missing = -999\n",
    "\n",
    "print_stats(xgb_model, X_train, X_test, y_train, y_test)\n"
   ]
  },
  {
   "cell_type": "code",
   "execution_count": 29,
   "metadata": {},
   "outputs": [],
   "source": [
    "xgb_model.fit(X_train, y_train, eval_metric='auc')\n",
    "_ = generate_file (xgb_model, test_output, \"xgb_model.csv\") "
   ]
  },
  {
   "cell_type": "markdown",
   "metadata": {},
   "source": [
    "#### GET FEATURE IMPORTANCE FROM XGBOOST"
   ]
  },
  {
   "cell_type": "code",
   "execution_count": 30,
   "metadata": {},
   "outputs": [
    {
     "data": {
      "image/png": "[encoded data removed]",
      "text/plain": [
       "<Figure size 800x550 with 1 Axes>"
      ]
     },
     "metadata": {},
     "output_type": "display_data"
    }
   ],
   "source": [
    "feature_importance(xgb_model.feature_importances_, X_train.columns, 20)"
   ]
  },
  {
   "cell_type": "markdown",
   "metadata": {},
   "source": [
    "<a id='logistic'></a>\n",
    "## LOGISTIC REGRESSION:\n",
    "\n",
    "Tune Logistic regression parameters using 3 fold cross validation and fit the best model to get a score on the test set."
   ]
  },
  {
   "cell_type": "code",
   "execution_count": null,
   "metadata": {},
   "outputs": [],
   "source": [
    "lr_params = [\n",
    "  {'penalty': ['l1'], 'solver': [ 'liblinear',  'saga']},\n",
    "  {'penalty': ['l2'], 'solver': ['newton-cg', 'lbfgs', 'sag']},\n",
    " ]\n",
    "\n",
    "lr = LogisticRegression(max_iter = 500)  \n",
    "grid = GridSearchCV(lr, param_grid = lr_params, cv=3, scoring = 'roc_auc', verbose=1)\n",
    "grid.fit(X_train_PCA, y_train)\n",
    "\n",
    "print(grid.best_score_)\n",
    "print(grid.best_params_)  "
   ]
  },
  {
   "cell_type": "code",
   "execution_count": 31,
   "metadata": {},
   "outputs": [
    {
     "name": "stdout",
     "output_type": "stream",
     "text": [
      "Number of mislabeled points out of a total 917 testing points : 282\n",
      "('The hit rate on the testing set: ', 0.6924754634678298)\n",
      "\n",
      "precision = 0.922, recall = 0.691, specificity= 0.702 F1 = 0.790, accuracy = 0.692\n",
      "\n",
      "*********** AUC for ROC = 0.763 *********************\n",
      "\n",
      "          0         1\n",
      "0  0.309038  0.412892\n",
      "1  0.131195  0.921603 \n",
      "\n",
      "The confusion matrix on the testing set: \n",
      "      0    1\n",
      "0  106  237\n",
      "1   45  529\n"
     ]
    },
    {
     "data": {
      "image/png": "[encoded data removed]",
      "text/plain": [
       "<Figure size 500x500 with 2 Axes>"
      ]
     },
     "metadata": {},
     "output_type": "display_data"
    }
   ],
   "source": [
    "# USE THE BEST PARAMS FOUND BY GRID SEARCH\n",
    "lr = LogisticRegression(penalty='l2', solver = 'newton-cg', max_iter= 500)\n",
    "print_stats(lr, X_train, X_test, y_train, y_test)"
   ]
  },
  {
   "cell_type": "code",
   "execution_count": 32,
   "metadata": {},
   "outputs": [],
   "source": [
    "# Create output file for predictions\n",
    "lr.fit(X_train, y_train)\n",
    "_ = generate_file(lr, test_output, \"logistic_reg.csv\")"
   ]
  },
  {
   "cell_type": "markdown",
   "metadata": {},
   "source": [
    "<a id='nb'></a>\n",
    "## NAIVE BAYES\n",
    "Trying to tune the parameters for naive bayes did not yield better scores so we stick with the default values for the naive bayes hyper parameters: var_smoothing."
   ]
  },
  {
   "cell_type": "code",
   "execution_count": 33,
   "metadata": {},
   "outputs": [
    {
     "name": "stdout",
     "output_type": "stream",
     "text": [
      "Number of mislabeled points out of a total 917 testing points : 407\n",
      "('The hit rate on the testing set: ', 0.5561613958560524)\n",
      "\n",
      "precision = 0.933, recall = 0.505, specificity= 0.815 F1 = 0.655, accuracy = 0.556\n",
      "\n",
      "*********** AUC for ROC = 0.672 *********************\n",
      "\n",
      "          0         1\n",
      "0  0.245020  0.913253\n",
      "1  0.055777  0.932530 \n",
      "\n",
      "The confusion matrix on the testing set: \n",
      "      0    1\n",
      "0  123  379\n",
      "1   28  387\n"
     ]
    },
    {
     "data": {
      "image/png": "[encoded data removed]",
      "text/plain": [
       "<Figure size 500x500 with 2 Axes>"
      ]
     },
     "metadata": {},
     "output_type": "display_data"
    },
    {
     "data": {
      "text/plain": [
       "GaussianNB(priors=None, var_smoothing=1e-09)"
      ]
     },
     "execution_count": 33,
     "metadata": {},
     "output_type": "execute_result"
    }
   ],
   "source": [
    "gnb = GaussianNB()\n",
    "\n",
    "print_stats(gnb, X_train, X_test, y_train, y_test)\n",
    "\n",
    "gnb.fit(X_train, y_train)"
   ]
  },
  {
   "cell_type": "markdown",
   "metadata": {},
   "source": [
    "<a id='rf'></a>\n",
    "## RANDOM FOREST\n",
    "\n",
    "We use the same method as above for random forest hyper parameter tuning using 3 fold cross validation and then fit the best possible model for random forest and test using the test data. \n",
    "\n",
    "An interesting observation with random forest is that it performs very poorly at correctly identifying the 0s (low specificity). So we will have to be careful about including it in an ensemble of models at a later stage.\n",
    "\n",
    "Like XGBoost random forest also gives as a feature importance metric which might be useful at a later stage if we want to look at models using only the most important features"
   ]
  },
  {
   "cell_type": "code",
   "execution_count": null,
   "metadata": {},
   "outputs": [],
   "source": [
    "# DO A GRIDSEARCH ON XGBOOST MODEL\n",
    "n_estimators = [ 50, 60, 70, 80, 90]  \n",
    "max_features = [5, 6]  \n",
    "min_samples_leaf = [10,50, 200,500]\n",
    "\n",
    "param_RandomForest = {'n_estimators':n_estimators, 'max_features':max_features, 'min_samples_leaf': min_samples_leaf}\n",
    "param_RandomForest"
   ]
  },
  {
   "cell_type": "code",
   "execution_count": null,
   "metadata": {},
   "outputs": [],
   "source": [
    "model = RandomForestClassifier()\n",
    "grid_search = GridSearchCV(model, param_grid=param_RandomForest, scoring=\"roc_auc\", verbose=1 )\n",
    "grid_search.fit(X_train, y_train) #Default 3 folds\n",
    "print(grid_search.best_score_)\n",
    "print(grid_search.best_params_)  "
   ]
  },
  {
   "cell_type": "code",
   "execution_count": 34,
   "metadata": {},
   "outputs": [
    {
     "name": "stdout",
     "output_type": "stream",
     "text": [
      "Number of mislabeled points out of a total 917 testing points : 156\n",
      "('The hit rate on the testing set: ', 0.8298800436205016)\n",
      "\n",
      "precision = 0.860, recall = 0.952, specificity= 0.212 F1 = 0.903, accuracy = 0.830\n",
      "\n",
      "*********** AUC for ROC = 0.688 *********************\n",
      "\n",
      "          0         1\n",
      "0  0.463768  0.043632\n",
      "1  1.724638  0.859670 \n",
      "\n",
      "The confusion matrix on the testing set: \n",
      "      0    1\n",
      "0   32   37\n",
      "1  119  729\n"
     ]
    },
    {
     "data": {
      "image/png": "[encoded data removed]",
      "text/plain": [
       "<Figure size 500x500 with 2 Axes>"
      ]
     },
     "metadata": {},
     "output_type": "display_data"
    },
    {
     "data": {
      "text/plain": [
       "RandomForestClassifier(bootstrap=True, class_weight=None, criterion='gini',\n",
       "            max_depth=None, max_features=10, max_leaf_nodes=None,\n",
       "            min_impurity_decrease=0.0, min_impurity_split=None,\n",
       "            min_samples_leaf=10, min_samples_split=2,\n",
       "            min_weight_fraction_leaf=0.0, n_estimators=80, n_jobs=None,\n",
       "            oob_score=False, random_state=None, verbose=0,\n",
       "            warm_start=False)"
      ]
     },
     "execution_count": 34,
     "metadata": {},
     "output_type": "execute_result"
    }
   ],
   "source": [
    "rf = RandomForestClassifier(max_features = 10, n_estimators = 80, min_samples_leaf =10)\n",
    "print_stats(rf, X_train, X_test, y_train, y_test)\n",
    "rf.fit(X_train,y_train)"
   ]
  },
  {
   "cell_type": "markdown",
   "metadata": {},
   "source": [
    "## GET FEATURE IMPORTANCE FROM RANDOM FOREST"
   ]
  },
  {
   "cell_type": "code",
   "execution_count": 35,
   "metadata": {},
   "outputs": [
    {
     "data": {
      "image/png": "[encoded data removed]",
      "text/plain": [
       "<Figure size 800x550 with 1 Axes>"
      ]
     },
     "metadata": {},
     "output_type": "display_data"
    }
   ],
   "source": [
    "rf.feature_importances_\n",
    "feature_importance(rf.feature_importances_, X_train.columns, 20)"
   ]
  },
  {
   "cell_type": "markdown",
   "metadata": {},
   "source": [
    "<a id='lda'></a>\n",
    "## LDA"
   ]
  },
  {
   "cell_type": "code",
   "execution_count": 72,
   "metadata": {},
   "outputs": [
    {
     "name": "stderr",
     "output_type": "stream",
     "text": [
      "C:\\Users\\shkhan2\\AppData\\Local\\Continuum\\anaconda3\\lib\\site-packages\\sklearn\\discriminant_analysis.py:388: UserWarning: Variables are collinear.\n",
      "  warnings.warn(\"Variables are collinear.\")\n"
     ]
    },
    {
     "name": "stdout",
     "output_type": "stream",
     "text": [
      "Number of mislabeled points out of a total 917 testing points : 285\n",
      "('The hit rate on the testing set: ', 0.6892039258451472)\n",
      "\n",
      "precision = 0.932, recall = 0.678, specificity= 0.748 F1 = 0.785, accuracy = 0.689\n",
      "\n",
      "*********** AUC for ROC = 0.780 *********************\n",
      "\n",
      "          0         1\n",
      "0  0.313889  0.443447\n",
      "1  0.105556  0.931777 \n",
      "\n",
      "The confusion matrix on the testing set: \n",
      "      0    1\n",
      "0  113  247\n",
      "1   38  519\n"
     ]
    },
    {
     "data": {
      "image/png": "[encoded data removed]",
      "text/plain": [
       "<Figure size 500x500 with 2 Axes>"
      ]
     },
     "metadata": {},
     "output_type": "display_data"
    },
    {
     "name": "stderr",
     "output_type": "stream",
     "text": [
      "C:\\Users\\shkhan2\\AppData\\Local\\Continuum\\anaconda3\\lib\\site-packages\\sklearn\\discriminant_analysis.py:388: UserWarning: Variables are collinear.\n",
      "  warnings.warn(\"Variables are collinear.\")\n"
     ]
    },
    {
     "data": {
      "text/plain": [
       "LinearDiscriminantAnalysis(n_components=None, priors=None, shrinkage=None,\n",
       "              solver='svd', store_covariance=False, tol=0.0001)"
      ]
     },
     "execution_count": 72,
     "metadata": {},
     "output_type": "execute_result"
    }
   ],
   "source": [
    "lda = LinearDiscriminantAnalysis()\n",
    "print_stats(lda, X_train_std, X_test_std, y_train, y_test)"
   ]
  },
  {
   "cell_type": "code",
   "execution_count": 117,
   "metadata": {},
   "outputs": [
    {
     "name": "stderr",
     "output_type": "stream",
     "text": [
      "C:\\Users\\shkhan2\\AppData\\Local\\Continuum\\anaconda3\\lib\\site-packages\\sklearn\\discriminant_analysis.py:388: UserWarning: Variables are collinear.\n",
      "  warnings.warn(\"Variables are collinear.\")\n",
      "C:\\Users\\shkhan2\\AppData\\Local\\Continuum\\anaconda3\\lib\\site-packages\\sklearn\\discriminant_analysis.py:510: RuntimeWarning: overflow encountered in exp\n",
      "  np.exp(prob, prob)\n"
     ]
    }
   ],
   "source": [
    "lda.fit(X_train_std, y_train)\n",
    "_ = generate_file(lda, test_output, \"lda.csv\")"
   ]
  },
  {
   "cell_type": "markdown",
   "metadata": {},
   "source": [
    "<a id='svm'></a>\n",
    "## SUPPORT VECTOR MACHINE"
   ]
  },
  {
   "cell_type": "code",
   "execution_count": 73,
   "metadata": {},
   "outputs": [
    {
     "name": "stderr",
     "output_type": "stream",
     "text": [
      "C:\\Users\\shkhan2\\AppData\\Local\\Continuum\\anaconda3\\lib\\site-packages\\sklearn\\svm\\base.py:196: FutureWarning: The default value of gamma will change from 'auto' to 'scale' in version 0.22 to account better for unscaled features. Set gamma explicitly to 'auto' or 'scale' to avoid this warning.\n",
      "  \"avoid this warning.\", FutureWarning)\n"
     ]
    },
    {
     "name": "stdout",
     "output_type": "stream",
     "text": [
      "Number of mislabeled points out of a total 917 testing points : 210\n",
      "('The hit rate on the testing set: ', 0.7709923664122137)\n",
      "\n",
      "precision = 0.877, recall = 0.845, specificity= 0.397 F1 = 0.860, accuracy = 0.771\n",
      "\n",
      "*********** AUC for ROC = 0.670 *********************\n",
      "\n",
      "          0         1\n",
      "0  0.335196  0.161247\n",
      "1  0.508380  0.876694 \n",
      "\n",
      "The confusion matrix on the testing set: \n",
      "     0    1\n",
      "0  60  119\n",
      "1  91  647\n"
     ]
    },
    {
     "data": {
      "image/png": "[encoded data removed]",
      "text/plain": [
       "<Figure size 500x500 with 2 Axes>"
      ]
     },
     "metadata": {},
     "output_type": "display_data"
    },
    {
     "name": "stderr",
     "output_type": "stream",
     "text": [
      "C:\\Users\\shkhan2\\AppData\\Local\\Continuum\\anaconda3\\lib\\site-packages\\sklearn\\svm\\base.py:196: FutureWarning: The default value of gamma will change from 'auto' to 'scale' in version 0.22 to account better for unscaled features. Set gamma explicitly to 'auto' or 'scale' to avoid this warning.\n",
      "  \"avoid this warning.\", FutureWarning)\n"
     ]
    },
    {
     "data": {
      "text/plain": [
       "SVC(C=1.0, cache_size=200, class_weight=None, coef0=0.0,\n",
       "  decision_function_shape='ovr', degree=3, gamma='auto_deprecated',\n",
       "  kernel='rbf', max_iter=-1, probability=True, random_state=None,\n",
       "  shrinking=True, tol=0.001, verbose=False)"
      ]
     },
     "execution_count": 73,
     "metadata": {},
     "output_type": "execute_result"
    }
   ],
   "source": [
    "svm = SVC(probability=True)\n",
    "print_stats(svm, X_train_std, X_test_std, y_train, y_test)\n",
    "svm.fit(X_train_std, y_train)"
   ]
  },
  {
   "cell_type": "markdown",
   "metadata": {},
   "source": [
    "<a id='stack'></a>\n",
    "## STACK THE RESULTS OF DIFFERENT MODELS\n",
    "\n",
    "After collecting the results on our test set for each model that we tried out, we tried to use a second level model to converge the probabilities generated by each model and different combinations of models. The results on the test set for different combinations are below:\n",
    "\n",
    "\n",
    "|                                     |       |             |        |       | \n",
    "|-------------------------------------|-------|-------------|--------|-------| \n",
    "| MODEL                               | AUC   | SPECIFICITY | RECALL | F1    | \n",
    "| XGBOOST                             | 0.74  | 0.656       | 0.645  | 0.753 | \n",
    "| Logistic Regression                 | 0.76  | 0.702       | 0.691  | 0.79  | \n",
    "| Naïve Bayes                         | 0.67  | 0.815       | 0.505  | 0.655 | \n",
    "| Random Forest                       | 0.688 | 0.212       | 0.953  | 0.9   | \n",
    "| LDA                                 | 0.78  | 0.748       | 0.678  | 0.785 | \n",
    "| SVM                                 | 0.677 | 0.397       | 0.845  | 0.86  | \n",
    "|                                     |       |             |        |       | \n",
    "| STACK (LDA):                        |       |             |        |       | \n",
    "| LDA, XGBOOST, BIN                   | 0.73  | 0.59        | 0.78   | 0.84  | \n",
    "| XGBoost, NaiveBayes, LDA            | 0.775 | 0.661       | 0.747  | 0.82  | \n",
    "| XGBOOST, Logistic, Naïve Bayes, LDA | 0.77  | 0.61        | 0.74   | 0.817 | \n",
    "\n",
    "\n",
    "We can see that some models like Random Forest scores very well on recall (predicting 1s correctly) but doesnt do that well on specificity (predicting 0s) correctly. Whereas Naive Bayes has the opposite scoring charectaristics. We tried to put models that have very different scoring characteristics in the stacked model to get the best possible score on the test set. \n",
    "\n",
    "Apart from stacking we also tried to feed the catagorical variables to the second level model.  \n",
    "\n",
    "We also looked at the most important features from XGBoost and Random Forests and tried to feed those features into the second level model to see if they would help improve the scores.  \n",
    "\n",
    "But, none of the above attempts yeilded better results so the INCLUDE_BIN and INCLUDE_TOP_FEATURES variables are set to 'False'\n",
    "below\n"
   ]
  },
  {
   "cell_type": "code",
   "execution_count": 164,
   "metadata": {},
   "outputs": [
    {
     "name": "stderr",
     "output_type": "stream",
     "text": [
      "C:\\Users\\shkhan2\\AppData\\Local\\Continuum\\anaconda3\\lib\\site-packages\\sklearn\\discriminant_analysis.py:510: RuntimeWarning: overflow encountered in exp\n",
      "  np.exp(prob, prob)\n",
      "C:\\Users\\shkhan2\\AppData\\Local\\Continuum\\anaconda3\\lib\\site-packages\\sklearn\\discriminant_analysis.py:510: RuntimeWarning: overflow encountered in exp\n",
      "  np.exp(prob, prob)\n"
     ]
    },
    {
     "name": "stdout",
     "output_type": "stream",
     "text": [
      "(6214, 3)\n",
      "(6214,)\n",
      "1    3107\n",
      "0    3107\n",
      "Name: 0, dtype: int64\n",
      "(917, 3)\n",
      "(917,)\n",
      "1    766\n",
      "0    151\n",
      "Name: output, dtype: int64\n",
      "(1732, 3)\n"
     ]
    },
    {
     "name": "stderr",
     "output_type": "stream",
     "text": [
      "C:\\Users\\shkhan2\\AppData\\Local\\Continuum\\anaconda3\\lib\\site-packages\\sklearn\\discriminant_analysis.py:510: RuntimeWarning: overflow encountered in exp\n",
      "  np.exp(prob, prob)\n"
     ]
    }
   ],
   "source": [
    "def create_base_predictions (list_data):\n",
    "    return_list = []\n",
    "    for X, X_std, X_PCA in list_data:\n",
    "        base_predictions = pd.DataFrame( \n",
    "          {'XGBoost': list(xgb_model.predict_proba(X)[:,1]),\n",
    "           'LogisticR': list(lr.predict_proba(X)[:,1]),\n",
    "           #'NaiveBayes': list(gnb.predict_proba(X)[:,1]),\n",
    "           #'RandomForeset': list(rf.predict_proba(X)[:,1]),\n",
    "           'LDA': list(lda.predict_proba(X)[:,1]),\n",
    "           #'SVM': list(svm.predict_proba(X_std)[:,1])\n",
    "          })\n",
    "        return_list.append(base_predictions)\n",
    "    return return_list[0], return_list[1], return_list[2]\n",
    " \n",
    "# A list of 3 data sets : Training, Test, Test_output(output is the test data on which the submit predictions have to be made)\n",
    "data_list = [(X_train, X_train_std, X_train_PCA), \\\n",
    "             (X_test, X_test_std, X_test_PCA), \\\n",
    "             (test_output, test_output_std, test_output_PCA)]\n",
    "                                                                                    \n",
    "training_preds, test_preds, output_preds = create_base_predictions(data_list)\n",
    "\n",
    "INCLUDE_BIN = False\n",
    "\n",
    "INCLUDE_TOP_FEATURES = False\n",
    "TOP_FEATURES = ['x42', 'SubjectK', 'z28', 'x28']\n",
    "TOP_FEATURES = ['x42','SubjectK']\n",
    "\n",
    "\n",
    "if INCLUDE_BIN: \n",
    "# Add back the binary features to see if results improve\n",
    "    training_preds[bin_features] = X_train_binary\n",
    "    test_preds[bin_features] = X_test_binary\n",
    "    output_preds[bin_features] = test_output_binary\n",
    "    \n",
    "    \n",
    "if INCLUDE_TOP_FEATURES:\n",
    "    training_preds[TOP_FEATURES ] = X_train[TOP_FEATURES ].reset_index(drop=True)\n",
    "    test_preds[TOP_FEATURES ] = X_test[TOP_FEATURES ].reset_index(drop=True)\n",
    "    output_preds[TOP_FEATURES ] = test_output[TOP_FEATURES ].reset_index(drop=True)   \n",
    "\n",
    "print(training_preds.shape)\n",
    "print(y_train.shape)\n",
    "print(y_train.value_counts())\n",
    "print(test_preds.shape)\n",
    "print(y_test.shape)\n",
    "print(y_test.value_counts())\n",
    "print(output_preds.shape)"
   ]
  },
  {
   "cell_type": "markdown",
   "metadata": {},
   "source": [
    "\n",
    "## TRY OUT DIFFERENT TYPES MODELS IN THE SECOND LEVEL AND COMPARE SCORES"
   ]
  },
  {
   "cell_type": "code",
   "execution_count": 165,
   "metadata": {},
   "outputs": [
    {
     "name": "stdout",
     "output_type": "stream",
     "text": [
      "Number of mislabeled points out of a total 917 testing points : 172\n",
      "('The hit rate on the testing set: ', 0.8124318429661941)\n",
      "\n",
      "precision = 0.861, recall = 0.924, specificity= 0.245 F1 = 0.892, accuracy = 0.812\n",
      "\n",
      "*********** AUC for ROC = 0.741 *********************\n",
      "\n",
      "          0         1\n",
      "0  0.389474  0.070560\n",
      "1  1.200000  0.861314 \n",
      "\n",
      "The confusion matrix on the testing set: \n",
      "      0    1\n",
      "0   37   58\n",
      "1  114  708\n"
     ]
    },
    {
     "data": {
      "image/png": "[encoded data removed]",
      "text/plain": [
       "<Figure size 500x500 with 2 Axes>"
      ]
     },
     "metadata": {},
     "output_type": "display_data"
    },
    {
     "data": {
      "text/plain": [
       "XGBClassifier(base_score=0.5, booster='gbtree', colsample_bylevel=1,\n",
       "       colsample_bytree=0.8, gamma=0.9, learning_rate=0.01,\n",
       "       max_delta_step=0, max_depth=6, min_child_weight=2, missing=None,\n",
       "       n_estimators=700, n_jobs=1, nthread=-1, objective='binary:logistic',\n",
       "       random_state=0, reg_alpha=0, reg_lambda=1, scale_pos_weight=1,\n",
       "       seed=None, silent=True, subsample=0.8)"
      ]
     },
     "execution_count": 165,
     "metadata": {},
     "output_type": "execute_result"
    }
   ],
   "source": [
    "gbm_stack = xgb.XGBClassifier(\n",
    " learning_rate = 0.01,\n",
    " n_estimators= 700,\n",
    " max_depth= 6,  \n",
    " min_child_weight= 2,\n",
    " gamma=0.9,   #Regularization parameter                     \n",
    " subsample=0.8,\n",
    " colsample_bytree=0.8,\n",
    " objective= 'binary:logistic',\n",
    " nthread= -1,\n",
    " scale_pos_weight=1)\n",
    "\n",
    "\n",
    "rf_stack = RandomForestClassifier(max_features = 1, n_estimators = 50, min_samples_leaf =50)\n",
    "gnb_stack = GaussianNB()\n",
    "lda_stack = LinearDiscriminantAnalysis()\n",
    "lg_stack = LogisticRegression()\n",
    "\n",
    "# CHANGE THIS TO CHOOSE A DIFFERENT STACKING MODEL\n",
    "STACK_MODEL = gbm_stack\n",
    "\n",
    "# PRINT STATS AND FIT ON THE TRAINING SET\n",
    "print_stats(STACK_MODEL, training_preds, test_preds, y_train, y_test)\n",
    "STACK_MODEL.fit(training_preds,y_train)"
   ]
  },
  {
   "cell_type": "code",
   "execution_count": 143,
   "metadata": {},
   "outputs": [],
   "source": [
    "_ = generate_file (STACK_MODEL, output_preds, \"stack.csv\") "
   ]
  },
  {
   "cell_type": "code",
   "execution_count": null,
   "metadata": {},
   "outputs": [],
   "source": []
  }
 ],
 "metadata": {
  "kernelspec": {
   "display_name": "Python 3",
   "language": "python",
   "name": "python3"
  },
  "language_info": {
   "codemirror_mode": {
    "name": "ipython",
    "version": 3
   },
   "file_extension": ".py",
   "mimetype": "text/x-python",
   "name": "python",
   "nbconvert_exporter": "python",
   "pygments_lexer": "ipython3",
   "version": "3.6.5"
  }
 },
 "nbformat": 4,
 "nbformat_minor": 2
}
