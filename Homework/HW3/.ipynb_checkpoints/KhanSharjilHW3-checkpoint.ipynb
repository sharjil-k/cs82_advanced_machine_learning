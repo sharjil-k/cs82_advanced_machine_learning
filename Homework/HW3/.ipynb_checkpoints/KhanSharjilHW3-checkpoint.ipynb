{
 "cells": [
  {
   "cell_type": "markdown",
   "metadata": {},
   "source": [
    "### CSCI E-82  Homework 3\n",
    "\n",
    "### Due by 10/22/18 at 11:59pm EST to the Canvas dropbox\n",
    "\n",
    "## This is an individual homework so there should be no collaboration for this homework.\n",
    "\n",
    "\n",
    "### Under each problem, we have a place for you to write the answer, or write runnable code that will produce the answer.  Show your work.\n",
    "-----------\n"
   ]
  },
  {
   "cell_type": "markdown",
   "metadata": {
    "collapsed": true
   },
   "source": [
    "## Your Name: "
   ]
  },
  {
   "cell_type": "markdown",
   "metadata": {},
   "source": [
    "Sharjil Khan"
   ]
  },
  {
   "cell_type": "code",
   "execution_count": 83,
   "metadata": {},
   "outputs": [],
   "source": [
    "import pandas as pd\n",
    "import numpy as np\n",
    "from sklearn.datasets import load_boston\n",
    "import matplotlib.pyplot as plt\n",
    "%matplotlib inline\n",
    "import seaborn as sns\n",
    "\n",
    "import random\n",
    "import statsmodels.api as sm\n",
    "import itertools\n",
    "\n",
    "from sklearn import datasets\n",
    "from sklearn.linear_model import LinearRegression\n",
    "\n",
    "\n",
    "from sklearn.linear_model import LogisticRegression\n",
    "from statsmodels.tsa.stattools import adfuller\n",
    "from statsmodels.graphics.tsaplots import plot_acf, plot_pacf\n",
    "from statsmodels.tsa.stattools import acf, pacf\n",
    "from statsmodels.tsa.arima_model import ARIMA\n",
    "import statsmodels.api as sm\n",
    "from statsmodels.graphics.api import qqplot\n",
    "\n",
    "import math "
   ]
  },
  {
   "cell_type": "markdown",
   "metadata": {},
   "source": [
    "## Problem 1 Climate Change (30 points) \n",
    "\n",
    "Scientists and politicians are often at odds on the topic of whether global warming is real and debate the various causes. This problem uses \"globalWarm3.csv\" data.  This is a real data set."
   ]
  },
  {
   "cell_type": "code",
   "execution_count": 84,
   "metadata": {},
   "outputs": [
    {
     "data": {
      "text/html": [
       "<div>\n",
       "<style scoped>\n",
       "    .dataframe tbody tr th:only-of-type {\n",
       "        vertical-align: middle;\n",
       "    }\n",
       "\n",
       "    .dataframe tbody tr th {\n",
       "        vertical-align: top;\n",
       "    }\n",
       "\n",
       "    .dataframe thead th {\n",
       "        text-align: right;\n",
       "    }\n",
       "</style>\n",
       "<table border=\"1\" class=\"dataframe\">\n",
       "  <thead>\n",
       "    <tr style=\"text-align: right;\">\n",
       "      <th></th>\n",
       "      <th>Year</th>\n",
       "      <th>Temp</th>\n",
       "      <th>CO2</th>\n",
       "      <th>Solar</th>\n",
       "      <th>Transmission</th>\n",
       "      <th>IceShelf</th>\n",
       "    </tr>\n",
       "  </thead>\n",
       "  <tbody>\n",
       "    <tr>\n",
       "      <th>count</th>\n",
       "      <td>31.000000</td>\n",
       "      <td>31.000000</td>\n",
       "      <td>31.000000</td>\n",
       "      <td>31.000000</td>\n",
       "      <td>30.000000</td>\n",
       "      <td>31.000000</td>\n",
       "    </tr>\n",
       "    <tr>\n",
       "      <th>mean</th>\n",
       "      <td>1995.000000</td>\n",
       "      <td>34.419355</td>\n",
       "      <td>361.731935</td>\n",
       "      <td>1365.893548</td>\n",
       "      <td>0.921081</td>\n",
       "      <td>6.556452</td>\n",
       "    </tr>\n",
       "    <tr>\n",
       "      <th>std</th>\n",
       "      <td>9.092121</td>\n",
       "      <td>18.014391</td>\n",
       "      <td>14.903299</td>\n",
       "      <td>0.405475</td>\n",
       "      <td>0.019902</td>\n",
       "      <td>0.929274</td>\n",
       "    </tr>\n",
       "    <tr>\n",
       "      <th>min</th>\n",
       "      <td>1980.000000</td>\n",
       "      <td>4.000000</td>\n",
       "      <td>338.570000</td>\n",
       "      <td>1365.250000</td>\n",
       "      <td>0.853067</td>\n",
       "      <td>4.300000</td>\n",
       "    </tr>\n",
       "    <tr>\n",
       "      <th>25%</th>\n",
       "      <td>1987.500000</td>\n",
       "      <td>21.000000</td>\n",
       "      <td>349.880000</td>\n",
       "      <td>1365.575000</td>\n",
       "      <td>0.924842</td>\n",
       "      <td>6.090000</td>\n",
       "    </tr>\n",
       "    <tr>\n",
       "      <th>50%</th>\n",
       "      <td>1995.000000</td>\n",
       "      <td>33.000000</td>\n",
       "      <td>360.020000</td>\n",
       "      <td>1365.860000</td>\n",
       "      <td>0.929517</td>\n",
       "      <td>6.560000</td>\n",
       "    </tr>\n",
       "    <tr>\n",
       "      <th>75%</th>\n",
       "      <td>2002.500000</td>\n",
       "      <td>51.500000</td>\n",
       "      <td>373.230000</td>\n",
       "      <td>1366.255000</td>\n",
       "      <td>0.930138</td>\n",
       "      <td>7.350000</td>\n",
       "    </tr>\n",
       "    <tr>\n",
       "      <th>max</th>\n",
       "      <td>2010.000000</td>\n",
       "      <td>63.000000</td>\n",
       "      <td>388.130000</td>\n",
       "      <td>1366.510000</td>\n",
       "      <td>0.932367</td>\n",
       "      <td>7.880000</td>\n",
       "    </tr>\n",
       "  </tbody>\n",
       "</table>\n",
       "</div>"
      ],
      "text/plain": [
       "              Year       Temp         CO2        Solar  Transmission  \\\n",
       "count    31.000000  31.000000   31.000000    31.000000     30.000000   \n",
       "mean   1995.000000  34.419355  361.731935  1365.893548      0.921081   \n",
       "std       9.092121  18.014391   14.903299     0.405475      0.019902   \n",
       "min    1980.000000   4.000000  338.570000  1365.250000      0.853067   \n",
       "25%    1987.500000  21.000000  349.880000  1365.575000      0.924842   \n",
       "50%    1995.000000  33.000000  360.020000  1365.860000      0.929517   \n",
       "75%    2002.500000  51.500000  373.230000  1366.255000      0.930138   \n",
       "max    2010.000000  63.000000  388.130000  1366.510000      0.932367   \n",
       "\n",
       "        IceShelf  \n",
       "count  31.000000  \n",
       "mean    6.556452  \n",
       "std     0.929274  \n",
       "min     4.300000  \n",
       "25%     6.090000  \n",
       "50%     6.560000  \n",
       "75%     7.350000  \n",
       "max     7.880000  "
      ]
     },
     "execution_count": 84,
     "metadata": {},
     "output_type": "execute_result"
    }
   ],
   "source": [
    "GlobalWarm_df = pd.read_csv('globalWarm3.csv')\n",
    "GlobalWarm_df.describe()\n",
    "#GlobalWarm_df.head()\n"
   ]
  },
  {
   "cell_type": "code",
   "execution_count": 211,
   "metadata": {},
   "outputs": [
    {
     "data": {
      "text/html": [
       "<div>\n",
       "<style scoped>\n",
       "    .dataframe tbody tr th:only-of-type {\n",
       "        vertical-align: middle;\n",
       "    }\n",
       "\n",
       "    .dataframe tbody tr th {\n",
       "        vertical-align: top;\n",
       "    }\n",
       "\n",
       "    .dataframe thead th {\n",
       "        text-align: right;\n",
       "    }\n",
       "</style>\n",
       "<table border=\"1\" class=\"dataframe\">\n",
       "  <thead>\n",
       "    <tr style=\"text-align: right;\">\n",
       "      <th></th>\n",
       "      <th>Year</th>\n",
       "      <th>Temp</th>\n",
       "      <th>CO2</th>\n",
       "      <th>Solar</th>\n",
       "      <th>Transmission</th>\n",
       "      <th>IceShelf</th>\n",
       "    </tr>\n",
       "  </thead>\n",
       "  <tbody>\n",
       "    <tr>\n",
       "      <th>count</th>\n",
       "      <td>30.000000</td>\n",
       "      <td>30.000000</td>\n",
       "      <td>30.000000</td>\n",
       "      <td>30.000000</td>\n",
       "      <td>30.000000</td>\n",
       "      <td>30.000000</td>\n",
       "    </tr>\n",
       "    <tr>\n",
       "      <th>mean</th>\n",
       "      <td>1994.966667</td>\n",
       "      <td>34.600000</td>\n",
       "      <td>361.724667</td>\n",
       "      <td>1365.906667</td>\n",
       "      <td>0.921081</td>\n",
       "      <td>6.512333</td>\n",
       "    </tr>\n",
       "    <tr>\n",
       "      <th>std</th>\n",
       "      <td>9.245626</td>\n",
       "      <td>18.293771</td>\n",
       "      <td>15.158018</td>\n",
       "      <td>0.405661</td>\n",
       "      <td>0.019902</td>\n",
       "      <td>0.911542</td>\n",
       "    </tr>\n",
       "    <tr>\n",
       "      <th>min</th>\n",
       "      <td>1980.000000</td>\n",
       "      <td>4.000000</td>\n",
       "      <td>338.570000</td>\n",
       "      <td>1365.250000</td>\n",
       "      <td>0.853067</td>\n",
       "      <td>4.300000</td>\n",
       "    </tr>\n",
       "    <tr>\n",
       "      <th>25%</th>\n",
       "      <td>1987.250000</td>\n",
       "      <td>20.000000</td>\n",
       "      <td>349.300000</td>\n",
       "      <td>1365.582500</td>\n",
       "      <td>0.924842</td>\n",
       "      <td>6.070000</td>\n",
       "    </tr>\n",
       "    <tr>\n",
       "      <th>50%</th>\n",
       "      <td>1994.500000</td>\n",
       "      <td>34.000000</td>\n",
       "      <td>359.080000</td>\n",
       "      <td>1365.890000</td>\n",
       "      <td>0.929517</td>\n",
       "      <td>6.555000</td>\n",
       "    </tr>\n",
       "    <tr>\n",
       "      <th>75%</th>\n",
       "      <td>2002.750000</td>\n",
       "      <td>53.250000</td>\n",
       "      <td>373.840000</td>\n",
       "      <td>1366.292500</td>\n",
       "      <td>0.930138</td>\n",
       "      <td>7.232500</td>\n",
       "    </tr>\n",
       "    <tr>\n",
       "      <th>max</th>\n",
       "      <td>2010.000000</td>\n",
       "      <td>63.000000</td>\n",
       "      <td>388.130000</td>\n",
       "      <td>1366.510000</td>\n",
       "      <td>0.932367</td>\n",
       "      <td>7.850000</td>\n",
       "    </tr>\n",
       "  </tbody>\n",
       "</table>\n",
       "</div>"
      ],
      "text/plain": [
       "              Year       Temp         CO2        Solar  Transmission  \\\n",
       "count    30.000000  30.000000   30.000000    30.000000     30.000000   \n",
       "mean   1994.966667  34.600000  361.724667  1365.906667      0.921081   \n",
       "std       9.245626  18.293771   15.158018     0.405661      0.019902   \n",
       "min    1980.000000   4.000000  338.570000  1365.250000      0.853067   \n",
       "25%    1987.250000  20.000000  349.300000  1365.582500      0.924842   \n",
       "50%    1994.500000  34.000000  359.080000  1365.890000      0.929517   \n",
       "75%    2002.750000  53.250000  373.840000  1366.292500      0.930138   \n",
       "max    2010.000000  63.000000  388.130000  1366.510000      0.932367   \n",
       "\n",
       "        IceShelf  \n",
       "count  30.000000  \n",
       "mean    6.512333  \n",
       "std     0.911542  \n",
       "min     4.300000  \n",
       "25%     6.070000  \n",
       "50%     6.555000  \n",
       "75%     7.232500  \n",
       "max     7.850000  "
      ]
     },
     "execution_count": 211,
     "metadata": {},
     "output_type": "execute_result"
    }
   ],
   "source": [
    "# We see that Transmission has a missing data. So we drop that row from the data set.\n",
    "GlobalWarm_df.dropna(inplace=True,axis=0)\n",
    "GlobalWarm_df.describe()"
   ]
  },
  {
   "cell_type": "markdown",
   "metadata": {},
   "source": [
    "### Problem 1a \n",
    "Plot a scatter plot of the following variables in a lattice: Temp, CO2, Solar, Transmission, and IceShelf. \n",
    "    \n",
    "The variables represent the following:\n",
    "- Temp = annual surface temperature measured in $1/100^{\\circ} C$ over the 1950-1980 mean.\n",
    "- Solar = annual mean intensity of sunlight piercing the atmosphere \n",
    "- CO2 = annual average fraction CO2 in atmosphere (#molecules/#molecules of dry air) \n",
    "- IceShelf = sea ice in 1MM square miles hypothesized to reflect heat \n",
    "- Transmission = volcanic MLO transmission data where eruptions release greenhouse gases but also decrease the temperature \n",
    "\n",
    "\n"
   ]
  },
  {
   "cell_type": "code",
   "execution_count": 212,
   "metadata": {},
   "outputs": [
    {
     "name": "stdout",
     "output_type": "stream",
     "text": [
      "['Temp', 'CO2', 'Solar', 'Transmission', 'IceShelf']\n"
     ]
    },
    {
     "data": {
      "image/png": "[encoded data removed]",
      "text/plain": [
       "<Figure size 1080x1080 with 5 Axes>"
      ]
     },
     "metadata": {},
     "output_type": "display_data"
    }
   ],
   "source": [
    "vars =list(GlobalWarm_df.columns)\n",
    "vars.remove('Year')\n",
    "print(vars)\n",
    "\n",
    "plt.subplots(2,2,figsize=(15,15))\n",
    "\n",
    "i = 1\n",
    "for var in vars:\n",
    "    plt.subplot(3,2,i)\n",
    "    plt.title(var + \" vs Year\", fontweight='bold')\n",
    "    plt.scatter(GlobalWarm_df['Year'], GlobalWarm_df[var])\n",
    "    plt.xlabel(\"Year\")\n",
    "    plt.ylabel(var)\n",
    "    i=i+1\n",
    "    \n",
    "plt.tight_layout\n",
    "plt.show()\n"
   ]
  },
  {
   "cell_type": "markdown",
   "metadata": {},
   "source": [
    "### Problem 1b \n",
    "Compute a multiple linear regression model of log(Temp) against the other variables. Note that since there are limited number of annual measurements, you cannot run all combinations of variables. In fact, you can only do complete pairwise interactions. Be sure to remove the non-significant variables while still maintaining the hierarchy principle in your final model. You do not need to show full diagnostics for the different models that you try, but do show the equations that you tried."
   ]
  },
  {
   "cell_type": "code",
   "execution_count": 213,
   "metadata": {},
   "outputs": [
    {
     "name": "stdout",
     "output_type": "stream",
     "text": [
      "                            OLS Regression Results                            \n",
      "==============================================================================\n",
      "Dep. Variable:                   Temp   R-squared:                       0.808\n",
      "Model:                            OLS   Adj. R-squared:                  0.777\n",
      "Method:                 Least Squares   F-statistic:                     26.23\n",
      "Date:                Wed, 17 Oct 2018   Prob (F-statistic):           1.26e-08\n",
      "Time:                        00:36:09   Log-Likelihood:                -8.8358\n",
      "No. Observations:                  30   AIC:                             27.67\n",
      "Df Residuals:                      25   BIC:                             34.68\n",
      "Df Model:                           4                                         \n",
      "Covariance Type:            nonrobust                                         \n",
      "======================================================================================\n",
      "                         coef    std err          t      P>|t|      [0.025      0.975]\n",
      "--------------------------------------------------------------------------------------\n",
      "Intercept           -1.44e+05   4.09e+04     -3.518      0.002   -2.28e+05   -5.97e+04\n",
      "CO2                    0.0324      0.006      5.671      0.000       0.021       0.044\n",
      "Solar                105.4178     29.969      3.518      0.002      43.695     167.140\n",
      "Transmission        1.546e+05   4.42e+04      3.499      0.002    6.36e+04    2.46e+05\n",
      "Solar:Transmission  -113.1256     32.337     -3.498      0.002    -179.725     -46.526\n",
      "==============================================================================\n",
      "Omnibus:                       13.185   Durbin-Watson:                   2.237\n",
      "Prob(Omnibus):                  0.001   Jarque-Bera (JB):               15.055\n",
      "Skew:                          -1.121   Prob(JB):                     0.000538\n",
      "Kurtosis:                       5.649   Cond. No.                     1.75e+09\n",
      "==============================================================================\n",
      "\n",
      "Warnings:\n",
      "[1] Standard Errors assume that the covariance matrix of the errors is correctly specified.\n",
      "[2] The smallest eigenvalue is 3.49e-11. This might indicate that there are\n",
      "strong multicollinearity problems or that the design matrix is singular.\n"
     ]
    }
   ],
   "source": [
    "df_GlobalWarm_log = GlobalWarm_df.copy()\n",
    "df_GlobalWarm_log['Temp'] = np.log(df_GlobalWarm_log['Temp']) \n",
    "\n",
    "#f = 'Temp ~ Year + CO2 +  Solar + Transmission + IceShelf + \\\n",
    "#     Year*CO2 + Year*Solar + Year*Transmission + Year*IceShelf + \\\n",
    "#     CO2*Solar + CO2*Transmission + CO2*IceShelf + \\\n",
    "#     Solar*Transmission + Solar*IceShelf + \\\n",
    "#     Transmission* IceShelf'\n",
    "\n",
    "#f = 'Temp ~ CO2 +  Solar + Transmission + IceShelf' \n",
    "#f = 'Temp ~ CO2 + IceShelf' \n",
    "#f = 'Temp ~ CO2 +  Solar + Transmission' \n",
    "\n",
    "#f = 'Temp ~ CO2 +  Solar + Transmission + IceShelf + \\\n",
    "#     CO2*Solar + CO2*Transmission + CO2*IceShelf + \\\n",
    "#     Solar*Transmission + Solar*IceShelf + \\\n",
    "#     Transmission* IceShelf'\n",
    "\n",
    "#FINAL EQUATION\n",
    "f = 'Temp ~ CO2 + Solar + Transmission + Solar*Transmission ' \n",
    "\n",
    "model = sm.OLS.from_formula(formula=f , data = df_GlobalWarm_log)\n",
    "results = model.fit()\n",
    "print(results.summary())"
   ]
  },
  {
   "cell_type": "markdown",
   "metadata": {},
   "source": [
    "### Final Regression Equation to find Log Temp\n",
    "LogTemp = -144000 + (0.0324 X CO2) + (105.42 X Solar) + (154600 X Transmission) -(113.3 X (Solar * Transmission))"
   ]
  },
  {
   "cell_type": "markdown",
   "metadata": {},
   "source": [
    "### Problem 1c\n",
    "Run the diagnostics to determine whether your final model is appropriate."
   ]
  },
  {
   "cell_type": "code",
   "execution_count": 214,
   "metadata": {},
   "outputs": [
    {
     "data": {
      "image/png": "[encoded data removed]",
      "text/plain": [
       "<Figure size 432x288 with 1 Axes>"
      ]
     },
     "metadata": {},
     "output_type": "display_data"
    },
    {
     "data": {
      "image/png": "[encoded data removed]",
      "text/plain": [
       "<Figure size 432x288 with 1 Axes>"
      ]
     },
     "metadata": {},
     "output_type": "display_data"
    },
    {
     "data": {
      "image/png": "[encoded data removed]",
      "text/plain": [
       "<Figure size 432x288 with 1 Axes>"
      ]
     },
     "metadata": {},
     "output_type": "display_data"
    }
   ],
   "source": [
    "plt.title(\"Histogram of residuals\", fontweight='bold')\n",
    "plt.xlabel('Residuals')\n",
    "plt.ylabel('Frequency')\n",
    "plt.xlim(-2,2)\n",
    "plt.grid(True)\n",
    "plt.hist(results.resid)\n",
    "plt.show()\n",
    "\n",
    "fig = sm.qqplot(results.resid, fit=True, line='r')\n",
    "fig.suptitle(\"QQ Plot\", fontweight='bold')\n",
    "plt.show()\n",
    "\n",
    "plt.title(\"Residuals vs Fitted plot\", fontweight='bold')\n",
    "plt.plot(results.fittedvalues,  results.resid,'o')\n",
    "plt.hlines(xmin=np.min(results.fittedvalues),xmax=np.max(results.fittedvalues),y=0)\n",
    "plt.xlabel('Fitted Values')\n",
    "plt.ylabel('Residuals')\n",
    "plt.show()\n"
   ]
  },
  {
   "cell_type": "markdown",
   "metadata": {},
   "source": [
    "### Problem 1d \n",
    "\n",
    "Describe in what way the model diagnostics are appropriate or not.  Be specific."
   ]
  },
  {
   "cell_type": "markdown",
   "metadata": {},
   "source": [
    "There are several factors that we can glean from the model diagnostics above.\n",
    "\n",
    "1. From the Stats Model Summary:  \n",
    "   The r-squared value is 0.80 which is better than most of the other formulas that were tried out.  \n",
    "   The highest p-values for all the variables and interaction terms that were kept is 0.002 which is a lot lower than 0.05. This means all the predictors used in the final model is statistically significant.  \n",
    "   AIC and BIC values of 27.67 & 64.68 are also sufficiently higher than the other formulas that were tried out.  \n",
    "   Durbin-Watson statistic of 2.237 if close to 2 which means there is very little auto correlation between the variables.\n",
    "   \n",
    "2. From the Histogram of residuals we can conclude that the residuals are very close to normaly distributed around the mean which means there is not pattern in the residuals.  \n",
    "3. From the QQ Plot we dont see the core part as close to the theoretical values from the normal distribution as we would have liked, but given we have very few data points to go by, it is fairly close to the line.  \n",
    "4. The residuals VS Fitted plot also shows the residuals are pretty evenly distributed around 0 with only one point significantly outside the range of the others.  \n",
    "\n"
   ]
  },
  {
   "cell_type": "markdown",
   "metadata": {},
   "source": [
    "### Problem 1e\n",
    "\n",
    "Using your knowledge of statistics, what would you conclude about climate change?"
   ]
  },
  {
   "cell_type": "markdown",
   "metadata": {},
   "source": []
  },
  {
   "cell_type": "markdown",
   "metadata": {},
   "source": [
    "## Problem 2  Matrix model for regression (8 points)\n",
    "\n",
    "### Problem 2a  \n",
    "Using the features that you deemed important in Problem 1, construct the matrix forms of the appropriate variables.  Specifically you will need a matrix X that has the features used in your solution and a Y = logTemp.  Print the head of each of these."
   ]
  },
  {
   "cell_type": "code",
   "execution_count": 220,
   "metadata": {},
   "outputs": [
    {
     "name": "stdout",
     "output_type": "stream",
     "text": [
      "Y:\n",
      "0    2.944439\n",
      "1    3.258097\n",
      "2    1.386294\n",
      "3    3.218876\n",
      "4    2.197225\n",
      "Name: Temp, dtype: float64\n",
      "\n",
      "X Matrix:\n",
      "      CO2    Solar  Transmission  const  SolarXTransmission\n",
      "0  338.57  1366.51      0.929667      1         1270.398797\n",
      "1  339.92  1366.51      0.929767      1         1270.535448\n",
      "2  341.30  1366.16      0.853067      1         1165.425558\n",
      "3  342.71  1366.18      0.897717      1         1226.442556\n",
      "4  344.24  1365.71      0.916492      1         1251.661835\n"
     ]
    }
   ],
   "source": [
    "Y = np.log(GlobalWarm_df['Temp'])\n",
    "Y.shape\n",
    "X = GlobalWarm_df.drop(['Temp','Year', 'IceShelf'], axis =1)\n",
    "X = X.assign(const = 1)\n",
    "X['SolarXTransmission'] = X['Solar'] * X['Transmission']\n",
    "print(\"Y:\")\n",
    "print(Y.head())\n",
    "print(\"\\nX Matrix:\")\n",
    "print(X.head())\n"
   ]
  },
  {
   "cell_type": "markdown",
   "metadata": {},
   "source": [
    "### Problem 2b  \n",
    "Use the matrix calculation for the pseudo-inverse provided in lecture.  "
   ]
  },
  {
   "cell_type": "code",
   "execution_count": 221,
   "metadata": {},
   "outputs": [
    {
     "name": "stdout",
     "output_type": "stream",
     "text": [
      "[ 3.23557175e-02  1.05430610e+02  1.54582621e+05 -1.44058151e+05\n",
      " -1.13139406e+02]\n"
     ]
    }
   ],
   "source": [
    "#X = np.array(X)\n",
    "#Y = np.array(Y)\n",
    "#print(X)\n",
    "#print(np.dot(X.T,X))\n",
    "\n",
    "Betas = np.dot(np.dot(np.linalg.inv(np.dot(X.T,X)), X.T),Y)\n",
    "print(Betas)"
   ]
  },
  {
   "cell_type": "markdown",
   "metadata": {},
   "source": [
    "## Problem 2c\n",
    "How does the answer in Problem 2b compare to that of 1b?"
   ]
  },
  {
   "cell_type": "markdown",
   "metadata": {},
   "source": [
    "According to 2b the co-efficients are :  \n",
    "Const : -1.44058151e+05  \n",
    "CO2: 3.23557175e-02  \n",
    "Solar: 1.05430610e+02  \n",
    "Transmission: 1.54582621e+05  \n",
    "Solar X Transmission: -1.13139406e+02  \n",
    "\n",
    "The above co-efficients are the same as the ones found by the OLS model in 1b\n"
   ]
  },
  {
   "cell_type": "markdown",
   "metadata": {},
   "source": [
    "## Problem 3 Time Series Modeling (40 points)\n",
    "\n",
    "Use the data timeSeries4.csv for this problem. The data are monthly reports of production.\n",
    "\n",
    "### Problem 3a\n",
    "Plot the data and perform an exploratory analysis on the raw time series file. Comment on any trends, outliers, seasonality, whether it's stationary, etc."
   ]
  },
  {
   "cell_type": "code",
   "execution_count": null,
   "metadata": {},
   "outputs": [],
   "source": []
  },
  {
   "cell_type": "markdown",
   "metadata": {},
   "source": [
    "### Problem 3b\n",
    "Using your knowledge of ACF, PACF and other diagnostics, walk us through the selection of an appropriate time series model for the data.  We are interested in both the result and your logical journey to reach that model.  That journey should begin with observations from the ACF and PACF pattern."
   ]
  },
  {
   "cell_type": "code",
   "execution_count": null,
   "metadata": {},
   "outputs": [],
   "source": []
  },
  {
   "cell_type": "markdown",
   "metadata": {},
   "source": [
    "### Problem 3c\n",
    "Apply and show the appropriate diagnostics to the model to assert that it is valid.  Include not just a plot but your interpretation of the plot in your justification."
   ]
  },
  {
   "cell_type": "code",
   "execution_count": null,
   "metadata": {},
   "outputs": [],
   "source": []
  },
  {
   "cell_type": "markdown",
   "metadata": {},
   "source": [
    "## Problem 4 (15 points)\n",
    "\n",
    "For a time series data set, a (2,1,1) was derived with the following coefficients:\n",
    "\n",
    "const   -0.3916      \n",
    "ar1      0.9172      \n",
    "ar2     -0.2390      \n",
    "ma1      0.4012      \n",
    "\n",
    "The last 5 points are -104.6, -102.1, -103.2, -109.8, -115.7\n",
    "\n",
    "Compute the next 3 data points by writing the calculation in python.  Note that this will require not only plugging values into the equation, but also taking the d term of the (p,d,q) ARIMA model into account.  We do not need a general form or function--just the required calculations."
   ]
  },
  {
   "cell_type": "code",
   "execution_count": null,
   "metadata": {},
   "outputs": [],
   "source": []
  },
  {
   "cell_type": "markdown",
   "metadata": {},
   "source": [
    "## Problem 5 (2 points)\n",
    "How many hours did this homework take you?  The answer to this question will not affect your grade."
   ]
  },
  {
   "cell_type": "markdown",
   "metadata": {},
   "source": []
  },
  {
   "cell_type": "markdown",
   "metadata": {
    "collapsed": true
   },
   "source": [
    "## Last step (5 points)\n",
    "\n",
    "Save this notebook as LastnameFirstnameHW3.ipynb such as BradyTom.ipynb. Create a pdf of this notebook named similarly. Submit both the python notebook and the pdf version to the Canvas dropbox. We require both versions."
   ]
  }
 ],
 "metadata": {
  "anaconda-cloud": {},
  "kernelspec": {
   "display_name": "Python 3",
   "language": "python",
   "name": "python3"
  },
  "language_info": {
   "codemirror_mode": {
    "name": "ipython",
    "version": 3
   },
   "file_extension": ".py",
   "mimetype": "text/x-python",
   "name": "python",
   "nbconvert_exporter": "python",
   "pygments_lexer": "ipython3",
   "version": "3.6.5"
  }
 },
 "nbformat": 4,
 "nbformat_minor": 1
}
