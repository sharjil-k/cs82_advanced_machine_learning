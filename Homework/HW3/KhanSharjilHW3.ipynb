{
 "cells": [
  {
   "cell_type": "markdown",
   "metadata": {},
   "source": [
    "### CSCI E-82  Homework 3\n",
    "\n",
    "### Due by 10/22/18 at 11:59pm EST to the Canvas dropbox\n",
    "\n",
    "## This is an individual homework so there should be no collaboration for this homework.\n",
    "\n",
    "\n",
    "### Under each problem, we have a place for you to write the answer, or write runnable code that will produce the answer.  Show your work.\n",
    "-----------\n"
   ]
  },
  {
   "cell_type": "markdown",
   "metadata": {
    "collapsed": true
   },
   "source": [
    "## Your Name: "
   ]
  },
  {
   "cell_type": "markdown",
   "metadata": {},
   "source": [
    "Sharjil Khan"
   ]
  },
  {
   "cell_type": "code",
   "execution_count": 62,
   "metadata": {},
   "outputs": [],
   "source": [
    "import pandas as pd\n",
    "import numpy as np\n",
    "from sklearn.datasets import load_boston\n",
    "import matplotlib.pyplot as plt\n",
    "%matplotlib inline\n",
    "import seaborn as sns\n",
    "\n",
    "import random\n",
    "import statsmodels.api as sm\n",
    "import itertools\n",
    "\n",
    "from sklearn import datasets\n",
    "from sklearn.linear_model import LinearRegression\n",
    "\n",
    "\n",
    "from sklearn.linear_model import LogisticRegression\n",
    "from statsmodels.tsa.stattools import adfuller\n",
    "from statsmodels.graphics.tsaplots import plot_acf, plot_pacf\n",
    "from statsmodels.tsa.stattools import acf, pacf\n",
    "from statsmodels.tsa.arima_model import ARIMA\n",
    "import statsmodels.api as sm\n",
    "from statsmodels.graphics.api import qqplot\n",
    "\n",
    "import math "
   ]
  },
  {
   "cell_type": "markdown",
   "metadata": {},
   "source": [
    "## Problem 1 Climate Change (30 points) \n",
    "\n",
    "Scientists and politicians are often at odds on the topic of whether global warming is real and debate the various causes. This problem uses \"globalWarm3.csv\" data.  This is a real data set."
   ]
  },
  {
   "cell_type": "code",
   "execution_count": 9,
   "metadata": {},
   "outputs": [
    {
     "data": {
      "text/html": [
       "<div>\n",
       "<style scoped>\n",
       "    .dataframe tbody tr th:only-of-type {\n",
       "        vertical-align: middle;\n",
       "    }\n",
       "\n",
       "    .dataframe tbody tr th {\n",
       "        vertical-align: top;\n",
       "    }\n",
       "\n",
       "    .dataframe thead th {\n",
       "        text-align: right;\n",
       "    }\n",
       "</style>\n",
       "<table border=\"1\" class=\"dataframe\">\n",
       "  <thead>\n",
       "    <tr style=\"text-align: right;\">\n",
       "      <th></th>\n",
       "      <th>Year</th>\n",
       "      <th>Temp</th>\n",
       "      <th>CO2</th>\n",
       "      <th>Solar</th>\n",
       "      <th>Transmission</th>\n",
       "      <th>IceShelf</th>\n",
       "    </tr>\n",
       "  </thead>\n",
       "  <tbody>\n",
       "    <tr>\n",
       "      <th>count</th>\n",
       "      <td>31.000000</td>\n",
       "      <td>31.000000</td>\n",
       "      <td>31.000000</td>\n",
       "      <td>31.000000</td>\n",
       "      <td>30.000000</td>\n",
       "      <td>31.000000</td>\n",
       "    </tr>\n",
       "    <tr>\n",
       "      <th>mean</th>\n",
       "      <td>1995.000000</td>\n",
       "      <td>34.419355</td>\n",
       "      <td>361.731935</td>\n",
       "      <td>1365.893548</td>\n",
       "      <td>0.921081</td>\n",
       "      <td>6.556452</td>\n",
       "    </tr>\n",
       "    <tr>\n",
       "      <th>std</th>\n",
       "      <td>9.092121</td>\n",
       "      <td>18.014391</td>\n",
       "      <td>14.903299</td>\n",
       "      <td>0.405475</td>\n",
       "      <td>0.019902</td>\n",
       "      <td>0.929274</td>\n",
       "    </tr>\n",
       "    <tr>\n",
       "      <th>min</th>\n",
       "      <td>1980.000000</td>\n",
       "      <td>4.000000</td>\n",
       "      <td>338.570000</td>\n",
       "      <td>1365.250000</td>\n",
       "      <td>0.853067</td>\n",
       "      <td>4.300000</td>\n",
       "    </tr>\n",
       "    <tr>\n",
       "      <th>25%</th>\n",
       "      <td>1987.500000</td>\n",
       "      <td>21.000000</td>\n",
       "      <td>349.880000</td>\n",
       "      <td>1365.575000</td>\n",
       "      <td>0.924842</td>\n",
       "      <td>6.090000</td>\n",
       "    </tr>\n",
       "    <tr>\n",
       "      <th>50%</th>\n",
       "      <td>1995.000000</td>\n",
       "      <td>33.000000</td>\n",
       "      <td>360.020000</td>\n",
       "      <td>1365.860000</td>\n",
       "      <td>0.929517</td>\n",
       "      <td>6.560000</td>\n",
       "    </tr>\n",
       "    <tr>\n",
       "      <th>75%</th>\n",
       "      <td>2002.500000</td>\n",
       "      <td>51.500000</td>\n",
       "      <td>373.230000</td>\n",
       "      <td>1366.255000</td>\n",
       "      <td>0.930138</td>\n",
       "      <td>7.350000</td>\n",
       "    </tr>\n",
       "    <tr>\n",
       "      <th>max</th>\n",
       "      <td>2010.000000</td>\n",
       "      <td>63.000000</td>\n",
       "      <td>388.130000</td>\n",
       "      <td>1366.510000</td>\n",
       "      <td>0.932367</td>\n",
       "      <td>7.880000</td>\n",
       "    </tr>\n",
       "  </tbody>\n",
       "</table>\n",
       "</div>"
      ],
      "text/plain": [
       "              Year       Temp         CO2        Solar  Transmission  \\\n",
       "count    31.000000  31.000000   31.000000    31.000000     30.000000   \n",
       "mean   1995.000000  34.419355  361.731935  1365.893548      0.921081   \n",
       "std       9.092121  18.014391   14.903299     0.405475      0.019902   \n",
       "min    1980.000000   4.000000  338.570000  1365.250000      0.853067   \n",
       "25%    1987.500000  21.000000  349.880000  1365.575000      0.924842   \n",
       "50%    1995.000000  33.000000  360.020000  1365.860000      0.929517   \n",
       "75%    2002.500000  51.500000  373.230000  1366.255000      0.930138   \n",
       "max    2010.000000  63.000000  388.130000  1366.510000      0.932367   \n",
       "\n",
       "        IceShelf  \n",
       "count  31.000000  \n",
       "mean    6.556452  \n",
       "std     0.929274  \n",
       "min     4.300000  \n",
       "25%     6.090000  \n",
       "50%     6.560000  \n",
       "75%     7.350000  \n",
       "max     7.880000  "
      ]
     },
     "execution_count": 9,
     "metadata": {},
     "output_type": "execute_result"
    }
   ],
   "source": [
    "GlobalWarm_df = pd.read_csv('globalWarm3.csv')\n",
    "GlobalWarm_df.describe()\n",
    "#GlobalWarm_df.head()\n"
   ]
  },
  {
   "cell_type": "markdown",
   "metadata": {},
   "source": [
    "### Problem 1a \n",
    "Plot a scatter plot of the following variables in a lattice: Temp, CO2, Solar, Transmission, and IceShelf. \n",
    "    \n",
    "The variables represent the following:\n",
    "- Temp = annual surface temperature measured in $1/100^{\\circ} C$ over the 1950-1980 mean.\n",
    "- Solar = annual mean intensity of sunlight piercing the atmosphere \n",
    "- CO2 = annual average fraction CO2 in atmosphere (#molecules/#molecules of dry air) \n",
    "- IceShelf = sea ice in 1MM square miles hypothesized to reflect heat \n",
    "- Transmission = volcanic MLO transmission data where eruptions release greenhouse gases but also decrease the temperature \n",
    "\n",
    "\n"
   ]
  },
  {
   "cell_type": "code",
   "execution_count": 52,
   "metadata": {},
   "outputs": [
    {
     "name": "stdout",
     "output_type": "stream",
     "text": [
      "['Temp', 'CO2', 'Solar', 'Transmission', 'IceShelf']\n"
     ]
    },
    {
     "data": {
      "image/png": "[encoded data removed]",
      "text/plain": [
       "<Figure size 1080x1080 with 5 Axes>"
      ]
     },
     "metadata": {},
     "output_type": "display_data"
    }
   ],
   "source": [
    "vars =list(GlobalWarm_df.columns)\n",
    "vars.remove('Year')\n",
    "print(vars)\n",
    "\n",
    "plt.subplots(2,2,figsize=(15,15))\n",
    "\n",
    "i = 1\n",
    "for var in vars:\n",
    "    plt.subplot(3,2,i)\n",
    "    plt.title(var + \" vs Year\", fontweight='bold')\n",
    "    plt.scatter(GlobalWarm_df['Year'], GlobalWarm_df[var])\n",
    "    plt.xlabel(\"Year\")\n",
    "    plt.ylabel(var)\n",
    "    i=i+1\n",
    "    \n",
    "plt.tight_layout\n",
    "plt.show()\n",
    "\n"
   ]
  },
  {
   "cell_type": "markdown",
   "metadata": {},
   "source": [
    "### Problem 1b \n",
    "Compute a multiple linear regression model of log(Temp) against the other variables. Note that since there are limited number of annual measurements, you cannot run all combinations of variables. In fact, you can only do complete pairwise interactions. Be sure to remove the non-significant variables while still maintaining the hierarchy principle in your final model. You do not need to show full diagnostics for the different models that you try, but do show the equations that you tried."
   ]
  },
  {
   "cell_type": "code",
   "execution_count": 82,
   "metadata": {},
   "outputs": [
    {
     "name": "stdout",
     "output_type": "stream",
     "text": [
      "                            OLS Regression Results                            \n",
      "==============================================================================\n",
      "Dep. Variable:                   Temp   R-squared:                       0.882\n",
      "Model:                            OLS   Adj. R-squared:                  0.755\n",
      "Method:                 Least Squares   F-statistic:                     6.965\n",
      "Date:                Tue, 16 Oct 2018   Prob (F-statistic):           0.000389\n",
      "Time:                        00:43:27   Log-Likelihood:                -1.5191\n",
      "No. Observations:                  30   AIC:                             35.04\n",
      "Df Residuals:                      14   BIC:                             57.46\n",
      "Df Model:                          15                                         \n",
      "Covariance Type:            nonrobust                                         \n",
      "=========================================================================================\n",
      "                            coef    std err          t      P>|t|      [0.025      0.975]\n",
      "-----------------------------------------------------------------------------------------\n",
      "Intercept              1.249e+06   1.75e+06      0.712      0.488   -2.51e+06    5.01e+06\n",
      "Year                   -814.7522   1018.394     -0.800      0.437   -2998.989    1369.485\n",
      "CO2                     633.7045    658.799      0.962      0.352    -779.279    2046.688\n",
      "Solar                  -910.6861   1297.652     -0.702      0.494   -3693.873    1872.501\n",
      "Transmission           1.395e+05   1.07e+05      1.309      0.212    -8.9e+04    3.68e+05\n",
      "IceShelf               1676.7245   1001.324      1.675      0.116    -470.902    3824.351\n",
      "Year:CO2                 -0.0019      0.002     -0.935      0.365      -0.006       0.002\n",
      "Year:Solar                0.5941      0.753      0.789      0.443      -1.021       2.210\n",
      "Year:Transmission         6.5733     24.722      0.266      0.794     -46.449      59.596\n",
      "Year:IceShelf            -0.2620      0.244     -1.076      0.300      -0.784       0.260\n",
      "CO2:Solar                -0.4588      0.487     -0.942      0.362      -1.503       0.585\n",
      "CO2:Transmission         -4.5467     16.569     -0.274      0.788     -40.084      30.991\n",
      "CO2:IceShelf              0.1397      0.145      0.963      0.352      -0.171       0.451\n",
      "Solar:Transmission     -110.4513     55.305     -1.997      0.066    -229.069       8.166\n",
      "Solar:IceShelf           -0.8775      0.598     -1.467      0.164      -2.160       0.405\n",
      "Transmission:IceShelf    -6.4096     12.766     -0.502      0.623     -33.789      20.970\n",
      "==============================================================================\n",
      "Omnibus:                        0.302   Durbin-Watson:                   2.317\n",
      "Prob(Omnibus):                  0.860   Jarque-Bera (JB):                0.020\n",
      "Skew:                           0.064   Prob(JB):                        0.990\n",
      "Kurtosis:                       3.007   Cond. No.                     7.39e+13\n",
      "==============================================================================\n",
      "\n",
      "Warnings:\n",
      "[1] Standard Errors assume that the covariance matrix of the errors is correctly specified.\n",
      "[2] The smallest eigenvalue is 4.5e-14. This might indicate that there are\n",
      "strong multicollinearity problems or that the design matrix is singular.\n"
     ]
    }
   ],
   "source": [
    "df_GlobalWarm_log = GlobalWarm_df.copy()\n",
    "df_GlobalWarm_log['Temp'] = np.log(df_GlobalWarm_log['Temp']) \n",
    "df_GlobalWarm_log.head()\n",
    "\n",
    "f = 'Temp ~ Year + CO2 +  Solar + Transmission + IceShelf + \\\n",
    "     Year*CO2 + Year*Solar + Year*Transmission + Year*IceShelf + \\\n",
    "     CO2*Solar + CO2*Transmission + CO2*IceShelf + \\\n",
    "     Solar*Transmission + Solar*IceShelf + \\\n",
    "     Transmission* IceShelf'\n",
    "model = sm.OLS.from_formula(formula=f , data = df_GlobalWarm_log)\n",
    "results = model.fit()\n",
    "print(results.summary())"
   ]
  },
  {
   "cell_type": "markdown",
   "metadata": {},
   "source": [
    "### Problem 1c\n",
    "Run the diagnostics to determine whether your final model is appropriate."
   ]
  },
  {
   "cell_type": "code",
   "execution_count": null,
   "metadata": {},
   "outputs": [],
   "source": []
  },
  {
   "cell_type": "markdown",
   "metadata": {},
   "source": [
    "### Problem 1d \n",
    "\n",
    "Describe in what way the model diagnostics are appropriate or not.  Be specific."
   ]
  },
  {
   "cell_type": "code",
   "execution_count": null,
   "metadata": {},
   "outputs": [],
   "source": []
  },
  {
   "cell_type": "markdown",
   "metadata": {},
   "source": [
    "### Problem 1e\n",
    "\n",
    "Using your knowledge of statistics, what would you conclude about climate change?"
   ]
  },
  {
   "cell_type": "code",
   "execution_count": null,
   "metadata": {},
   "outputs": [],
   "source": []
  },
  {
   "cell_type": "markdown",
   "metadata": {},
   "source": [
    "## Problem 2  Matrix model for regression (8 points)\n",
    "\n",
    "### Problem 2a  \n",
    "Using the features that you deemed important in Problem 1, construct the matrix forms of the appropriate variables.  Specifically you will need a matrix X that has the features used in your solution and a Y = logTemp.  Print the head of each of these."
   ]
  },
  {
   "cell_type": "code",
   "execution_count": null,
   "metadata": {},
   "outputs": [],
   "source": [
    "Y = GlobalWarm_df['Temp']\n",
    "Y.shape\n",
    "X = GlobalWarm_df.drop('Temp', axis =1)\n",
    "X.shape\n",
    "\n",
    "print(np.log(Y))"
   ]
  },
  {
   "cell_type": "markdown",
   "metadata": {},
   "source": [
    "### Problem 2b  \n",
    "Use the matrix calculation for the pseudo-inverse provided in lecture.  "
   ]
  },
  {
   "cell_type": "code",
   "execution_count": null,
   "metadata": {},
   "outputs": [],
   "source": []
  },
  {
   "cell_type": "markdown",
   "metadata": {},
   "source": [
    "## Problem 2c\n",
    "How does the answer in Problem 2b compare to that of 1b?"
   ]
  },
  {
   "cell_type": "code",
   "execution_count": null,
   "metadata": {},
   "outputs": [],
   "source": []
  },
  {
   "cell_type": "markdown",
   "metadata": {},
   "source": [
    "## Problem 3 Time Series Modeling (40 points)\n",
    "\n",
    "Use the data timeSeries4.csv for this problem. The data are monthly reports of production.\n",
    "\n",
    "### Problem 3a\n",
    "Plot the data and perform an exploratory analysis on the raw time series file. Comment on any trends, outliers, seasonality, whether it's stationary, etc."
   ]
  },
  {
   "cell_type": "code",
   "execution_count": null,
   "metadata": {},
   "outputs": [],
   "source": []
  },
  {
   "cell_type": "markdown",
   "metadata": {},
   "source": [
    "### Problem 3b\n",
    "Using your knowledge of ACF, PACF and other diagnostics, walk us through the selection of an appropriate time series model for the data.  We are interested in both the result and your logical journey to reach that model.  That journey should begin with observations from the ACF and PACF pattern."
   ]
  },
  {
   "cell_type": "code",
   "execution_count": null,
   "metadata": {},
   "outputs": [],
   "source": []
  },
  {
   "cell_type": "markdown",
   "metadata": {},
   "source": [
    "### Problem 3c\n",
    "Apply and show the appropriate diagnostics to the model to assert that it is valid.  Include not just a plot but your interpretation of the plot in your justification."
   ]
  },
  {
   "cell_type": "code",
   "execution_count": null,
   "metadata": {},
   "outputs": [],
   "source": []
  },
  {
   "cell_type": "markdown",
   "metadata": {},
   "source": [
    "## Problem 4 (15 points)\n",
    "\n",
    "For a time series data set, a (2,1,1) was derived with the following coefficients:\n",
    "\n",
    "const   -0.3916      \n",
    "ar1      0.9172      \n",
    "ar2     -0.2390      \n",
    "ma1      0.4012      \n",
    "\n",
    "The last 5 points are -104.6, -102.1, -103.2, -109.8, -115.7\n",
    "\n",
    "Compute the next 3 data points by writing the calculation in python.  Note that this will require not only plugging values into the equation, but also taking the d term of the (p,d,q) ARIMA model into account.  We do not need a general form or function--just the required calculations."
   ]
  },
  {
   "cell_type": "code",
   "execution_count": null,
   "metadata": {},
   "outputs": [],
   "source": []
  },
  {
   "cell_type": "markdown",
   "metadata": {},
   "source": [
    "## Problem 5 (2 points)\n",
    "How many hours did this homework take you?  The answer to this question will not affect your grade."
   ]
  },
  {
   "cell_type": "markdown",
   "metadata": {},
   "source": []
  },
  {
   "cell_type": "markdown",
   "metadata": {
    "collapsed": true
   },
   "source": [
    "## Last step (5 points)\n",
    "\n",
    "Save this notebook as LastnameFirstnameHW3.ipynb such as BradyTom.ipynb. Create a pdf of this notebook named similarly. Submit both the python notebook and the pdf version to the Canvas dropbox. We require both versions."
   ]
  }
 ],
 "metadata": {
  "anaconda-cloud": {},
  "kernelspec": {
   "display_name": "Python 3",
   "language": "python",
   "name": "python3"
  },
  "language_info": {
   "codemirror_mode": {
    "name": "ipython",
    "version": 3
   },
   "file_extension": ".py",
   "mimetype": "text/x-python",
   "name": "python",
   "nbconvert_exporter": "python",
   "pygments_lexer": "ipython3",
   "version": "3.6.5"
  }
 },
 "nbformat": 4,
 "nbformat_minor": 1
}
